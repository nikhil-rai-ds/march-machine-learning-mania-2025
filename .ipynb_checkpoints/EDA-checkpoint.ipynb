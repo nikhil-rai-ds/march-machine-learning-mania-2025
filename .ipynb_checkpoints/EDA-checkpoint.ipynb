{
 "cells": [
  {
   "cell_type": "markdown",
   "id": "1f9056c1-a545-4fe6-896b-017e0d5afbf3",
   "metadata": {},
   "source": [
    "# EDA"
   ]
  },
  {
   "cell_type": "markdown",
   "id": "0a80e568-6114-4518-82d8-bf36d4b61e70",
   "metadata": {
    "jp-MarkdownHeadingCollapsed": true
   },
   "source": [
    "## Dependencies"
   ]
  },
  {
   "cell_type": "code",
   "execution_count": 78,
   "id": "d4872e0f-8020-4536-be6b-8eda142681ec",
   "metadata": {},
   "outputs": [],
   "source": [
    "import pandas as pd\n",
    "import numpy as np\n",
    "\n",
    "import matplotlib.pyplot as plt\n",
    "import seaborn as sns"
   ]
  },
  {
   "cell_type": "markdown",
   "id": "303cb851-c3cc-448f-9bd0-b6cd1f8c44bc",
   "metadata": {
    "jp-MarkdownHeadingCollapsed": true
   },
   "source": [
    "## Data"
   ]
  },
  {
   "cell_type": "code",
   "execution_count": 79,
   "id": "0ca9b961-903a-4059-bba7-250302eb208b",
   "metadata": {},
   "outputs": [
    {
     "data": {
      "text/html": [
       "<div>\n",
       "<style scoped>\n",
       "    .dataframe tbody tr th:only-of-type {\n",
       "        vertical-align: middle;\n",
       "    }\n",
       "\n",
       "    .dataframe tbody tr th {\n",
       "        vertical-align: top;\n",
       "    }\n",
       "\n",
       "    .dataframe thead th {\n",
       "        text-align: right;\n",
       "    }\n",
       "</style>\n",
       "<table border=\"1\" class=\"dataframe\">\n",
       "  <thead>\n",
       "    <tr style=\"text-align: right;\">\n",
       "      <th></th>\n",
       "      <th>TeamID</th>\n",
       "      <th>TeamName</th>\n",
       "      <th>FirstD1Season</th>\n",
       "      <th>LastD1Season</th>\n",
       "    </tr>\n",
       "  </thead>\n",
       "  <tbody>\n",
       "    <tr>\n",
       "      <th>0</th>\n",
       "      <td>1101</td>\n",
       "      <td>Abilene Chr</td>\n",
       "      <td>2014</td>\n",
       "      <td>2025</td>\n",
       "    </tr>\n",
       "    <tr>\n",
       "      <th>1</th>\n",
       "      <td>1102</td>\n",
       "      <td>Air Force</td>\n",
       "      <td>1985</td>\n",
       "      <td>2025</td>\n",
       "    </tr>\n",
       "    <tr>\n",
       "      <th>2</th>\n",
       "      <td>1103</td>\n",
       "      <td>Akron</td>\n",
       "      <td>1985</td>\n",
       "      <td>2025</td>\n",
       "    </tr>\n",
       "    <tr>\n",
       "      <th>3</th>\n",
       "      <td>1104</td>\n",
       "      <td>Alabama</td>\n",
       "      <td>1985</td>\n",
       "      <td>2025</td>\n",
       "    </tr>\n",
       "    <tr>\n",
       "      <th>4</th>\n",
       "      <td>1105</td>\n",
       "      <td>Alabama A&amp;M</td>\n",
       "      <td>2000</td>\n",
       "      <td>2025</td>\n",
       "    </tr>\n",
       "  </tbody>\n",
       "</table>\n",
       "</div>"
      ],
      "text/plain": [
       "   TeamID     TeamName  FirstD1Season  LastD1Season\n",
       "0    1101  Abilene Chr           2014          2025\n",
       "1    1102    Air Force           1985          2025\n",
       "2    1103        Akron           1985          2025\n",
       "3    1104      Alabama           1985          2025\n",
       "4    1105  Alabama A&M           2000          2025"
      ]
     },
     "execution_count": 79,
     "metadata": {},
     "output_type": "execute_result"
    }
   ],
   "source": [
    "MTeams = pd.read_csv(\"../data/Mteams.csv\")\n",
    "MTeams.head()"
   ]
  },
  {
   "cell_type": "code",
   "execution_count": 80,
   "id": "c1ab7c81-7978-4f27-ad75-e0c3011bc34a",
   "metadata": {},
   "outputs": [
    {
     "data": {
      "text/html": [
       "<div>\n",
       "<style scoped>\n",
       "    .dataframe tbody tr th:only-of-type {\n",
       "        vertical-align: middle;\n",
       "    }\n",
       "\n",
       "    .dataframe tbody tr th {\n",
       "        vertical-align: top;\n",
       "    }\n",
       "\n",
       "    .dataframe thead th {\n",
       "        text-align: right;\n",
       "    }\n",
       "</style>\n",
       "<table border=\"1\" class=\"dataframe\">\n",
       "  <thead>\n",
       "    <tr style=\"text-align: right;\">\n",
       "      <th></th>\n",
       "      <th>TeamID</th>\n",
       "      <th>TeamName</th>\n",
       "    </tr>\n",
       "  </thead>\n",
       "  <tbody>\n",
       "    <tr>\n",
       "      <th>0</th>\n",
       "      <td>3101</td>\n",
       "      <td>Abilene Chr</td>\n",
       "    </tr>\n",
       "    <tr>\n",
       "      <th>1</th>\n",
       "      <td>3102</td>\n",
       "      <td>Air Force</td>\n",
       "    </tr>\n",
       "    <tr>\n",
       "      <th>2</th>\n",
       "      <td>3103</td>\n",
       "      <td>Akron</td>\n",
       "    </tr>\n",
       "    <tr>\n",
       "      <th>3</th>\n",
       "      <td>3104</td>\n",
       "      <td>Alabama</td>\n",
       "    </tr>\n",
       "    <tr>\n",
       "      <th>4</th>\n",
       "      <td>3105</td>\n",
       "      <td>Alabama A&amp;M</td>\n",
       "    </tr>\n",
       "  </tbody>\n",
       "</table>\n",
       "</div>"
      ],
      "text/plain": [
       "   TeamID     TeamName\n",
       "0    3101  Abilene Chr\n",
       "1    3102    Air Force\n",
       "2    3103        Akron\n",
       "3    3104      Alabama\n",
       "4    3105  Alabama A&M"
      ]
     },
     "execution_count": 80,
     "metadata": {},
     "output_type": "execute_result"
    }
   ],
   "source": [
    "WTeams  = pd.read_csv(\"../data/Wteams.csv\")\n",
    "WTeams.head()"
   ]
  },
  {
   "cell_type": "code",
   "execution_count": 81,
   "id": "5a109324-739a-4d22-b6b0-098c77033098",
   "metadata": {},
   "outputs": [],
   "source": [
    "MSeasons = pd.read_csv('../data/MSeasons.csv')\n",
    "WSeasons = pd.read_csv('../data/WSeasons.csv')"
   ]
  },
  {
   "cell_type": "code",
   "execution_count": 82,
   "id": "3bde78e5-bc7d-432e-8037-35002f68ad03",
   "metadata": {},
   "outputs": [
    {
     "data": {
      "text/html": [
       "<div>\n",
       "<style scoped>\n",
       "    .dataframe tbody tr th:only-of-type {\n",
       "        vertical-align: middle;\n",
       "    }\n",
       "\n",
       "    .dataframe tbody tr th {\n",
       "        vertical-align: top;\n",
       "    }\n",
       "\n",
       "    .dataframe thead th {\n",
       "        text-align: right;\n",
       "    }\n",
       "</style>\n",
       "<table border=\"1\" class=\"dataframe\">\n",
       "  <thead>\n",
       "    <tr style=\"text-align: right;\">\n",
       "      <th></th>\n",
       "      <th>Season</th>\n",
       "      <th>DayZero</th>\n",
       "      <th>RegionW</th>\n",
       "      <th>RegionX</th>\n",
       "      <th>RegionY</th>\n",
       "      <th>RegionZ</th>\n",
       "    </tr>\n",
       "  </thead>\n",
       "  <tbody>\n",
       "    <tr>\n",
       "      <th>0</th>\n",
       "      <td>1985</td>\n",
       "      <td>10/29/1984</td>\n",
       "      <td>East</td>\n",
       "      <td>West</td>\n",
       "      <td>Midwest</td>\n",
       "      <td>Southeast</td>\n",
       "    </tr>\n",
       "    <tr>\n",
       "      <th>1</th>\n",
       "      <td>1986</td>\n",
       "      <td>10/28/1985</td>\n",
       "      <td>East</td>\n",
       "      <td>Midwest</td>\n",
       "      <td>Southeast</td>\n",
       "      <td>West</td>\n",
       "    </tr>\n",
       "    <tr>\n",
       "      <th>2</th>\n",
       "      <td>1987</td>\n",
       "      <td>10/27/1986</td>\n",
       "      <td>East</td>\n",
       "      <td>Southeast</td>\n",
       "      <td>Midwest</td>\n",
       "      <td>West</td>\n",
       "    </tr>\n",
       "    <tr>\n",
       "      <th>3</th>\n",
       "      <td>1988</td>\n",
       "      <td>11/02/1987</td>\n",
       "      <td>East</td>\n",
       "      <td>Midwest</td>\n",
       "      <td>Southeast</td>\n",
       "      <td>West</td>\n",
       "    </tr>\n",
       "    <tr>\n",
       "      <th>4</th>\n",
       "      <td>1989</td>\n",
       "      <td>10/31/1988</td>\n",
       "      <td>East</td>\n",
       "      <td>West</td>\n",
       "      <td>Midwest</td>\n",
       "      <td>Southeast</td>\n",
       "    </tr>\n",
       "  </tbody>\n",
       "</table>\n",
       "</div>"
      ],
      "text/plain": [
       "   Season     DayZero RegionW    RegionX    RegionY    RegionZ\n",
       "0    1985  10/29/1984    East       West    Midwest  Southeast\n",
       "1    1986  10/28/1985    East    Midwest  Southeast       West\n",
       "2    1987  10/27/1986    East  Southeast    Midwest       West\n",
       "3    1988  11/02/1987    East    Midwest  Southeast       West\n",
       "4    1989  10/31/1988    East       West    Midwest  Southeast"
      ]
     },
     "execution_count": 82,
     "metadata": {},
     "output_type": "execute_result"
    }
   ],
   "source": [
    "MSeasons.head()"
   ]
  },
  {
   "cell_type": "code",
   "execution_count": 83,
   "id": "53a5f358-5419-440d-8455-53d2c356acb5",
   "metadata": {},
   "outputs": [
    {
     "data": {
      "text/html": [
       "<div>\n",
       "<style scoped>\n",
       "    .dataframe tbody tr th:only-of-type {\n",
       "        vertical-align: middle;\n",
       "    }\n",
       "\n",
       "    .dataframe tbody tr th {\n",
       "        vertical-align: top;\n",
       "    }\n",
       "\n",
       "    .dataframe thead th {\n",
       "        text-align: right;\n",
       "    }\n",
       "</style>\n",
       "<table border=\"1\" class=\"dataframe\">\n",
       "  <thead>\n",
       "    <tr style=\"text-align: right;\">\n",
       "      <th></th>\n",
       "      <th>Season</th>\n",
       "      <th>DayZero</th>\n",
       "      <th>RegionW</th>\n",
       "      <th>RegionX</th>\n",
       "      <th>RegionY</th>\n",
       "      <th>RegionZ</th>\n",
       "    </tr>\n",
       "  </thead>\n",
       "  <tbody>\n",
       "    <tr>\n",
       "      <th>0</th>\n",
       "      <td>1998</td>\n",
       "      <td>10/27/1997</td>\n",
       "      <td>East</td>\n",
       "      <td>Midwest</td>\n",
       "      <td>Mideast</td>\n",
       "      <td>West</td>\n",
       "    </tr>\n",
       "    <tr>\n",
       "      <th>1</th>\n",
       "      <td>1999</td>\n",
       "      <td>10/26/1998</td>\n",
       "      <td>East</td>\n",
       "      <td>Mideast</td>\n",
       "      <td>Midwest</td>\n",
       "      <td>West</td>\n",
       "    </tr>\n",
       "    <tr>\n",
       "      <th>2</th>\n",
       "      <td>2000</td>\n",
       "      <td>11/01/1999</td>\n",
       "      <td>East</td>\n",
       "      <td>Midwest</td>\n",
       "      <td>Mideast</td>\n",
       "      <td>West</td>\n",
       "    </tr>\n",
       "    <tr>\n",
       "      <th>3</th>\n",
       "      <td>2001</td>\n",
       "      <td>10/30/2000</td>\n",
       "      <td>East</td>\n",
       "      <td>Midwest</td>\n",
       "      <td>Mideast</td>\n",
       "      <td>West</td>\n",
       "    </tr>\n",
       "    <tr>\n",
       "      <th>4</th>\n",
       "      <td>2002</td>\n",
       "      <td>10/29/2001</td>\n",
       "      <td>East</td>\n",
       "      <td>West</td>\n",
       "      <td>Mideast</td>\n",
       "      <td>Midwest</td>\n",
       "    </tr>\n",
       "  </tbody>\n",
       "</table>\n",
       "</div>"
      ],
      "text/plain": [
       "   Season     DayZero RegionW  RegionX  RegionY  RegionZ\n",
       "0    1998  10/27/1997    East  Midwest  Mideast     West\n",
       "1    1999  10/26/1998    East  Mideast  Midwest     West\n",
       "2    2000  11/01/1999    East  Midwest  Mideast     West\n",
       "3    2001  10/30/2000    East  Midwest  Mideast     West\n",
       "4    2002  10/29/2001    East     West  Mideast  Midwest"
      ]
     },
     "execution_count": 83,
     "metadata": {},
     "output_type": "execute_result"
    }
   ],
   "source": [
    "WSeasons.head()"
   ]
  },
  {
   "cell_type": "markdown",
   "id": "8f2b6d67-8fc9-4833-83e9-31350f549ac9",
   "metadata": {},
   "source": [
    "<h5     style = 'color : red'>MNCAATourneySeeds.csv and WNCAATourneySeeds.csv</h5>"
   ]
  },
  {
   "cell_type": "code",
   "execution_count": 84,
   "id": "87b5f507-fa7f-423d-9147-c05fe053816c",
   "metadata": {},
   "outputs": [],
   "source": [
    "MNCAATourneySeeds = pd.read_csv('..\\data\\MNCAATourneySeeds.csv')\n",
    "WNCAATourneySeeds = pd.read_csv('..\\data\\WNCAATourneySeeds.csv')"
   ]
  },
  {
   "cell_type": "code",
   "execution_count": 85,
   "id": "909fc7ac-d668-4b82-b111-3e4b1ade051f",
   "metadata": {},
   "outputs": [
    {
     "data": {
      "text/html": [
       "<div>\n",
       "<style scoped>\n",
       "    .dataframe tbody tr th:only-of-type {\n",
       "        vertical-align: middle;\n",
       "    }\n",
       "\n",
       "    .dataframe tbody tr th {\n",
       "        vertical-align: top;\n",
       "    }\n",
       "\n",
       "    .dataframe thead th {\n",
       "        text-align: right;\n",
       "    }\n",
       "</style>\n",
       "<table border=\"1\" class=\"dataframe\">\n",
       "  <thead>\n",
       "    <tr style=\"text-align: right;\">\n",
       "      <th></th>\n",
       "      <th>Season</th>\n",
       "      <th>Seed</th>\n",
       "      <th>TeamID</th>\n",
       "    </tr>\n",
       "  </thead>\n",
       "  <tbody>\n",
       "    <tr>\n",
       "      <th>0</th>\n",
       "      <td>1985</td>\n",
       "      <td>W01</td>\n",
       "      <td>1207</td>\n",
       "    </tr>\n",
       "    <tr>\n",
       "      <th>1</th>\n",
       "      <td>1985</td>\n",
       "      <td>W02</td>\n",
       "      <td>1210</td>\n",
       "    </tr>\n",
       "    <tr>\n",
       "      <th>2</th>\n",
       "      <td>1985</td>\n",
       "      <td>W03</td>\n",
       "      <td>1228</td>\n",
       "    </tr>\n",
       "    <tr>\n",
       "      <th>3</th>\n",
       "      <td>1985</td>\n",
       "      <td>W04</td>\n",
       "      <td>1260</td>\n",
       "    </tr>\n",
       "    <tr>\n",
       "      <th>4</th>\n",
       "      <td>1985</td>\n",
       "      <td>W05</td>\n",
       "      <td>1374</td>\n",
       "    </tr>\n",
       "  </tbody>\n",
       "</table>\n",
       "</div>"
      ],
      "text/plain": [
       "   Season Seed  TeamID\n",
       "0    1985  W01    1207\n",
       "1    1985  W02    1210\n",
       "2    1985  W03    1228\n",
       "3    1985  W04    1260\n",
       "4    1985  W05    1374"
      ]
     },
     "execution_count": 85,
     "metadata": {},
     "output_type": "execute_result"
    }
   ],
   "source": [
    "MNCAATourneySeeds.head()"
   ]
  },
  {
   "cell_type": "code",
   "execution_count": 86,
   "id": "d27a9984-91e2-4bf8-b197-1df42d492a9f",
   "metadata": {},
   "outputs": [
    {
     "data": {
      "text/html": [
       "<div>\n",
       "<style scoped>\n",
       "    .dataframe tbody tr th:only-of-type {\n",
       "        vertical-align: middle;\n",
       "    }\n",
       "\n",
       "    .dataframe tbody tr th {\n",
       "        vertical-align: top;\n",
       "    }\n",
       "\n",
       "    .dataframe thead th {\n",
       "        text-align: right;\n",
       "    }\n",
       "</style>\n",
       "<table border=\"1\" class=\"dataframe\">\n",
       "  <thead>\n",
       "    <tr style=\"text-align: right;\">\n",
       "      <th></th>\n",
       "      <th>Season</th>\n",
       "      <th>Seed</th>\n",
       "      <th>TeamID</th>\n",
       "    </tr>\n",
       "  </thead>\n",
       "  <tbody>\n",
       "    <tr>\n",
       "      <th>0</th>\n",
       "      <td>1998</td>\n",
       "      <td>W01</td>\n",
       "      <td>3330</td>\n",
       "    </tr>\n",
       "    <tr>\n",
       "      <th>1</th>\n",
       "      <td>1998</td>\n",
       "      <td>W02</td>\n",
       "      <td>3163</td>\n",
       "    </tr>\n",
       "    <tr>\n",
       "      <th>2</th>\n",
       "      <td>1998</td>\n",
       "      <td>W03</td>\n",
       "      <td>3112</td>\n",
       "    </tr>\n",
       "    <tr>\n",
       "      <th>3</th>\n",
       "      <td>1998</td>\n",
       "      <td>W04</td>\n",
       "      <td>3301</td>\n",
       "    </tr>\n",
       "    <tr>\n",
       "      <th>4</th>\n",
       "      <td>1998</td>\n",
       "      <td>W05</td>\n",
       "      <td>3272</td>\n",
       "    </tr>\n",
       "  </tbody>\n",
       "</table>\n",
       "</div>"
      ],
      "text/plain": [
       "   Season Seed  TeamID\n",
       "0    1998  W01    3330\n",
       "1    1998  W02    3163\n",
       "2    1998  W03    3112\n",
       "3    1998  W04    3301\n",
       "4    1998  W05    3272"
      ]
     },
     "execution_count": 86,
     "metadata": {},
     "output_type": "execute_result"
    }
   ],
   "source": [
    "WNCAATourneySeeds.head()"
   ]
  },
  {
   "cell_type": "markdown",
   "id": "44b963db-164f-4b6b-acb1-f6f478bbbdc1",
   "metadata": {},
   "source": [
    "<h5 style = 'color:red'>MRegularSeasonCompactResults.csv and WRegularSeasonCompactResults.csv </h5>"
   ]
  },
  {
   "cell_type": "code",
   "execution_count": 119,
   "id": "35c4fd2e-2eca-40fe-be0c-550a15afdfdc",
   "metadata": {},
   "outputs": [],
   "source": [
    "MRegularSeasonCompactResults = pd.read_csv('..\\data\\MRegularSeasonCompactResults.csv')\n",
    "WRegularSeasonCompactResults = pd.read_csv('..\\data\\WRegularSeasonCompactResults.csv')"
   ]
  },
  {
   "cell_type": "code",
   "execution_count": 123,
   "id": "aa5e29dd-4388-43c2-b926-47940d706110",
   "metadata": {},
   "outputs": [
    {
     "data": {
      "text/plain": [
       "0         81\n",
       "1         77\n",
       "2         63\n",
       "3         70\n",
       "4         86\n",
       "          ..\n",
       "190766    75\n",
       "190767    86\n",
       "190768    69\n",
       "190769    74\n",
       "190770    83\n",
       "Name: WScore, Length: 190771, dtype: int64"
      ]
     },
     "execution_count": 123,
     "metadata": {},
     "output_type": "execute_result"
    }
   ],
   "source": [
    "MRegularSeasonCompactResults['WScore']"
   ]
  },
  {
   "cell_type": "code",
   "execution_count": 89,
   "id": "dc7f261d-05b6-42b3-aa86-49cf4d4618fc",
   "metadata": {},
   "outputs": [
    {
     "data": {
      "text/html": [
       "<div>\n",
       "<style scoped>\n",
       "    .dataframe tbody tr th:only-of-type {\n",
       "        vertical-align: middle;\n",
       "    }\n",
       "\n",
       "    .dataframe tbody tr th {\n",
       "        vertical-align: top;\n",
       "    }\n",
       "\n",
       "    .dataframe thead th {\n",
       "        text-align: right;\n",
       "    }\n",
       "</style>\n",
       "<table border=\"1\" class=\"dataframe\">\n",
       "  <thead>\n",
       "    <tr style=\"text-align: right;\">\n",
       "      <th></th>\n",
       "      <th>Season</th>\n",
       "      <th>DayNum</th>\n",
       "      <th>WTeamID</th>\n",
       "      <th>WScore</th>\n",
       "      <th>LTeamID</th>\n",
       "      <th>LScore</th>\n",
       "      <th>WLoc</th>\n",
       "      <th>NumOT</th>\n",
       "    </tr>\n",
       "  </thead>\n",
       "  <tbody>\n",
       "    <tr>\n",
       "      <th>0</th>\n",
       "      <td>1998</td>\n",
       "      <td>18</td>\n",
       "      <td>3104</td>\n",
       "      <td>91</td>\n",
       "      <td>3202</td>\n",
       "      <td>41</td>\n",
       "      <td>H</td>\n",
       "      <td>0</td>\n",
       "    </tr>\n",
       "    <tr>\n",
       "      <th>1</th>\n",
       "      <td>1998</td>\n",
       "      <td>18</td>\n",
       "      <td>3163</td>\n",
       "      <td>87</td>\n",
       "      <td>3221</td>\n",
       "      <td>76</td>\n",
       "      <td>H</td>\n",
       "      <td>0</td>\n",
       "    </tr>\n",
       "    <tr>\n",
       "      <th>2</th>\n",
       "      <td>1998</td>\n",
       "      <td>18</td>\n",
       "      <td>3222</td>\n",
       "      <td>66</td>\n",
       "      <td>3261</td>\n",
       "      <td>59</td>\n",
       "      <td>H</td>\n",
       "      <td>0</td>\n",
       "    </tr>\n",
       "    <tr>\n",
       "      <th>3</th>\n",
       "      <td>1998</td>\n",
       "      <td>18</td>\n",
       "      <td>3307</td>\n",
       "      <td>69</td>\n",
       "      <td>3365</td>\n",
       "      <td>62</td>\n",
       "      <td>H</td>\n",
       "      <td>0</td>\n",
       "    </tr>\n",
       "    <tr>\n",
       "      <th>4</th>\n",
       "      <td>1998</td>\n",
       "      <td>18</td>\n",
       "      <td>3349</td>\n",
       "      <td>115</td>\n",
       "      <td>3411</td>\n",
       "      <td>35</td>\n",
       "      <td>H</td>\n",
       "      <td>0</td>\n",
       "    </tr>\n",
       "  </tbody>\n",
       "</table>\n",
       "</div>"
      ],
      "text/plain": [
       "   Season  DayNum  WTeamID  WScore  LTeamID  LScore WLoc  NumOT\n",
       "0    1998      18     3104      91     3202      41    H      0\n",
       "1    1998      18     3163      87     3221      76    H      0\n",
       "2    1998      18     3222      66     3261      59    H      0\n",
       "3    1998      18     3307      69     3365      62    H      0\n",
       "4    1998      18     3349     115     3411      35    H      0"
      ]
     },
     "execution_count": 89,
     "metadata": {},
     "output_type": "execute_result"
    }
   ],
   "source": [
    "WRegularSeasonCompactResults.head()"
   ]
  },
  {
   "cell_type": "markdown",
   "id": "5dd43f26-321e-47f7-9612-b33f0fbb2a84",
   "metadata": {
    "jp-MarkdownHeadingCollapsed": true
   },
   "source": [
    "<h5 style = 'color:red'> MNCAATourneyCompactResults.csv and WNCAATourneyCompactResults.csv </h5>"
   ]
  },
  {
   "cell_type": "code",
   "execution_count": 90,
   "id": "91ad704d-1572-483a-ae5e-5ab87bc175ce",
   "metadata": {},
   "outputs": [],
   "source": [
    "MNCAATourneyCompactResults = pd.read_csv('../data/MNCAATourneyCompactResults.csv')\n",
    "WNCAATourneyCompactResults = pd.read_csv('../Data/WNCAATourneyCompactResults.csv')"
   ]
  },
  {
   "cell_type": "code",
   "execution_count": 91,
   "id": "57e32db4-d055-4bb1-b506-4ecfeaa8260f",
   "metadata": {},
   "outputs": [
    {
     "data": {
      "text/html": [
       "<div>\n",
       "<style scoped>\n",
       "    .dataframe tbody tr th:only-of-type {\n",
       "        vertical-align: middle;\n",
       "    }\n",
       "\n",
       "    .dataframe tbody tr th {\n",
       "        vertical-align: top;\n",
       "    }\n",
       "\n",
       "    .dataframe thead th {\n",
       "        text-align: right;\n",
       "    }\n",
       "</style>\n",
       "<table border=\"1\" class=\"dataframe\">\n",
       "  <thead>\n",
       "    <tr style=\"text-align: right;\">\n",
       "      <th></th>\n",
       "      <th>Season</th>\n",
       "      <th>DayNum</th>\n",
       "      <th>WTeamID</th>\n",
       "      <th>WScore</th>\n",
       "      <th>LTeamID</th>\n",
       "      <th>LScore</th>\n",
       "      <th>WLoc</th>\n",
       "      <th>NumOT</th>\n",
       "    </tr>\n",
       "  </thead>\n",
       "  <tbody>\n",
       "    <tr>\n",
       "      <th>0</th>\n",
       "      <td>1985</td>\n",
       "      <td>136</td>\n",
       "      <td>1116</td>\n",
       "      <td>63</td>\n",
       "      <td>1234</td>\n",
       "      <td>54</td>\n",
       "      <td>N</td>\n",
       "      <td>0</td>\n",
       "    </tr>\n",
       "    <tr>\n",
       "      <th>1</th>\n",
       "      <td>1985</td>\n",
       "      <td>136</td>\n",
       "      <td>1120</td>\n",
       "      <td>59</td>\n",
       "      <td>1345</td>\n",
       "      <td>58</td>\n",
       "      <td>N</td>\n",
       "      <td>0</td>\n",
       "    </tr>\n",
       "    <tr>\n",
       "      <th>2</th>\n",
       "      <td>1985</td>\n",
       "      <td>136</td>\n",
       "      <td>1207</td>\n",
       "      <td>68</td>\n",
       "      <td>1250</td>\n",
       "      <td>43</td>\n",
       "      <td>N</td>\n",
       "      <td>0</td>\n",
       "    </tr>\n",
       "    <tr>\n",
       "      <th>3</th>\n",
       "      <td>1985</td>\n",
       "      <td>136</td>\n",
       "      <td>1229</td>\n",
       "      <td>58</td>\n",
       "      <td>1425</td>\n",
       "      <td>55</td>\n",
       "      <td>N</td>\n",
       "      <td>0</td>\n",
       "    </tr>\n",
       "    <tr>\n",
       "      <th>4</th>\n",
       "      <td>1985</td>\n",
       "      <td>136</td>\n",
       "      <td>1242</td>\n",
       "      <td>49</td>\n",
       "      <td>1325</td>\n",
       "      <td>38</td>\n",
       "      <td>N</td>\n",
       "      <td>0</td>\n",
       "    </tr>\n",
       "  </tbody>\n",
       "</table>\n",
       "</div>"
      ],
      "text/plain": [
       "   Season  DayNum  WTeamID  WScore  LTeamID  LScore WLoc  NumOT\n",
       "0    1985     136     1116      63     1234      54    N      0\n",
       "1    1985     136     1120      59     1345      58    N      0\n",
       "2    1985     136     1207      68     1250      43    N      0\n",
       "3    1985     136     1229      58     1425      55    N      0\n",
       "4    1985     136     1242      49     1325      38    N      0"
      ]
     },
     "execution_count": 91,
     "metadata": {},
     "output_type": "execute_result"
    }
   ],
   "source": [
    "MNCAATourneyCompactResults.head()"
   ]
  },
  {
   "cell_type": "code",
   "execution_count": 92,
   "id": "b97446d1-17d9-498f-b281-301ef20a2a22",
   "metadata": {},
   "outputs": [
    {
     "data": {
      "text/html": [
       "<div>\n",
       "<style scoped>\n",
       "    .dataframe tbody tr th:only-of-type {\n",
       "        vertical-align: middle;\n",
       "    }\n",
       "\n",
       "    .dataframe tbody tr th {\n",
       "        vertical-align: top;\n",
       "    }\n",
       "\n",
       "    .dataframe thead th {\n",
       "        text-align: right;\n",
       "    }\n",
       "</style>\n",
       "<table border=\"1\" class=\"dataframe\">\n",
       "  <thead>\n",
       "    <tr style=\"text-align: right;\">\n",
       "      <th></th>\n",
       "      <th>Season</th>\n",
       "      <th>DayNum</th>\n",
       "      <th>WTeamID</th>\n",
       "      <th>WScore</th>\n",
       "      <th>LTeamID</th>\n",
       "      <th>LScore</th>\n",
       "      <th>WLoc</th>\n",
       "      <th>NumOT</th>\n",
       "    </tr>\n",
       "  </thead>\n",
       "  <tbody>\n",
       "    <tr>\n",
       "      <th>0</th>\n",
       "      <td>1998</td>\n",
       "      <td>137</td>\n",
       "      <td>3104</td>\n",
       "      <td>94</td>\n",
       "      <td>3422</td>\n",
       "      <td>46</td>\n",
       "      <td>H</td>\n",
       "      <td>0</td>\n",
       "    </tr>\n",
       "    <tr>\n",
       "      <th>1</th>\n",
       "      <td>1998</td>\n",
       "      <td>137</td>\n",
       "      <td>3112</td>\n",
       "      <td>75</td>\n",
       "      <td>3365</td>\n",
       "      <td>63</td>\n",
       "      <td>H</td>\n",
       "      <td>0</td>\n",
       "    </tr>\n",
       "    <tr>\n",
       "      <th>2</th>\n",
       "      <td>1998</td>\n",
       "      <td>137</td>\n",
       "      <td>3163</td>\n",
       "      <td>93</td>\n",
       "      <td>3193</td>\n",
       "      <td>52</td>\n",
       "      <td>H</td>\n",
       "      <td>0</td>\n",
       "    </tr>\n",
       "    <tr>\n",
       "      <th>3</th>\n",
       "      <td>1998</td>\n",
       "      <td>137</td>\n",
       "      <td>3198</td>\n",
       "      <td>59</td>\n",
       "      <td>3266</td>\n",
       "      <td>45</td>\n",
       "      <td>H</td>\n",
       "      <td>0</td>\n",
       "    </tr>\n",
       "    <tr>\n",
       "      <th>4</th>\n",
       "      <td>1998</td>\n",
       "      <td>137</td>\n",
       "      <td>3203</td>\n",
       "      <td>74</td>\n",
       "      <td>3208</td>\n",
       "      <td>72</td>\n",
       "      <td>A</td>\n",
       "      <td>0</td>\n",
       "    </tr>\n",
       "  </tbody>\n",
       "</table>\n",
       "</div>"
      ],
      "text/plain": [
       "   Season  DayNum  WTeamID  WScore  LTeamID  LScore WLoc  NumOT\n",
       "0    1998     137     3104      94     3422      46    H      0\n",
       "1    1998     137     3112      75     3365      63    H      0\n",
       "2    1998     137     3163      93     3193      52    H      0\n",
       "3    1998     137     3198      59     3266      45    H      0\n",
       "4    1998     137     3203      74     3208      72    A      0"
      ]
     },
     "execution_count": 92,
     "metadata": {},
     "output_type": "execute_result"
    }
   ],
   "source": [
    "WNCAATourneyCompactResults.head()"
   ]
  },
  {
   "cell_type": "markdown",
   "id": "44147998-60dd-4fb2-90bf-7da010bfdf87",
   "metadata": {
    "jp-MarkdownHeadingCollapsed": true
   },
   "source": [
    "<h5 style = 'color:red'>Sample Submission Stage1 </h5>"
   ]
  },
  {
   "cell_type": "code",
   "execution_count": 93,
   "id": "c1159ee6-ba8a-42d2-b405-e160705bb165",
   "metadata": {},
   "outputs": [],
   "source": [
    "SampleSubmissionStage1 = pd.read_csv('../Data/SampleSubmissionStage1.csv')\n"
   ]
  },
  {
   "cell_type": "code",
   "execution_count": 94,
   "id": "8ca14bac-a848-4336-aa8c-7a96597979c6",
   "metadata": {},
   "outputs": [
    {
     "data": {
      "text/html": [
       "<div>\n",
       "<style scoped>\n",
       "    .dataframe tbody tr th:only-of-type {\n",
       "        vertical-align: middle;\n",
       "    }\n",
       "\n",
       "    .dataframe tbody tr th {\n",
       "        vertical-align: top;\n",
       "    }\n",
       "\n",
       "    .dataframe thead th {\n",
       "        text-align: right;\n",
       "    }\n",
       "</style>\n",
       "<table border=\"1\" class=\"dataframe\">\n",
       "  <thead>\n",
       "    <tr style=\"text-align: right;\">\n",
       "      <th></th>\n",
       "      <th>ID</th>\n",
       "      <th>Pred</th>\n",
       "    </tr>\n",
       "  </thead>\n",
       "  <tbody>\n",
       "    <tr>\n",
       "      <th>0</th>\n",
       "      <td>2021_1101_1102</td>\n",
       "      <td>0.5</td>\n",
       "    </tr>\n",
       "    <tr>\n",
       "      <th>1</th>\n",
       "      <td>2021_1101_1103</td>\n",
       "      <td>0.5</td>\n",
       "    </tr>\n",
       "    <tr>\n",
       "      <th>2</th>\n",
       "      <td>2021_1101_1104</td>\n",
       "      <td>0.5</td>\n",
       "    </tr>\n",
       "    <tr>\n",
       "      <th>3</th>\n",
       "      <td>2021_1101_1105</td>\n",
       "      <td>0.5</td>\n",
       "    </tr>\n",
       "    <tr>\n",
       "      <th>4</th>\n",
       "      <td>2021_1101_1106</td>\n",
       "      <td>0.5</td>\n",
       "    </tr>\n",
       "  </tbody>\n",
       "</table>\n",
       "</div>"
      ],
      "text/plain": [
       "               ID  Pred\n",
       "0  2021_1101_1102   0.5\n",
       "1  2021_1101_1103   0.5\n",
       "2  2021_1101_1104   0.5\n",
       "3  2021_1101_1105   0.5\n",
       "4  2021_1101_1106   0.5"
      ]
     },
     "execution_count": 94,
     "metadata": {},
     "output_type": "execute_result"
    }
   ],
   "source": [
    "SampleSubmissionStage1.head()"
   ]
  },
  {
   "cell_type": "markdown",
   "id": "2baf169d-5cc3-4e1a-9309-da54e6ad4507",
   "metadata": {},
   "source": [
    "## DataFrame Dictionary "
   ]
  },
  {
   "cell_type": "code",
   "execution_count": 125,
   "id": "c5d1eced-228e-4284-93db-e6ffb73ac75b",
   "metadata": {},
   "outputs": [],
   "source": [
    "dict_df = {\n",
    "              'MTeams' : MTeams,\n",
    "              'WTeams' : WTeams,\n",
    "              'MSeasons' : MSeasons,\n",
    "              'WSeasons' : WSeasons,\n",
    "              'MNCAATourneySeeds' : MNCAATourneySeeds,\n",
    "               'WNCAATourneySeeds' : WNCAATourneySeeds,\n",
    "                'WRegularSeasonCompactResults' : WRegularSeasonCompactResults,\n",
    "                'MRegularSeasonCompactResults' : MRegularSeasonCompactResults,\n",
    "                'MNCAATourneyCompactResults' : MNCAATourneyCompactResults,\n",
    "                'WNCAATourneyCompactResults' : WNCAATourneyCompactResults\n",
    "                                   \n",
    "}  \n"
   ]
  },
  {
   "cell_type": "markdown",
   "id": "72f02126-57f5-49b8-a78c-858a0824950c",
   "metadata": {},
   "source": [
    "## Data Analysis"
   ]
  },
  {
   "cell_type": "markdown",
   "id": "4c225bc2-4f7e-4f33-9d2e-716188b9be8e",
   "metadata": {
    "jp-MarkdownHeadingCollapsed": true
   },
   "source": [
    "<h5>Mteams</h5>"
   ]
  },
  {
   "cell_type": "code",
   "execution_count": 96,
   "id": "22ae3e20-1277-41bc-b64d-87f9c0a0b313",
   "metadata": {},
   "outputs": [
    {
     "ename": "NameError",
     "evalue": "name 'Mteams' is not defined",
     "output_type": "error",
     "traceback": [
      "\u001b[1;31m---------------------------------------------------------------------------\u001b[0m",
      "\u001b[1;31mNameError\u001b[0m                                 Traceback (most recent call last)",
      "Cell \u001b[1;32mIn[96], line 1\u001b[0m\n\u001b[1;32m----> 1\u001b[0m \u001b[43mMteams\u001b[49m\u001b[38;5;241m.\u001b[39mcolumns\n",
      "\u001b[1;31mNameError\u001b[0m: name 'Mteams' is not defined"
     ]
    }
   ],
   "source": [
    "Mteams.columns"
   ]
  },
  {
   "cell_type": "code",
   "execution_count": null,
   "id": "ee131183-fba8-43b8-a520-184cbfd96a90",
   "metadata": {},
   "outputs": [],
   "source": [
    "list(set(Mteams['LastD1Season']))"
   ]
  },
  {
   "cell_type": "code",
   "execution_count": null,
   "id": "b1324d37-642a-4612-a535-189b94204e4c",
   "metadata": {},
   "outputs": [],
   "source": [
    "Mteams = Mteams[Mteams['LastD1Season'] == 2025]"
   ]
  },
  {
   "cell_type": "code",
   "execution_count": null,
   "id": "fd98847e-b863-47c0-9032-3d2c95882cbe",
   "metadata": {},
   "outputs": [],
   "source": [
    "Mteams.shape"
   ]
  },
  {
   "cell_type": "code",
   "execution_count": null,
   "id": "171f40c7-c430-45d8-a070-c69005160e20",
   "metadata": {},
   "outputs": [],
   "source": [
    "len(list(set(Mteams['TeamName'])))"
   ]
  },
  {
   "cell_type": "code",
   "execution_count": null,
   "id": "7ec631c1-a2bd-436d-90e1-9fb6366a26c1",
   "metadata": {},
   "outputs": [],
   "source": [
    "list(set(Mteams['FirstD1Season']))"
   ]
  },
  {
   "cell_type": "code",
   "execution_count": null,
   "id": "64a06342-2fe1-49dd-9193-96bd41b28740",
   "metadata": {},
   "outputs": [],
   "source": [
    "Mteams.groupby('FirstD1Season').count()"
   ]
  },
  {
   "cell_type": "markdown",
   "id": "9929ad7d-70ce-4333-bd57-e265aaf997e9",
   "metadata": {},
   "source": []
  },
  {
   "cell_type": "markdown",
   "id": "6abe5c10-c548-402e-8bc8-5f8dbe41b961",
   "metadata": {
    "jp-MarkdownHeadingCollapsed": true
   },
   "source": [
    "<h5>MSeasons</h5>"
   ]
  },
  {
   "cell_type": "code",
   "execution_count": null,
   "id": "e67fa5de-e232-424e-bbad-cf31d730e99f",
   "metadata": {},
   "outputs": [],
   "source": []
  },
  {
   "cell_type": "code",
   "execution_count": null,
   "id": "64a7cbe9-23de-47f8-8b70-44a82e5344d5",
   "metadata": {},
   "outputs": [],
   "source": [
    "MSeasons.head()"
   ]
  },
  {
   "cell_type": "code",
   "execution_count": null,
   "id": "f275f177-970d-4673-b70f-4201da372f29",
   "metadata": {},
   "outputs": [],
   "source": [
    "regions = list(set(MSeasons['RegionW']).union(   set(MSeasons['RegionX'])   , set(MSeasons['RegionY'])  ,  set(MSeasons['RegionZ']) ))\n",
    "regions"
   ]
  },
  {
   "cell_type": "code",
   "execution_count": null,
   "id": "4b9dd6f1-7bf0-484b-b4e1-5aa9864a969d",
   "metadata": {},
   "outputs": [],
   "source": [
    "regionsW = list(set(MSeasons['RegionW']))\n",
    "regionsW"
   ]
  },
  {
   "cell_type": "code",
   "execution_count": null,
   "id": "386f7f59-31d2-427d-bc3a-7302a85c6f68",
   "metadata": {},
   "outputs": [],
   "source": [
    "regionsX = list(set(MSeasons['RegionX']))\n",
    "regionsX"
   ]
  },
  {
   "cell_type": "code",
   "execution_count": null,
   "id": "6ad24bc1-e10b-4bd4-b6b0-3bf4b96c54a2",
   "metadata": {},
   "outputs": [],
   "source": [
    "regionsY = list(set(MSeasons['RegionY']))\n",
    "regionsY"
   ]
  },
  {
   "cell_type": "code",
   "execution_count": null,
   "id": "40c16069-70a3-4950-b247-9af3a82b07c9",
   "metadata": {},
   "outputs": [],
   "source": [
    "regionsZ = list(set(MSeasons['RegionZ']))\n",
    "regionsZ"
   ]
  },
  {
   "cell_type": "code",
   "execution_count": null,
   "id": "71d92945-7a51-40b6-8cf6-26cd395696bb",
   "metadata": {},
   "outputs": [],
   "source": [
    "MSeasons.columns"
   ]
  },
  {
   "cell_type": "code",
   "execution_count": null,
   "id": "0682e278-299a-47d5-b17a-a3694a89528e",
   "metadata": {},
   "outputs": [],
   "source": [
    "MSeasons.describe()"
   ]
  },
  {
   "cell_type": "code",
   "execution_count": null,
   "id": "ae21b96e-dc54-4a4d-8062-2052a9e0eed9",
   "metadata": {},
   "outputs": [],
   "source": [
    "MSeasons.info()"
   ]
  },
  {
   "cell_type": "code",
   "execution_count": null,
   "id": "56035636-272b-4871-98b0-122ac3c27614",
   "metadata": {},
   "outputs": [],
   "source": [
    "(list(set(MSeasons['DayZero'])))"
   ]
  },
  {
   "cell_type": "markdown",
   "id": "129c2ebf-208e-497d-826a-9d6af6b162e3",
   "metadata": {},
   "source": [
    "<p>\n",
    "    How This Data Helps\n",
    "<p>1️⃣ Bracket Structure:\n",
    "\n",
    "Teams only compete within their region until the Final Four.\n",
    "We can track matchups round by round.</p>\n",
    "<p>2️⃣ Regional Strength Analysis:\n",
    "\n",
    "We can analyze which regions are tougher.\n",
    "Example: If W region has 3 top-10 teams, it might be a \"Group of Death.\"</p>\n",
    "<p>3️⃣ Predicting Upsets:\n",
    "\n",
    "If a #12 seed in Region X has beaten multiple #5 seeds historically, we might predict another 12-over-5 upset in that region.\n",
    "</p>"
   ]
  },
  {
   "cell_type": "markdown",
   "id": "62f7c7e6-c913-472d-8e11-fd36add028b2",
   "metadata": {
    "jp-MarkdownHeadingCollapsed": true
   },
   "source": [
    "<h5>MNCAATourneySeeds</h5>"
   ]
  },
  {
   "cell_type": "code",
   "execution_count": null,
   "id": "d75a00bb-dab1-4060-a5c2-454b298de02b",
   "metadata": {},
   "outputs": [],
   "source": [
    "set(MNCAATourneySeeds['Seed'])"
   ]
  },
  {
   "cell_type": "code",
   "execution_count": null,
   "id": "a43da4c0-c088-4d24-bd66-9e8b66041c73",
   "metadata": {},
   "outputs": [],
   "source": [
    "set(MNCAATourneySeeds['Season'])"
   ]
  },
  {
   "cell_type": "markdown",
   "id": "00e460c7-0c42-44f2-bd14-b1652a4423fc",
   "metadata": {},
   "source": [
    "The data is till 2024"
   ]
  },
  {
   "cell_type": "code",
   "execution_count": null,
   "id": "8709283d-41fb-4ced-947e-e118849ae1b3",
   "metadata": {},
   "outputs": [],
   "source": [
    "set( [ s[1:3] for s in list(MNCAATourneySeeds['Seed']) ] )"
   ]
  },
  {
   "cell_type": "markdown",
   "id": "cce2a4b3-d374-4c74-95f3-b13e151807b1",
   "metadata": {},
   "source": [
    "There is a good possiblity to draw the barcharts on averages of last 5 years, 10 years, 15 years and the peroformance of teams"
   ]
  },
  {
   "cell_type": "markdown",
   "id": "78aade77-8264-4d8d-85d4-ddfd1351a109",
   "metadata": {},
   "source": [
    "<p>🔹 Why Are They Important?</p>\n",
    "<p>📌 Momentum Boost → Play-in teams already won a high-stakes game, making them dangerous in the main tournament.</p>\n",
    "<p>📌 Upset Potential → Some play-in teams perform better than expected (e.g., UCLA went from play-in to Final Four in 2021).</p>\n",
    "<p>📌 Predictive Modeling → These teams have extra recent performance data, which could influence their win probability in the main bracket.</p>\n",
    "\n",
    "<p>TL;DR: Play-in games determine the final teams that enter March Madness. They can be a big factor in predicting upsets and understanding team momentum! 🚀</p>"
   ]
  },
  {
   "cell_type": "markdown",
   "id": "b852fbdd-1a18-4633-85b0-d3c0c51bfd62",
   "metadata": {},
   "source": [
    "<h5>Regular Season Compact Results</h5>"
   ]
  },
  {
   "cell_type": "code",
   "execution_count": null,
   "id": "5450816e-9eef-4f5f-8da2-8eec6e0d9ff1",
   "metadata": {},
   "outputs": [],
   "source": [
    "MRegularSeasonCompactResults.head()"
   ]
  },
  {
   "cell_type": "code",
   "execution_count": 124,
   "id": "72823160-00a3-458c-84cb-4cb643ed504c",
   "metadata": {},
   "outputs": [
    {
     "name": "stdout",
     "output_type": "stream",
     "text": [
      "Season \n",
      " ==================== \n",
      " {1985, 1986, 1987, 1988, 1989, 1990, 1991, 1992, 1993, 1994, 1995, 1996, 1997, 1998, 1999, 2000, 2001, 2002, 2003, 2004, 2005, 2006, 2007, 2008, 2009, 2010, 2011, 2012, 2013, 2014, 2015, 2016, 2017, 2018, 2019, 2020, 2021, 2022, 2023, 2024, 2025}\n",
      "DayNum \n",
      " ==================== \n",
      " {0, 1, 2, 3, 4, 5, 6, 7, 8, 9, 10, 11, 12, 13, 14, 15, 16, 17, 18, 19, 20, 21, 22, 23, 24, 25, 26, 27, 28, 29, 30, 31, 32, 33, 34, 35, 36, 37, 38, 39, 40, 41, 42, 43, 44, 45, 46, 47, 48, 49, 50, 51, 52, 53, 54, 55, 56, 57, 58, 59, 60, 61, 62, 63, 64, 65, 66, 67, 68, 69, 70, 71, 72, 73, 74, 75, 76, 77, 78, 79, 80, 81, 82, 83, 84, 85, 86, 87, 88, 89, 90, 91, 92, 93, 94, 95, 96, 97, 98, 99, 100, 101, 102, 103, 104, 105, 106, 107, 108, 109, 110, 111, 112, 113, 114, 115, 116, 117, 118, 119, 120, 121, 122, 123, 124, 125, 126, 127, 128, 129, 130, 131, 132}\n",
      "WTeamID \n",
      " ==================== \n",
      " {1101, 1102, 1103, 1104, 1105, 1106, 1107, 1108, 1109, 1110, 1111, 1112, 1113, 1114, 1115, 1116, 1117, 1118, 1119, 1120, 1121, 1122, 1123, 1124, 1125, 1126, 1127, 1128, 1129, 1130, 1131, 1132, 1133, 1134, 1135, 1136, 1137, 1138, 1139, 1140, 1141, 1142, 1143, 1144, 1145, 1146, 1147, 1148, 1149, 1150, 1151, 1152, 1153, 1154, 1155, 1156, 1157, 1158, 1159, 1160, 1161, 1162, 1163, 1164, 1165, 1166, 1167, 1168, 1169, 1170, 1171, 1172, 1173, 1174, 1175, 1176, 1177, 1178, 1179, 1180, 1181, 1182, 1183, 1184, 1185, 1186, 1187, 1188, 1189, 1190, 1191, 1192, 1193, 1194, 1195, 1196, 1197, 1198, 1199, 1200, 1201, 1202, 1203, 1204, 1205, 1206, 1207, 1208, 1209, 1210, 1211, 1212, 1213, 1214, 1215, 1216, 1217, 1218, 1219, 1220, 1221, 1222, 1223, 1224, 1225, 1226, 1227, 1228, 1229, 1230, 1231, 1232, 1233, 1234, 1235, 1236, 1237, 1238, 1239, 1240, 1241, 1242, 1243, 1244, 1245, 1246, 1247, 1248, 1249, 1250, 1251, 1252, 1253, 1254, 1255, 1256, 1257, 1258, 1259, 1260, 1261, 1262, 1263, 1264, 1265, 1266, 1267, 1268, 1269, 1270, 1271, 1272, 1273, 1274, 1275, 1276, 1277, 1278, 1279, 1280, 1281, 1282, 1283, 1284, 1285, 1286, 1287, 1288, 1289, 1290, 1291, 1292, 1293, 1294, 1295, 1296, 1297, 1298, 1299, 1300, 1301, 1302, 1303, 1304, 1305, 1306, 1307, 1308, 1309, 1310, 1311, 1312, 1313, 1314, 1315, 1316, 1317, 1318, 1319, 1320, 1321, 1322, 1323, 1324, 1325, 1326, 1327, 1328, 1329, 1330, 1331, 1332, 1333, 1334, 1335, 1336, 1337, 1338, 1339, 1340, 1341, 1342, 1343, 1344, 1345, 1346, 1347, 1348, 1349, 1350, 1351, 1352, 1353, 1354, 1355, 1356, 1357, 1358, 1359, 1360, 1361, 1362, 1363, 1364, 1365, 1366, 1367, 1368, 1369, 1370, 1371, 1372, 1373, 1374, 1375, 1376, 1377, 1378, 1379, 1380, 1381, 1382, 1383, 1384, 1385, 1386, 1387, 1388, 1389, 1390, 1391, 1392, 1393, 1394, 1395, 1396, 1397, 1398, 1399, 1400, 1401, 1402, 1403, 1404, 1405, 1406, 1407, 1408, 1409, 1410, 1411, 1412, 1413, 1414, 1415, 1416, 1417, 1418, 1419, 1420, 1421, 1422, 1423, 1424, 1425, 1426, 1427, 1428, 1429, 1430, 1431, 1432, 1433, 1434, 1435, 1436, 1437, 1438, 1439, 1440, 1441, 1442, 1443, 1444, 1445, 1446, 1447, 1448, 1449, 1450, 1451, 1452, 1453, 1454, 1455, 1456, 1457, 1458, 1459, 1460, 1461, 1462, 1463, 1464, 1465, 1466, 1467, 1468, 1469, 1470, 1471, 1472, 1473, 1474, 1475, 1476, 1477, 1478, 1479, 1480}\n",
      "WScore \n",
      " ==================== \n",
      " {34, 35, 36, 37, 38, 39, 40, 41, 42, 43, 44, 45, 46, 47, 48, 49, 50, 51, 52, 53, 54, 55, 56, 57, 58, 59, 60, 61, 62, 63, 64, 65, 66, 67, 68, 69, 70, 71, 72, 73, 74, 75, 76, 77, 78, 79, 80, 81, 82, 83, 84, 85, 86, 87, 88, 89, 90, 91, 92, 93, 94, 95, 96, 97, 98, 99, 100, 101, 102, 103, 104, 105, 106, 107, 108, 109, 110, 111, 112, 113, 114, 115, 116, 117, 118, 119, 120, 121, 122, 123, 124, 125, 126, 127, 128, 129, 130, 131, 132, 133, 134, 135, 136, 137, 138, 139, 140, 141, 142, 143, 144, 145, 146, 147, 148, 149, 150, 151, 152, 153, 155, 156, 157, 159, 162, 166, 172, 173, 181, 186}\n",
      "LTeamID \n",
      " ==================== \n",
      " {1101, 1102, 1103, 1104, 1105, 1106, 1107, 1108, 1109, 1110, 1111, 1112, 1113, 1114, 1115, 1116, 1117, 1118, 1119, 1120, 1121, 1122, 1123, 1124, 1125, 1126, 1127, 1128, 1129, 1130, 1131, 1132, 1133, 1134, 1135, 1136, 1137, 1138, 1139, 1140, 1141, 1142, 1143, 1144, 1145, 1146, 1147, 1148, 1149, 1150, 1151, 1152, 1153, 1154, 1155, 1156, 1157, 1158, 1159, 1160, 1161, 1162, 1163, 1164, 1165, 1166, 1167, 1168, 1169, 1170, 1171, 1172, 1173, 1174, 1175, 1176, 1177, 1178, 1179, 1180, 1181, 1182, 1183, 1184, 1185, 1186, 1187, 1188, 1189, 1190, 1191, 1192, 1193, 1194, 1195, 1196, 1197, 1198, 1199, 1200, 1201, 1202, 1203, 1204, 1205, 1206, 1207, 1208, 1209, 1210, 1211, 1212, 1213, 1214, 1215, 1216, 1217, 1218, 1219, 1220, 1221, 1222, 1223, 1224, 1225, 1226, 1227, 1228, 1229, 1230, 1231, 1232, 1233, 1234, 1235, 1236, 1237, 1238, 1239, 1240, 1241, 1242, 1243, 1244, 1245, 1246, 1247, 1248, 1249, 1250, 1251, 1252, 1253, 1254, 1255, 1256, 1257, 1258, 1259, 1260, 1261, 1262, 1263, 1264, 1265, 1266, 1267, 1268, 1269, 1270, 1271, 1272, 1273, 1274, 1275, 1276, 1277, 1278, 1279, 1280, 1281, 1282, 1283, 1284, 1285, 1286, 1287, 1288, 1289, 1290, 1291, 1292, 1293, 1294, 1295, 1296, 1297, 1298, 1299, 1300, 1301, 1302, 1303, 1304, 1305, 1306, 1307, 1308, 1309, 1310, 1311, 1312, 1313, 1314, 1315, 1316, 1317, 1318, 1319, 1320, 1321, 1322, 1323, 1324, 1325, 1326, 1327, 1328, 1329, 1330, 1331, 1332, 1333, 1334, 1335, 1336, 1337, 1338, 1339, 1340, 1341, 1342, 1343, 1344, 1345, 1346, 1347, 1348, 1349, 1350, 1351, 1352, 1353, 1354, 1355, 1356, 1357, 1358, 1359, 1360, 1361, 1362, 1363, 1364, 1365, 1366, 1367, 1368, 1369, 1370, 1371, 1372, 1373, 1374, 1375, 1376, 1377, 1378, 1379, 1380, 1381, 1382, 1383, 1384, 1385, 1386, 1387, 1388, 1389, 1390, 1391, 1392, 1393, 1394, 1395, 1396, 1397, 1398, 1399, 1400, 1401, 1402, 1403, 1404, 1405, 1406, 1407, 1408, 1409, 1410, 1411, 1412, 1413, 1414, 1415, 1416, 1417, 1418, 1419, 1420, 1421, 1422, 1423, 1424, 1425, 1426, 1427, 1428, 1429, 1430, 1431, 1432, 1433, 1434, 1435, 1436, 1437, 1438, 1439, 1440, 1441, 1442, 1443, 1444, 1445, 1446, 1447, 1448, 1449, 1450, 1451, 1452, 1453, 1454, 1455, 1456, 1457, 1458, 1459, 1460, 1461, 1462, 1463, 1464, 1465, 1466, 1467, 1468, 1469, 1470, 1471, 1472, 1473, 1474, 1475, 1476, 1477, 1478, 1479, 1480}\n",
      "LScore \n",
      " ==================== \n",
      " {20, 21, 22, 23, 24, 25, 26, 27, 28, 29, 30, 31, 32, 33, 34, 35, 36, 37, 38, 39, 40, 41, 42, 43, 44, 45, 46, 47, 48, 49, 50, 51, 52, 53, 54, 55, 56, 57, 58, 59, 60, 61, 62, 63, 64, 65, 66, 67, 68, 69, 70, 71, 72, 73, 74, 75, 76, 77, 78, 79, 80, 81, 82, 83, 84, 85, 86, 87, 88, 89, 90, 91, 92, 93, 94, 95, 96, 97, 98, 99, 100, 101, 102, 103, 104, 105, 106, 107, 108, 109, 110, 111, 112, 113, 114, 115, 116, 117, 118, 119, 120, 121, 122, 123, 124, 125, 126, 127, 128, 130, 131, 132, 133, 136, 137, 140, 141, 144, 150}\n",
      "WLoc \n",
      " ==================== \n",
      " {'N', 'A', 'H'}\n",
      "NumOT \n",
      " ==================== \n",
      " {0, 1, 2, 3, 4, 5, 6}\n"
     ]
    }
   ],
   "source": [
    "for cols in MRegularSeasonCompactResults.columns : \n",
    "    print(cols,'\\n','='*20,'\\n',set(MRegularSeasonCompactResults[cols]))"
   ]
  },
  {
   "cell_type": "markdown",
   "id": "fe8f9bb3-6645-439d-ae26-a4b613bfc0bb",
   "metadata": {},
   "source": [
    "<p>📌 Why This Matters?</p>\n",
    "\n",
    "<p>Higher NumOT → The game was closely contested, indicating evenly matched teams.</p>\n",
    "<p>Fatigue Impact → A team playing multiple overtime games before the tournament might be more fatigued.</p>\n",
    "<p>Clutch Performance → Teams that frequently win in overtime might have strong late-game execution.</p>"
   ]
  },
  {
   "cell_type": "markdown",
   "id": "237ee138-55ad-44ea-a189-7f4114dd1cd0",
   "metadata": {},
   "source": [
    "<p>📌 Why This Matters?</p>\n",
    "\n",
    "<p>Home teams usually have an advantage due to crowd support and familiarity with the court.</p>\n",
    "<p>Neutral-site games (like March Madness tournament games) eliminate home-court advantage.</p>\n",
    "<p>Away wins may indicate a stronger team that can perform well in different environm</p>"
   ]
  },
  {
   "cell_type": "markdown",
   "id": "97854b16-866d-41e0-ba2e-d3419bbe57a9",
   "metadata": {
    "jp-MarkdownHeadingCollapsed": true
   },
   "source": [
    "<h5>MNCAATourneyCompactResults</h5>"
   ]
  },
  {
   "cell_type": "markdown",
   "id": "4006ae5e-5565-4e6c-8a58-401cf573b0b1",
   "metadata": {},
   "source": [
    "<p>Used to evaluate how teams perform under pressure in the tournament.</p>"
   ]
  },
  {
   "cell_type": "markdown",
   "id": "702d6dba-dfcb-496b-9ac9-fdd7660cb304",
   "metadata": {},
   "source": [
    "<p>✅ Regular Season Data is crucial for overall team performance trends.</p>\n",
    "<p>✅ Tournament Data is useful for March Madness-specific performance.</p>\n",
    "<p>✅ Since all tournament games are neutral-site, home-court advantage is not a factor in</p>"
   ]
  },
  {
   "cell_type": "markdown",
   "id": "a7d3b5f5-b572-4d4d-acb4-29e32e04c49e",
   "metadata": {},
   "source": [
    "## Data Cleaning and Exploration"
   ]
  },
  {
   "cell_type": "code",
   "execution_count": null,
   "id": "5d4c73a5-f5c4-4474-bd26-c6155c40bde3",
   "metadata": {},
   "outputs": [],
   "source": [
    "for df in dict_df.keys() : \n",
    "    print(df,' : ')\n",
    "    print(dict_df[df].head())\n",
    "    print('='*20)\n"
   ]
  },
  {
   "cell_type": "markdown",
   "id": "c52aa45b-658f-4d9b-a08b-b7d3d7da8efa",
   "metadata": {
    "jp-MarkdownHeadingCollapsed": true
   },
   "source": [
    "##### Null and missing values"
   ]
  },
  {
   "cell_type": "code",
   "execution_count": null,
   "id": "783c7909-d8e9-4e83-8700-fd8850178479",
   "metadata": {},
   "outputs": [],
   "source": [
    "for df in dict_df.keys() : \n",
    "    print(dict_df[df].columns)"
   ]
  },
  {
   "cell_type": "code",
   "execution_count": null,
   "id": "07b657a5-6ad7-4072-b264-e6c863be5821",
   "metadata": {},
   "outputs": [],
   "source": [
    "for df in dict_df.keys() : \n",
    "    print(df, \"  : \" )\n",
    "    print(dict_df[df].isnull().sum())\n",
    "    print('='*20)"
   ]
  },
  {
   "cell_type": "markdown",
   "id": "aab68d3b-1a6e-4432-a7d1-6853082378a2",
   "metadata": {},
   "source": [
    "No null values"
   ]
  },
  {
   "cell_type": "code",
   "execution_count": null,
   "id": "f3bfe415-5849-4cff-9249-4230f1e17a90",
   "metadata": {},
   "outputs": [],
   "source": [
    "for df in dict_df.keys() : \n",
    "     for cols in dict_df[df].columns : \n",
    "         print(f\"{df}___{cols} unique values\")\n",
    "         print(set(dict_df[df][cols]),'\\n')\n",
    "         print(\"=\"*20)"
   ]
  },
  {
   "cell_type": "code",
   "execution_count": null,
   "id": "75fe64fc-0d78-49ae-9a9a-34f1334f6b2f",
   "metadata": {},
   "outputs": [],
   "source": [
    "dict_df['WSeasons'][dict_df['WSeasons']['RegionZ'] == 'NA4']"
   ]
  },
  {
   "cell_type": "code",
   "execution_count": null,
   "id": "2e8f5ee8-baf3-43d0-979d-9fc475bc746f",
   "metadata": {},
   "outputs": [],
   "source": [
    "dict_df['WSeasons'][dict_df['WSeasons']['RegionY'] == 'NA3']"
   ]
  },
  {
   "cell_type": "code",
   "execution_count": null,
   "id": "ec790b3a-0cd5-4300-b14e-8ec8011f3d86",
   "metadata": {},
   "outputs": [],
   "source": [
    "dict_df['WSeasons'][dict_df['WSeasons']['RegionX'] == 'NA2']"
   ]
  },
  {
   "cell_type": "code",
   "execution_count": null,
   "id": "07bdcf38-08d1-4e1a-ba5c-95fb03aa6043",
   "metadata": {},
   "outputs": [],
   "source": [
    "dict_df['WSeasons'][dict_df['WSeasons']['RegionW'] == 'NA1']"
   ]
  },
  {
   "cell_type": "markdown",
   "id": "d489faa2-4bba-4bbc-b0b5-eae028ec4a21",
   "metadata": {},
   "source": [
    "Removing NA1 and TBD\n"
   ]
  },
  {
   "cell_type": "code",
   "execution_count": null,
   "id": "2f7a0b01-177c-4245-a6d4-d67e77df395b",
   "metadata": {},
   "outputs": [],
   "source": [
    "dict_df['WSeasons'] = dict_df['WSeasons'][dict_df['WSeasons']['RegionZ'] != 'NA4']"
   ]
  },
  {
   "cell_type": "code",
   "execution_count": null,
   "id": "f2ba2317-b105-463a-bbd5-e5ee6d15d24c",
   "metadata": {},
   "outputs": [],
   "source": [
    "dict_df['WSeasons'] = dict_df['WSeasons'][dict_df['WSeasons']['RegionZ'] != 'TBD4']"
   ]
  },
  {
   "cell_type": "code",
   "execution_count": null,
   "id": "3d44577d-3162-44eb-94d4-34b02588a179",
   "metadata": {},
   "outputs": [],
   "source": [
    "dict_df['WSeasons']"
   ]
  },
  {
   "cell_type": "code",
   "execution_count": null,
   "id": "b387bd8b-7359-4a78-856d-ba1066e74475",
   "metadata": {},
   "outputs": [],
   "source": [
    "dict_df['MSeasons'] = dict_df['MSeasons'][dict_df['MSeasons']['RegionZ'] != 'NA4']"
   ]
  },
  {
   "cell_type": "code",
   "execution_count": null,
   "id": "d30a8cda-219c-4613-832b-8db8d0480e2d",
   "metadata": {},
   "outputs": [],
   "source": [
    "dict_df['MSeasons'] = dict_df['MSeasons'][dict_df['MSeasons']['RegionZ'] != 'TBD4']"
   ]
  },
  {
   "cell_type": "code",
   "execution_count": null,
   "id": "5a0c2adc-04e8-444d-8cd6-0387769ad151",
   "metadata": {},
   "outputs": [],
   "source": [
    "dict_df['MSeasons']"
   ]
  },
  {
   "cell_type": "code",
   "execution_count": null,
   "id": "51ac5606-aa9c-4889-b742-c484e58c0a5f",
   "metadata": {},
   "outputs": [],
   "source": []
  },
  {
   "cell_type": "markdown",
   "id": "4a672f37-b976-403f-aef6-232f63553019",
   "metadata": {
    "jp-MarkdownHeadingCollapsed": true
   },
   "source": [
    "<h2>Analysis Dictionary</h2>"
   ]
  },
  {
   "cell_type": "code",
   "execution_count": null,
   "id": "bbd1c5ad-831e-404f-bb4c-3e425b15b09c",
   "metadata": {},
   "outputs": [],
   "source": [
    "df_ans_dict = {}"
   ]
  },
  {
   "cell_type": "markdown",
   "id": "71ff9049-c7a5-41d9-8f9c-504910d409cf",
   "metadata": {},
   "source": [
    "## Exploratory Data Analysis"
   ]
  },
  {
   "cell_type": "code",
   "execution_count": null,
   "id": "d6ebc7ea-30f5-4233-afde-6620baa994a3",
   "metadata": {},
   "outputs": [],
   "source": [
    "win = dict_df['MRegularSeasonCompactResults'].groupby(['WTeamID','WLoc']).agg({'WTeamID' : 'count'})\n",
    "win.rename(columns = {'WTeamID':'Won'},inplace = True)\n",
    "win.reset_index(inplace = True)\n",
    "\n",
    "loss = dict_df['MRegularSeasonCompactResults'].groupby(['LTeamID','WLoc']).agg({'LTeamID' : 'count'})\n",
    "loss.rename(columns = {'LTeamID':'loss'},inplace = True)\n",
    "loss.reset_index(inplace = True)\n",
    "\n",
    "win_df = pd.merge(win,loss,how = 'inner',left_on= ['WTeamID','WLoc'],right_on = ['LTeamID','WLoc'])\n",
    "win_df['Total'] = win_df['Won'] + win_df['loss']\n",
    "win_df['win_per'] = ((win_df['Won'] * 100.0) /win_df['Total']) \n",
    "\n",
    "df_ans_dict['win_df'] = win_df \n",
    "\n"
   ]
  },
  {
   "cell_type": "markdown",
   "id": "7fda2a17-4937-4de9-935d-642c71ea54a0",
   "metadata": {},
   "source": [
    "<h4 style = \"color: red\" >Winning Percentage</h4>"
   ]
  },
  {
   "cell_type": "code",
   "execution_count": null,
   "id": "0b103d90-c069-42ac-b087-bc8325aaf40b",
   "metadata": {},
   "outputs": [],
   "source": [
    "fig,ax = plt.subplots(figsize = (14,6),ncols=2)\n",
    "\n",
    "sns.swarmplot(win_df['win_per'],ax = ax[0])\n",
    "sns.boxplot(win_df['win_per'],ax = ax[1])\n",
    "\n",
    "ax[0].set_title(\"Swarn plot of win percentage\")\n",
    "ax[1].set_title(\"Box plot of win percentage\")\n",
    "\n",
    "plt.show()"
   ]
  },
  {
   "cell_type": "markdown",
   "id": "d0037bdc-9d47-4ee6-961a-5fd57ceba57d",
   "metadata": {},
   "source": [
    "There are teams that are performing badly and then there are teams who are performing extremely good."
   ]
  },
  {
   "cell_type": "markdown",
   "id": "8a725ebc-c8fa-4f79-a4ff-fa49a31d6d61",
   "metadata": {},
   "source": [
    "<h4 style = \"color: red\" >Point Differential</h4>"
   ]
  },
  {
   "cell_type": "code",
   "execution_count": 129,
   "id": "9046b9e1-b730-46f5-a081-79aa86156d25",
   "metadata": {},
   "outputs": [
    {
     "data": {
      "text/html": [
       "<div>\n",
       "<style scoped>\n",
       "    .dataframe tbody tr th:only-of-type {\n",
       "        vertical-align: middle;\n",
       "    }\n",
       "\n",
       "    .dataframe tbody tr th {\n",
       "        vertical-align: top;\n",
       "    }\n",
       "\n",
       "    .dataframe thead th {\n",
       "        text-align: right;\n",
       "    }\n",
       "</style>\n",
       "<table border=\"1\" class=\"dataframe\">\n",
       "  <thead>\n",
       "    <tr style=\"text-align: right;\">\n",
       "      <th></th>\n",
       "      <th>Score</th>\n",
       "      <th>TeamID</th>\n",
       "    </tr>\n",
       "  </thead>\n",
       "  <tbody>\n",
       "    <tr>\n",
       "      <th>0</th>\n",
       "      <td>17</td>\n",
       "      <td>1228</td>\n",
       "    </tr>\n",
       "    <tr>\n",
       "      <th>1</th>\n",
       "      <td>7</td>\n",
       "      <td>1106</td>\n",
       "    </tr>\n",
       "    <tr>\n",
       "      <th>2</th>\n",
       "      <td>7</td>\n",
       "      <td>1112</td>\n",
       "    </tr>\n",
       "    <tr>\n",
       "      <th>3</th>\n",
       "      <td>16</td>\n",
       "      <td>1165</td>\n",
       "    </tr>\n",
       "    <tr>\n",
       "      <th>4</th>\n",
       "      <td>12</td>\n",
       "      <td>1192</td>\n",
       "    </tr>\n",
       "    <tr>\n",
       "      <th>...</th>\n",
       "      <td>...</td>\n",
       "      <td>...</td>\n",
       "    </tr>\n",
       "    <tr>\n",
       "      <th>190766</th>\n",
       "      <td>7</td>\n",
       "      <td>1401</td>\n",
       "    </tr>\n",
       "    <tr>\n",
       "      <th>190767</th>\n",
       "      <td>3</td>\n",
       "      <td>1405</td>\n",
       "    </tr>\n",
       "    <tr>\n",
       "      <th>190768</th>\n",
       "      <td>3</td>\n",
       "      <td>1428</td>\n",
       "    </tr>\n",
       "    <tr>\n",
       "      <th>190769</th>\n",
       "      <td>3</td>\n",
       "      <td>1444</td>\n",
       "    </tr>\n",
       "    <tr>\n",
       "      <th>190770</th>\n",
       "      <td>11</td>\n",
       "      <td>1461</td>\n",
       "    </tr>\n",
       "  </tbody>\n",
       "</table>\n",
       "<p>190771 rows × 2 columns</p>\n",
       "</div>"
      ],
      "text/plain": [
       "        Score  TeamID\n",
       "0          17    1228\n",
       "1           7    1106\n",
       "2           7    1112\n",
       "3          16    1165\n",
       "4          12    1192\n",
       "...       ...     ...\n",
       "190766      7    1401\n",
       "190767      3    1405\n",
       "190768      3    1428\n",
       "190769      3    1444\n",
       "190770     11    1461\n",
       "\n",
       "[190771 rows x 2 columns]"
      ]
     },
     "execution_count": 129,
     "metadata": {},
     "output_type": "execute_result"
    }
   ],
   "source": [
    "winpd = pd.DataFrame( { 'Score' :  dict_df['MRegularSeasonCompactResults']['WScore']  - dict_df['MRegularSeasonCompactResults']['LScore'] , \n",
    "                        'TeamID'  : dict_df['MRegularSeasonCompactResults']['WTeamID'] }   ) \n",
    "winpd"
   ]
  },
  {
   "cell_type": "code",
   "execution_count": 130,
   "id": "73e8b6f7-e961-4f49-8d59-d01edbce7ed5",
   "metadata": {},
   "outputs": [
    {
     "data": {
      "text/html": [
       "<div>\n",
       "<style scoped>\n",
       "    .dataframe tbody tr th:only-of-type {\n",
       "        vertical-align: middle;\n",
       "    }\n",
       "\n",
       "    .dataframe tbody tr th {\n",
       "        vertical-align: top;\n",
       "    }\n",
       "\n",
       "    .dataframe thead th {\n",
       "        text-align: right;\n",
       "    }\n",
       "</style>\n",
       "<table border=\"1\" class=\"dataframe\">\n",
       "  <thead>\n",
       "    <tr style=\"text-align: right;\">\n",
       "      <th></th>\n",
       "      <th>Score</th>\n",
       "      <th>TeamID</th>\n",
       "    </tr>\n",
       "  </thead>\n",
       "  <tbody>\n",
       "    <tr>\n",
       "      <th>0</th>\n",
       "      <td>-17</td>\n",
       "      <td>1328</td>\n",
       "    </tr>\n",
       "    <tr>\n",
       "      <th>1</th>\n",
       "      <td>-7</td>\n",
       "      <td>1354</td>\n",
       "    </tr>\n",
       "    <tr>\n",
       "      <th>2</th>\n",
       "      <td>-7</td>\n",
       "      <td>1223</td>\n",
       "    </tr>\n",
       "    <tr>\n",
       "      <th>3</th>\n",
       "      <td>-16</td>\n",
       "      <td>1432</td>\n",
       "    </tr>\n",
       "    <tr>\n",
       "      <th>4</th>\n",
       "      <td>-12</td>\n",
       "      <td>1447</td>\n",
       "    </tr>\n",
       "    <tr>\n",
       "      <th>...</th>\n",
       "      <td>...</td>\n",
       "      <td>...</td>\n",
       "    </tr>\n",
       "    <tr>\n",
       "      <th>190766</th>\n",
       "      <td>-7</td>\n",
       "      <td>1328</td>\n",
       "    </tr>\n",
       "    <tr>\n",
       "      <th>190767</th>\n",
       "      <td>-3</td>\n",
       "      <td>1325</td>\n",
       "    </tr>\n",
       "    <tr>\n",
       "      <th>190768</th>\n",
       "      <td>-3</td>\n",
       "      <td>1153</td>\n",
       "    </tr>\n",
       "    <tr>\n",
       "      <th>190769</th>\n",
       "      <td>-3</td>\n",
       "      <td>1123</td>\n",
       "    </tr>\n",
       "    <tr>\n",
       "      <th>190770</th>\n",
       "      <td>-11</td>\n",
       "      <td>1201</td>\n",
       "    </tr>\n",
       "  </tbody>\n",
       "</table>\n",
       "<p>190771 rows × 2 columns</p>\n",
       "</div>"
      ],
      "text/plain": [
       "        Score  TeamID\n",
       "0         -17    1328\n",
       "1          -7    1354\n",
       "2          -7    1223\n",
       "3         -16    1432\n",
       "4         -12    1447\n",
       "...       ...     ...\n",
       "190766     -7    1328\n",
       "190767     -3    1325\n",
       "190768     -3    1153\n",
       "190769     -3    1123\n",
       "190770    -11    1201\n",
       "\n",
       "[190771 rows x 2 columns]"
      ]
     },
     "execution_count": 130,
     "metadata": {},
     "output_type": "execute_result"
    }
   ],
   "source": [
    "losspd = pd.DataFrame( { 'Score' :  dict_df['MRegularSeasonCompactResults']['LScore']  - dict_df['MRegularSeasonCompactResults']['WScore'] , \n",
    "                        'TeamID'  : dict_df['MRegularSeasonCompactResults']['LTeamID'] }   ) \n",
    "losspd"
   ]
  },
  {
   "cell_type": "code",
   "execution_count": 133,
   "id": "b5b8b1bd-dd7a-4036-942b-6df784f045ff",
   "metadata": {},
   "outputs": [
    {
     "data": {
      "text/html": [
       "<div>\n",
       "<style scoped>\n",
       "    .dataframe tbody tr th:only-of-type {\n",
       "        vertical-align: middle;\n",
       "    }\n",
       "\n",
       "    .dataframe tbody tr th {\n",
       "        vertical-align: top;\n",
       "    }\n",
       "\n",
       "    .dataframe thead th {\n",
       "        text-align: right;\n",
       "    }\n",
       "</style>\n",
       "<table border=\"1\" class=\"dataframe\">\n",
       "  <thead>\n",
       "    <tr style=\"text-align: right;\">\n",
       "      <th></th>\n",
       "      <th>Score</th>\n",
       "      <th>TeamID</th>\n",
       "    </tr>\n",
       "  </thead>\n",
       "  <tbody>\n",
       "    <tr>\n",
       "      <th>0</th>\n",
       "      <td>17</td>\n",
       "      <td>1228</td>\n",
       "    </tr>\n",
       "    <tr>\n",
       "      <th>1</th>\n",
       "      <td>7</td>\n",
       "      <td>1106</td>\n",
       "    </tr>\n",
       "    <tr>\n",
       "      <th>2</th>\n",
       "      <td>7</td>\n",
       "      <td>1112</td>\n",
       "    </tr>\n",
       "    <tr>\n",
       "      <th>3</th>\n",
       "      <td>16</td>\n",
       "      <td>1165</td>\n",
       "    </tr>\n",
       "    <tr>\n",
       "      <th>4</th>\n",
       "      <td>12</td>\n",
       "      <td>1192</td>\n",
       "    </tr>\n",
       "    <tr>\n",
       "      <th>...</th>\n",
       "      <td>...</td>\n",
       "      <td>...</td>\n",
       "    </tr>\n",
       "    <tr>\n",
       "      <th>190766</th>\n",
       "      <td>-7</td>\n",
       "      <td>1328</td>\n",
       "    </tr>\n",
       "    <tr>\n",
       "      <th>190767</th>\n",
       "      <td>-3</td>\n",
       "      <td>1325</td>\n",
       "    </tr>\n",
       "    <tr>\n",
       "      <th>190768</th>\n",
       "      <td>-3</td>\n",
       "      <td>1153</td>\n",
       "    </tr>\n",
       "    <tr>\n",
       "      <th>190769</th>\n",
       "      <td>-3</td>\n",
       "      <td>1123</td>\n",
       "    </tr>\n",
       "    <tr>\n",
       "      <th>190770</th>\n",
       "      <td>-11</td>\n",
       "      <td>1201</td>\n",
       "    </tr>\n",
       "  </tbody>\n",
       "</table>\n",
       "<p>381542 rows × 2 columns</p>\n",
       "</div>"
      ],
      "text/plain": [
       "        Score  TeamID\n",
       "0          17    1228\n",
       "1           7    1106\n",
       "2           7    1112\n",
       "3          16    1165\n",
       "4          12    1192\n",
       "...       ...     ...\n",
       "190766     -7    1328\n",
       "190767     -3    1325\n",
       "190768     -3    1153\n",
       "190769     -3    1123\n",
       "190770    -11    1201\n",
       "\n",
       "[381542 rows x 2 columns]"
      ]
     },
     "execution_count": 133,
     "metadata": {},
     "output_type": "execute_result"
    }
   ],
   "source": [
    "df = pd.concat([winpd,losspd])\n",
    "df"
   ]
  },
  {
   "cell_type": "code",
   "execution_count": 136,
   "id": "62339fb3-d8b2-4f89-8964-37b5741e90dc",
   "metadata": {},
   "outputs": [],
   "source": [
    "team_score = df.groupby('TeamID').sum(['Score'])"
   ]
  },
  {
   "cell_type": "code",
   "execution_count": 137,
   "id": "694e835b-367c-47d7-befe-8ad9d67c54d8",
   "metadata": {},
   "outputs": [],
   "source": [
    "team_score.reset_index(inplace = True)"
   ]
  },
  {
   "cell_type": "code",
   "execution_count": 140,
   "id": "3e050776-cfb4-4627-906e-d15291f1f3b1",
   "metadata": {},
   "outputs": [
    {
     "name": "stdout",
     "output_type": "stream",
     "text": [
      "-14201\n",
      "17785\n"
     ]
    }
   ],
   "source": [
    "print(np.min(team_score['Score']))\n",
    "print(np.max(team_score['Score']))\n"
   ]
  },
  {
   "cell_type": "code",
   "execution_count": null,
   "id": "f6308a83-53c5-4db4-bc05-65a96601656a",
   "metadata": {},
   "outputs": [],
   "source": []
  }
 ],
 "metadata": {
  "kernelspec": {
   "display_name": "Python 3 (ipykernel)",
   "language": "python",
   "name": "python3"
  },
  "language_info": {
   "codemirror_mode": {
    "name": "ipython",
    "version": 3
   },
   "file_extension": ".py",
   "mimetype": "text/x-python",
   "name": "python",
   "nbconvert_exporter": "python",
   "pygments_lexer": "ipython3",
   "version": "3.10.16"
  }
 },
 "nbformat": 4,
 "nbformat_minor": 5
}
