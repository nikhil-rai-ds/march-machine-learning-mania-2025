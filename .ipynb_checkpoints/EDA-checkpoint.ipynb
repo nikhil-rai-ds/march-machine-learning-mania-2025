{
 "cells": [
  {
   "cell_type": "markdown",
   "id": "1f9056c1-a545-4fe6-896b-017e0d5afbf3",
   "metadata": {},
   "source": [
    "# EDA"
   ]
  },
  {
   "cell_type": "markdown",
   "id": "0a80e568-6114-4518-82d8-bf36d4b61e70",
   "metadata": {},
   "source": [
    "## Dependencies"
   ]
  },
  {
   "cell_type": "code",
   "execution_count": 165,
   "id": "d4872e0f-8020-4536-be6b-8eda142681ec",
   "metadata": {},
   "outputs": [],
   "source": [
    "import pandas as pd\n",
    "import numpy as np\n",
    "\n",
    "import matplotlib.pyplot as plt"
   ]
  },
  {
   "cell_type": "markdown",
   "id": "303cb851-c3cc-448f-9bd0-b6cd1f8c44bc",
   "metadata": {},
   "source": [
    "## Data"
   ]
  },
  {
   "cell_type": "code",
   "execution_count": null,
   "id": "0ca9b961-903a-4059-bba7-250302eb208b",
   "metadata": {},
   "outputs": [],
   "source": [
    "MTeams = pd.read_csv(\"../data/Mteams.csv\")\n",
    "MTeams.head()"
   ]
  },
  {
   "cell_type": "code",
   "execution_count": null,
   "id": "c1ab7c81-7978-4f27-ad75-e0c3011bc34a",
   "metadata": {},
   "outputs": [],
   "source": [
    "WTeams  = pd.read_csv(\"../data/Wteams.csv\")\n",
    "WTeams.head()"
   ]
  },
  {
   "cell_type": "code",
   "execution_count": null,
   "id": "5a109324-739a-4d22-b6b0-098c77033098",
   "metadata": {},
   "outputs": [],
   "source": [
    "MSeasons = pd.read_csv('../data/MSeasons.csv')\n",
    "WSeasons = pd.read_csv('../data/WSeasons.csv')"
   ]
  },
  {
   "cell_type": "code",
   "execution_count": null,
   "id": "3bde78e5-bc7d-432e-8037-35002f68ad03",
   "metadata": {},
   "outputs": [],
   "source": [
    "MSeasons.head()"
   ]
  },
  {
   "cell_type": "code",
   "execution_count": null,
   "id": "53a5f358-5419-440d-8455-53d2c356acb5",
   "metadata": {},
   "outputs": [],
   "source": [
    "WSeasons.head()"
   ]
  },
  {
   "cell_type": "markdown",
   "id": "8f2b6d67-8fc9-4833-83e9-31350f549ac9",
   "metadata": {
    "jp-MarkdownHeadingCollapsed": true
   },
   "source": [
    "<h5     style = 'color : red'>MNCAATourneySeeds.csv and WNCAATourneySeeds.csv</h5>"
   ]
  },
  {
   "cell_type": "code",
   "execution_count": null,
   "id": "87b5f507-fa7f-423d-9147-c05fe053816c",
   "metadata": {},
   "outputs": [],
   "source": [
    "MNCAATourneySeeds = pd.read_csv('..\\data\\MNCAATourneySeeds.csv')\n",
    "WNCAATourneySeeds = pd.read_csv('..\\data\\WNCAATourneySeeds.csv')"
   ]
  },
  {
   "cell_type": "code",
   "execution_count": 134,
   "id": "909fc7ac-d668-4b82-b111-3e4b1ade051f",
   "metadata": {},
   "outputs": [
    {
     "data": {
      "text/html": [
       "<div>\n",
       "<style scoped>\n",
       "    .dataframe tbody tr th:only-of-type {\n",
       "        vertical-align: middle;\n",
       "    }\n",
       "\n",
       "    .dataframe tbody tr th {\n",
       "        vertical-align: top;\n",
       "    }\n",
       "\n",
       "    .dataframe thead th {\n",
       "        text-align: right;\n",
       "    }\n",
       "</style>\n",
       "<table border=\"1\" class=\"dataframe\">\n",
       "  <thead>\n",
       "    <tr style=\"text-align: right;\">\n",
       "      <th></th>\n",
       "      <th>Season</th>\n",
       "      <th>Seed</th>\n",
       "      <th>TeamID</th>\n",
       "    </tr>\n",
       "  </thead>\n",
       "  <tbody>\n",
       "    <tr>\n",
       "      <th>0</th>\n",
       "      <td>1985</td>\n",
       "      <td>W01</td>\n",
       "      <td>1207</td>\n",
       "    </tr>\n",
       "    <tr>\n",
       "      <th>1</th>\n",
       "      <td>1985</td>\n",
       "      <td>W02</td>\n",
       "      <td>1210</td>\n",
       "    </tr>\n",
       "    <tr>\n",
       "      <th>2</th>\n",
       "      <td>1985</td>\n",
       "      <td>W03</td>\n",
       "      <td>1228</td>\n",
       "    </tr>\n",
       "    <tr>\n",
       "      <th>3</th>\n",
       "      <td>1985</td>\n",
       "      <td>W04</td>\n",
       "      <td>1260</td>\n",
       "    </tr>\n",
       "    <tr>\n",
       "      <th>4</th>\n",
       "      <td>1985</td>\n",
       "      <td>W05</td>\n",
       "      <td>1374</td>\n",
       "    </tr>\n",
       "  </tbody>\n",
       "</table>\n",
       "</div>"
      ],
      "text/plain": [
       "   Season Seed  TeamID\n",
       "0    1985  W01    1207\n",
       "1    1985  W02    1210\n",
       "2    1985  W03    1228\n",
       "3    1985  W04    1260\n",
       "4    1985  W05    1374"
      ]
     },
     "execution_count": 134,
     "metadata": {},
     "output_type": "execute_result"
    }
   ],
   "source": [
    "MNCAATourneySeeds.head()"
   ]
  },
  {
   "cell_type": "code",
   "execution_count": null,
   "id": "d27a9984-91e2-4bf8-b197-1df42d492a9f",
   "metadata": {},
   "outputs": [],
   "source": [
    "WNCAATourneySeeds.head()"
   ]
  },
  {
   "cell_type": "markdown",
   "id": "44b963db-164f-4b6b-acb1-f6f478bbbdc1",
   "metadata": {
    "jp-MarkdownHeadingCollapsed": true
   },
   "source": [
    "<h5 style = 'color:red'>MRegularSeasonCompactResults.csv and WRegularSeasonCompactResults.csv </h5>"
   ]
  },
  {
   "cell_type": "code",
   "execution_count": null,
   "id": "35c4fd2e-2eca-40fe-be0c-550a15afdfdc",
   "metadata": {},
   "outputs": [],
   "source": [
    "MRegularSeasonCompactResults = pd.read_csv('..\\data\\MRegularSeasonCompactResults.csv')\n",
    "WRegularSeasonCompactResults = pd.read_csv('..\\data\\WRegularSeasonCompactResults.csv')"
   ]
  },
  {
   "cell_type": "code",
   "execution_count": 135,
   "id": "aa5e29dd-4388-43c2-b926-47940d706110",
   "metadata": {},
   "outputs": [
    {
     "data": {
      "text/html": [
       "<div>\n",
       "<style scoped>\n",
       "    .dataframe tbody tr th:only-of-type {\n",
       "        vertical-align: middle;\n",
       "    }\n",
       "\n",
       "    .dataframe tbody tr th {\n",
       "        vertical-align: top;\n",
       "    }\n",
       "\n",
       "    .dataframe thead th {\n",
       "        text-align: right;\n",
       "    }\n",
       "</style>\n",
       "<table border=\"1\" class=\"dataframe\">\n",
       "  <thead>\n",
       "    <tr style=\"text-align: right;\">\n",
       "      <th></th>\n",
       "      <th>Season</th>\n",
       "      <th>DayNum</th>\n",
       "      <th>WTeamID</th>\n",
       "      <th>WScore</th>\n",
       "      <th>LTeamID</th>\n",
       "      <th>LScore</th>\n",
       "      <th>WLoc</th>\n",
       "      <th>NumOT</th>\n",
       "    </tr>\n",
       "  </thead>\n",
       "  <tbody>\n",
       "    <tr>\n",
       "      <th>0</th>\n",
       "      <td>1985</td>\n",
       "      <td>20</td>\n",
       "      <td>1228</td>\n",
       "      <td>81</td>\n",
       "      <td>1328</td>\n",
       "      <td>64</td>\n",
       "      <td>N</td>\n",
       "      <td>0</td>\n",
       "    </tr>\n",
       "    <tr>\n",
       "      <th>1</th>\n",
       "      <td>1985</td>\n",
       "      <td>25</td>\n",
       "      <td>1106</td>\n",
       "      <td>77</td>\n",
       "      <td>1354</td>\n",
       "      <td>70</td>\n",
       "      <td>H</td>\n",
       "      <td>0</td>\n",
       "    </tr>\n",
       "    <tr>\n",
       "      <th>2</th>\n",
       "      <td>1985</td>\n",
       "      <td>25</td>\n",
       "      <td>1112</td>\n",
       "      <td>63</td>\n",
       "      <td>1223</td>\n",
       "      <td>56</td>\n",
       "      <td>H</td>\n",
       "      <td>0</td>\n",
       "    </tr>\n",
       "    <tr>\n",
       "      <th>3</th>\n",
       "      <td>1985</td>\n",
       "      <td>25</td>\n",
       "      <td>1165</td>\n",
       "      <td>70</td>\n",
       "      <td>1432</td>\n",
       "      <td>54</td>\n",
       "      <td>H</td>\n",
       "      <td>0</td>\n",
       "    </tr>\n",
       "    <tr>\n",
       "      <th>4</th>\n",
       "      <td>1985</td>\n",
       "      <td>25</td>\n",
       "      <td>1192</td>\n",
       "      <td>86</td>\n",
       "      <td>1447</td>\n",
       "      <td>74</td>\n",
       "      <td>H</td>\n",
       "      <td>0</td>\n",
       "    </tr>\n",
       "  </tbody>\n",
       "</table>\n",
       "</div>"
      ],
      "text/plain": [
       "   Season  DayNum  WTeamID  WScore  LTeamID  LScore WLoc  NumOT\n",
       "0    1985      20     1228      81     1328      64    N      0\n",
       "1    1985      25     1106      77     1354      70    H      0\n",
       "2    1985      25     1112      63     1223      56    H      0\n",
       "3    1985      25     1165      70     1432      54    H      0\n",
       "4    1985      25     1192      86     1447      74    H      0"
      ]
     },
     "execution_count": 135,
     "metadata": {},
     "output_type": "execute_result"
    }
   ],
   "source": [
    "MRegularSeasonCompactResults.head()"
   ]
  },
  {
   "cell_type": "code",
   "execution_count": null,
   "id": "dc7f261d-05b6-42b3-aa86-49cf4d4618fc",
   "metadata": {},
   "outputs": [],
   "source": [
    "WRegularSeasonCompactResults.head()"
   ]
  },
  {
   "cell_type": "markdown",
   "id": "5dd43f26-321e-47f7-9612-b33f0fbb2a84",
   "metadata": {
    "jp-MarkdownHeadingCollapsed": true
   },
   "source": [
    "<h5 style = 'color:red'> MNCAATourneyCompactResults.csv and WNCAATourneyCompactResults.csv </h5>"
   ]
  },
  {
   "cell_type": "code",
   "execution_count": null,
   "id": "91ad704d-1572-483a-ae5e-5ab87bc175ce",
   "metadata": {},
   "outputs": [],
   "source": [
    "MNCAATourneyCompactResults = pd.read_csv('../data/MNCAATourneyCompactResults.csv')\n",
    "WNCAATourneyCompactResults = pd.read_csv('../Data/WNCAATourneyCompactResults.csv')"
   ]
  },
  {
   "cell_type": "code",
   "execution_count": null,
   "id": "57e32db4-d055-4bb1-b506-4ecfeaa8260f",
   "metadata": {},
   "outputs": [],
   "source": [
    "MNCAATourneyCompactResults.head()"
   ]
  },
  {
   "cell_type": "code",
   "execution_count": null,
   "id": "b97446d1-17d9-498f-b281-301ef20a2a22",
   "metadata": {},
   "outputs": [],
   "source": [
    "WNCAATourneyCompactResults.head()"
   ]
  },
  {
   "cell_type": "markdown",
   "id": "44147998-60dd-4fb2-90bf-7da010bfdf87",
   "metadata": {
    "jp-MarkdownHeadingCollapsed": true
   },
   "source": [
    "<h5 style = 'color:red'>Sample Submission Stage1 </h5>"
   ]
  },
  {
   "cell_type": "code",
   "execution_count": null,
   "id": "c1159ee6-ba8a-42d2-b405-e160705bb165",
   "metadata": {},
   "outputs": [],
   "source": [
    "SampleSubmissionStage1 = pd.read_csv('../Data/SampleSubmissionStage1.csv')\n"
   ]
  },
  {
   "cell_type": "code",
   "execution_count": null,
   "id": "8ca14bac-a848-4336-aa8c-7a96597979c6",
   "metadata": {},
   "outputs": [],
   "source": [
    "SampleSubmissionStage1.head()"
   ]
  },
  {
   "cell_type": "markdown",
   "id": "2baf169d-5cc3-4e1a-9309-da54e6ad4507",
   "metadata": {
    "jp-MarkdownHeadingCollapsed": true
   },
   "source": [
    "## DataFrame Dictionary "
   ]
  },
  {
   "cell_type": "code",
   "execution_count": null,
   "id": "c5d1eced-228e-4284-93db-e6ffb73ac75b",
   "metadata": {},
   "outputs": [],
   "source": [
    "dict_df = {\n",
    "              'MTeams' : MTeams,\n",
    "              'WTeams' : WTeams,\n",
    "              'MSeasons' : MSeasons,\n",
    "              'WSeasons' : WSeasons,\n",
    "              'MNCAATourneySeeds' : MNCAATourneySeeds,\n",
    "               'WNCAATourneySeeds' : WNCAATourneySeeds,\n",
    "                'WRegularSeasonCompactResults' : WRegularSeasonCompactResults,\n",
    "                'MRegularSeasonCompactResults' : MRegularSeasonCompactResults,\n",
    "                'MNCAATourneyCompactResults' : MNCAATourneyCompactResults,\n",
    "                'WNCAATourneyCompactResults' : WNCAATourneyCompactResults\n",
    "                                   \n",
    "}  \n"
   ]
  },
  {
   "cell_type": "markdown",
   "id": "72f02126-57f5-49b8-a78c-858a0824950c",
   "metadata": {
    "jp-MarkdownHeadingCollapsed": true
   },
   "source": [
    "## Data Analysis"
   ]
  },
  {
   "cell_type": "markdown",
   "id": "4c225bc2-4f7e-4f33-9d2e-716188b9be8e",
   "metadata": {
    "jp-MarkdownHeadingCollapsed": true
   },
   "source": [
    "<h5>Mteams</h5>"
   ]
  },
  {
   "cell_type": "code",
   "execution_count": null,
   "id": "22ae3e20-1277-41bc-b64d-87f9c0a0b313",
   "metadata": {},
   "outputs": [],
   "source": [
    "Mteams.columns"
   ]
  },
  {
   "cell_type": "code",
   "execution_count": null,
   "id": "ee131183-fba8-43b8-a520-184cbfd96a90",
   "metadata": {},
   "outputs": [],
   "source": [
    "list(set(Mteams['LastD1Season']))"
   ]
  },
  {
   "cell_type": "code",
   "execution_count": null,
   "id": "b1324d37-642a-4612-a535-189b94204e4c",
   "metadata": {},
   "outputs": [],
   "source": [
    "Mteams = Mteams[Mteams['LastD1Season'] == 2025]"
   ]
  },
  {
   "cell_type": "code",
   "execution_count": null,
   "id": "fd98847e-b863-47c0-9032-3d2c95882cbe",
   "metadata": {},
   "outputs": [],
   "source": [
    "Mteams.shape"
   ]
  },
  {
   "cell_type": "code",
   "execution_count": null,
   "id": "171f40c7-c430-45d8-a070-c69005160e20",
   "metadata": {},
   "outputs": [],
   "source": [
    "len(list(set(Mteams['TeamName'])))"
   ]
  },
  {
   "cell_type": "code",
   "execution_count": null,
   "id": "7ec631c1-a2bd-436d-90e1-9fb6366a26c1",
   "metadata": {},
   "outputs": [],
   "source": [
    "list(set(Mteams['FirstD1Season']))"
   ]
  },
  {
   "cell_type": "code",
   "execution_count": null,
   "id": "64a06342-2fe1-49dd-9193-96bd41b28740",
   "metadata": {},
   "outputs": [],
   "source": [
    "Mteams.groupby('FirstD1Season').count()"
   ]
  },
  {
   "cell_type": "markdown",
   "id": "9929ad7d-70ce-4333-bd57-e265aaf997e9",
   "metadata": {},
   "source": []
  },
  {
   "cell_type": "markdown",
   "id": "6abe5c10-c548-402e-8bc8-5f8dbe41b961",
   "metadata": {
    "jp-MarkdownHeadingCollapsed": true
   },
   "source": [
    "<h5>MSeasons</h5>"
   ]
  },
  {
   "cell_type": "code",
   "execution_count": null,
   "id": "e67fa5de-e232-424e-bbad-cf31d730e99f",
   "metadata": {},
   "outputs": [],
   "source": []
  },
  {
   "cell_type": "code",
   "execution_count": null,
   "id": "64a7cbe9-23de-47f8-8b70-44a82e5344d5",
   "metadata": {},
   "outputs": [],
   "source": [
    "MSeasons.head()"
   ]
  },
  {
   "cell_type": "code",
   "execution_count": null,
   "id": "f275f177-970d-4673-b70f-4201da372f29",
   "metadata": {},
   "outputs": [],
   "source": [
    "regions = list(set(MSeasons['RegionW']).union(   set(MSeasons['RegionX'])   , set(MSeasons['RegionY'])  ,  set(MSeasons['RegionZ']) ))\n",
    "regions"
   ]
  },
  {
   "cell_type": "code",
   "execution_count": null,
   "id": "4b9dd6f1-7bf0-484b-b4e1-5aa9864a969d",
   "metadata": {},
   "outputs": [],
   "source": [
    "regionsW = list(set(MSeasons['RegionW']))\n",
    "regionsW"
   ]
  },
  {
   "cell_type": "code",
   "execution_count": null,
   "id": "386f7f59-31d2-427d-bc3a-7302a85c6f68",
   "metadata": {},
   "outputs": [],
   "source": [
    "regionsX = list(set(MSeasons['RegionX']))\n",
    "regionsX"
   ]
  },
  {
   "cell_type": "code",
   "execution_count": null,
   "id": "6ad24bc1-e10b-4bd4-b6b0-3bf4b96c54a2",
   "metadata": {},
   "outputs": [],
   "source": [
    "regionsY = list(set(MSeasons['RegionY']))\n",
    "regionsY"
   ]
  },
  {
   "cell_type": "code",
   "execution_count": null,
   "id": "40c16069-70a3-4950-b247-9af3a82b07c9",
   "metadata": {},
   "outputs": [],
   "source": [
    "regionsZ = list(set(MSeasons['RegionZ']))\n",
    "regionsZ"
   ]
  },
  {
   "cell_type": "code",
   "execution_count": null,
   "id": "71d92945-7a51-40b6-8cf6-26cd395696bb",
   "metadata": {},
   "outputs": [],
   "source": [
    "MSeasons.columns"
   ]
  },
  {
   "cell_type": "code",
   "execution_count": null,
   "id": "0682e278-299a-47d5-b17a-a3694a89528e",
   "metadata": {},
   "outputs": [],
   "source": [
    "MSeasons.describe()"
   ]
  },
  {
   "cell_type": "code",
   "execution_count": null,
   "id": "ae21b96e-dc54-4a4d-8062-2052a9e0eed9",
   "metadata": {},
   "outputs": [],
   "source": [
    "MSeasons.info()"
   ]
  },
  {
   "cell_type": "code",
   "execution_count": null,
   "id": "56035636-272b-4871-98b0-122ac3c27614",
   "metadata": {},
   "outputs": [],
   "source": [
    "(list(set(MSeasons['DayZero'])))"
   ]
  },
  {
   "cell_type": "markdown",
   "id": "129c2ebf-208e-497d-826a-9d6af6b162e3",
   "metadata": {},
   "source": [
    "<p>\n",
    "    How This Data Helps\n",
    "<p>1️⃣ Bracket Structure:\n",
    "\n",
    "Teams only compete within their region until the Final Four.\n",
    "We can track matchups round by round.</p>\n",
    "<p>2️⃣ Regional Strength Analysis:\n",
    "\n",
    "We can analyze which regions are tougher.\n",
    "Example: If W region has 3 top-10 teams, it might be a \"Group of Death.\"</p>\n",
    "<p>3️⃣ Predicting Upsets:\n",
    "\n",
    "If a #12 seed in Region X has beaten multiple #5 seeds historically, we might predict another 12-over-5 upset in that region.\n",
    "</p>"
   ]
  },
  {
   "cell_type": "markdown",
   "id": "62f7c7e6-c913-472d-8e11-fd36add028b2",
   "metadata": {
    "jp-MarkdownHeadingCollapsed": true
   },
   "source": [
    "<h5>MNCAATourneySeeds</h5>"
   ]
  },
  {
   "cell_type": "code",
   "execution_count": null,
   "id": "d75a00bb-dab1-4060-a5c2-454b298de02b",
   "metadata": {},
   "outputs": [],
   "source": [
    "set(MNCAATourneySeeds['Seed'])"
   ]
  },
  {
   "cell_type": "code",
   "execution_count": null,
   "id": "a43da4c0-c088-4d24-bd66-9e8b66041c73",
   "metadata": {},
   "outputs": [],
   "source": [
    "set(MNCAATourneySeeds['Season'])"
   ]
  },
  {
   "cell_type": "markdown",
   "id": "00e460c7-0c42-44f2-bd14-b1652a4423fc",
   "metadata": {},
   "source": [
    "The data is till 2024"
   ]
  },
  {
   "cell_type": "code",
   "execution_count": null,
   "id": "8709283d-41fb-4ced-947e-e118849ae1b3",
   "metadata": {},
   "outputs": [],
   "source": [
    "set( [ s[1:3] for s in list(MNCAATourneySeeds['Seed']) ] )"
   ]
  },
  {
   "cell_type": "markdown",
   "id": "cce2a4b3-d374-4c74-95f3-b13e151807b1",
   "metadata": {},
   "source": [
    "There is a good possiblity to draw the barcharts on averages of last 5 years, 10 years, 15 years and the peroformance of teams"
   ]
  },
  {
   "cell_type": "markdown",
   "id": "78aade77-8264-4d8d-85d4-ddfd1351a109",
   "metadata": {},
   "source": [
    "<p>🔹 Why Are They Important?</p>\n",
    "<p>📌 Momentum Boost → Play-in teams already won a high-stakes game, making them dangerous in the main tournament.</p>\n",
    "<p>📌 Upset Potential → Some play-in teams perform better than expected (e.g., UCLA went from play-in to Final Four in 2021).</p>\n",
    "<p>📌 Predictive Modeling → These teams have extra recent performance data, which could influence their win probability in the main bracket.</p>\n",
    "\n",
    "<p>TL;DR: Play-in games determine the final teams that enter March Madness. They can be a big factor in predicting upsets and understanding team momentum! 🚀</p>"
   ]
  },
  {
   "cell_type": "markdown",
   "id": "b852fbdd-1a18-4633-85b0-d3c0c51bfd62",
   "metadata": {
    "jp-MarkdownHeadingCollapsed": true
   },
   "source": [
    "<h5>Regular Season Compact Results</h5>"
   ]
  },
  {
   "cell_type": "code",
   "execution_count": null,
   "id": "5450816e-9eef-4f5f-8da2-8eec6e0d9ff1",
   "metadata": {},
   "outputs": [],
   "source": [
    "MRegularSeasonCompactResults.head()"
   ]
  },
  {
   "cell_type": "code",
   "execution_count": null,
   "id": "72823160-00a3-458c-84cb-4cb643ed504c",
   "metadata": {},
   "outputs": [],
   "source": [
    "for cols in MRegularSeasonCompactResults.columns : \n",
    "    print(cols,'\\n','='*20,'\\n',set(MRegularSeasonCompactResults[cols]))"
   ]
  },
  {
   "cell_type": "markdown",
   "id": "fe8f9bb3-6645-439d-ae26-a4b613bfc0bb",
   "metadata": {},
   "source": [
    "<p>📌 Why This Matters?</p>\n",
    "\n",
    "<p>Higher NumOT → The game was closely contested, indicating evenly matched teams.</p>\n",
    "<p>Fatigue Impact → A team playing multiple overtime games before the tournament might be more fatigued.</p>\n",
    "<p>Clutch Performance → Teams that frequently win in overtime might have strong late-game execution.</p>"
   ]
  },
  {
   "cell_type": "markdown",
   "id": "237ee138-55ad-44ea-a189-7f4114dd1cd0",
   "metadata": {},
   "source": [
    "<p>📌 Why This Matters?</p>\n",
    "\n",
    "<p>Home teams usually have an advantage due to crowd support and familiarity with the court.</p>\n",
    "<p>Neutral-site games (like March Madness tournament games) eliminate home-court advantage.</p>\n",
    "<p>Away wins may indicate a stronger team that can perform well in different environm</p>"
   ]
  },
  {
   "cell_type": "markdown",
   "id": "97854b16-866d-41e0-ba2e-d3419bbe57a9",
   "metadata": {
    "jp-MarkdownHeadingCollapsed": true
   },
   "source": [
    "<h5>MNCAATourneyCompactResults</h5>"
   ]
  },
  {
   "cell_type": "markdown",
   "id": "4006ae5e-5565-4e6c-8a58-401cf573b0b1",
   "metadata": {},
   "source": [
    "<p>Used to evaluate how teams perform under pressure in the tournament.</p>"
   ]
  },
  {
   "cell_type": "markdown",
   "id": "702d6dba-dfcb-496b-9ac9-fdd7660cb304",
   "metadata": {},
   "source": [
    "<p>✅ Regular Season Data is crucial for overall team performance trends.</p>\n",
    "<p>✅ Tournament Data is useful for March Madness-specific performance.</p>\n",
    "<p>✅ Since all tournament games are neutral-site, home-court advantage is not a factor in</p>"
   ]
  },
  {
   "cell_type": "markdown",
   "id": "a7d3b5f5-b572-4d4d-acb4-29e32e04c49e",
   "metadata": {
    "jp-MarkdownHeadingCollapsed": true
   },
   "source": [
    "## Data Cleaning and Exploration"
   ]
  },
  {
   "cell_type": "code",
   "execution_count": null,
   "id": "5d4c73a5-f5c4-4474-bd26-c6155c40bde3",
   "metadata": {},
   "outputs": [],
   "source": [
    "for df in dict_df.keys() : \n",
    "    print(df,' : ')\n",
    "    print(dict_df[df].head())\n",
    "    print('='*20)\n"
   ]
  },
  {
   "cell_type": "markdown",
   "id": "c52aa45b-658f-4d9b-a08b-b7d3d7da8efa",
   "metadata": {
    "jp-MarkdownHeadingCollapsed": true
   },
   "source": [
    "##### Null and missing values"
   ]
  },
  {
   "cell_type": "code",
   "execution_count": null,
   "id": "783c7909-d8e9-4e83-8700-fd8850178479",
   "metadata": {},
   "outputs": [],
   "source": [
    "for df in dict_df.keys() : \n",
    "    print(dict_df[df].columns)"
   ]
  },
  {
   "cell_type": "code",
   "execution_count": null,
   "id": "07b657a5-6ad7-4072-b264-e6c863be5821",
   "metadata": {},
   "outputs": [],
   "source": [
    "for df in dict_df.keys() : \n",
    "    print(df, \"  : \" )\n",
    "    print(dict_df[df].isnull().sum())\n",
    "    print('='*20)"
   ]
  },
  {
   "cell_type": "markdown",
   "id": "aab68d3b-1a6e-4432-a7d1-6853082378a2",
   "metadata": {},
   "source": [
    "No null values"
   ]
  },
  {
   "cell_type": "code",
   "execution_count": null,
   "id": "f3bfe415-5849-4cff-9249-4230f1e17a90",
   "metadata": {},
   "outputs": [],
   "source": [
    "for df in dict_df.keys() : \n",
    "     for cols in dict_df[df].columns : \n",
    "         print(f\"{df}___{cols} unique values\")\n",
    "         print(set(dict_df[df][cols]),'\\n')\n",
    "         print(\"=\"*20)"
   ]
  },
  {
   "cell_type": "code",
   "execution_count": null,
   "id": "75fe64fc-0d78-49ae-9a9a-34f1334f6b2f",
   "metadata": {},
   "outputs": [],
   "source": [
    "dict_df['WSeasons'][dict_df['WSeasons']['RegionZ'] == 'NA4']"
   ]
  },
  {
   "cell_type": "code",
   "execution_count": null,
   "id": "2e8f5ee8-baf3-43d0-979d-9fc475bc746f",
   "metadata": {},
   "outputs": [],
   "source": [
    "dict_df['WSeasons'][dict_df['WSeasons']['RegionY'] == 'NA3']"
   ]
  },
  {
   "cell_type": "code",
   "execution_count": null,
   "id": "ec790b3a-0cd5-4300-b14e-8ec8011f3d86",
   "metadata": {},
   "outputs": [],
   "source": [
    "dict_df['WSeasons'][dict_df['WSeasons']['RegionX'] == 'NA2']"
   ]
  },
  {
   "cell_type": "code",
   "execution_count": null,
   "id": "07bdcf38-08d1-4e1a-ba5c-95fb03aa6043",
   "metadata": {},
   "outputs": [],
   "source": [
    "dict_df['WSeasons'][dict_df['WSeasons']['RegionW'] == 'NA1']"
   ]
  },
  {
   "cell_type": "markdown",
   "id": "d489faa2-4bba-4bbc-b0b5-eae028ec4a21",
   "metadata": {},
   "source": [
    "Removing NA1 and TBD\n"
   ]
  },
  {
   "cell_type": "code",
   "execution_count": null,
   "id": "2f7a0b01-177c-4245-a6d4-d67e77df395b",
   "metadata": {},
   "outputs": [],
   "source": [
    "dict_df['WSeasons'] = dict_df['WSeasons'][dict_df['WSeasons']['RegionZ'] != 'NA4']"
   ]
  },
  {
   "cell_type": "code",
   "execution_count": null,
   "id": "f2ba2317-b105-463a-bbd5-e5ee6d15d24c",
   "metadata": {},
   "outputs": [],
   "source": [
    "dict_df['WSeasons'] = dict_df['WSeasons'][dict_df['WSeasons']['RegionZ'] != 'TBD4']"
   ]
  },
  {
   "cell_type": "code",
   "execution_count": null,
   "id": "3d44577d-3162-44eb-94d4-34b02588a179",
   "metadata": {},
   "outputs": [],
   "source": [
    "dict_df['WSeasons']"
   ]
  },
  {
   "cell_type": "code",
   "execution_count": null,
   "id": "b387bd8b-7359-4a78-856d-ba1066e74475",
   "metadata": {},
   "outputs": [],
   "source": [
    "dict_df['MSeasons'] = dict_df['MSeasons'][dict_df['MSeasons']['RegionZ'] != 'NA4']"
   ]
  },
  {
   "cell_type": "code",
   "execution_count": null,
   "id": "d30a8cda-219c-4613-832b-8db8d0480e2d",
   "metadata": {},
   "outputs": [],
   "source": [
    "dict_df['MSeasons'] = dict_df['MSeasons'][dict_df['MSeasons']['RegionZ'] != 'TBD4']"
   ]
  },
  {
   "cell_type": "code",
   "execution_count": null,
   "id": "5a0c2adc-04e8-444d-8cd6-0387769ad151",
   "metadata": {},
   "outputs": [],
   "source": [
    "dict_df['MSeasons']"
   ]
  },
  {
   "cell_type": "code",
   "execution_count": null,
   "id": "51ac5606-aa9c-4889-b742-c484e58c0a5f",
   "metadata": {},
   "outputs": [],
   "source": []
  },
  {
   "cell_type": "markdown",
   "id": "4a672f37-b976-403f-aef6-232f63553019",
   "metadata": {
    "jp-MarkdownHeadingCollapsed": true
   },
   "source": [
    "<h2>Analysis Dictionary</h2>"
   ]
  },
  {
   "cell_type": "code",
   "execution_count": 137,
   "id": "bbd1c5ad-831e-404f-bb4c-3e425b15b09c",
   "metadata": {},
   "outputs": [],
   "source": [
    "df_ans_dict = {}"
   ]
  },
  {
   "cell_type": "markdown",
   "id": "71ff9049-c7a5-41d9-8f9c-504910d409cf",
   "metadata": {},
   "source": [
    "## Exploratory Data Analysis"
   ]
  },
  {
   "cell_type": "code",
   "execution_count": 173,
   "id": "d6ebc7ea-30f5-4233-afde-6620baa994a3",
   "metadata": {},
   "outputs": [
    {
     "data": {
      "text/plain": [
       "<BarContainer object of 374 artists>"
      ]
     },
     "execution_count": 173,
     "metadata": {},
     "output_type": "execute_result"
    },
    {
     "data": {
      "image/png": "[encoded data removed]",
      "text/plain": [
       "<Figure size 640x480 with 1 Axes>"
      ]
     },
     "metadata": {},
     "output_type": "display_data"
    }
   ],
   "source": [
    "win = dict_df['MRegularSeasonCompactResults'].groupby(['WTeamID','WLoc']).agg({'WTeamID' : 'count'})\n",
    "win.rename(columns = {'WTeamID':'Won'},inplace = True)\n",
    "win.reset_index(inplace = True)\n",
    "\n",
    "loss = dict_df['MRegularSeasonCompactResults'].groupby(['LTeamID','WLoc']).agg({'LTeamID' : 'count'})\n",
    "loss.rename(columns = {'LTeamID':'loss'},inplace = True)\n",
    "loss.reset_index(inplace = True)\n",
    "\n",
    "win_df = pd.merge(win,loss,how = 'inner',left_on= ['WTeamID','WLoc'],right_on = ['LTeamID','WLoc'])\n",
    "win_df['Total'] = win_df['Won'] + win_df['loss']\n",
    "win_df['win_per'] = ((win_df['Won'] * 100.0) /win_df['Total']) \n",
    "\n",
    "df_ans_dict['win_df'] = win_df\n",
    "\n",
    "fig, ax = plt.subplots()\n",
    "ax.bar(x = win_df[win_df['WLoc'] == 'N']['WTeamID'], height = win_df[win_df['WLoc'] == 'N']['win_per'])"
   ]
  },
  {
   "cell_type": "code",
   "execution_count": null,
   "id": "afc75b47-d3a5-4311-91a0-7d95b40327fb",
   "metadata": {},
   "outputs": [],
   "source": []
  },
  {
   "cell_type": "code",
   "execution_count": 138,
   "id": "6e8f6604-d64a-4959-a2ea-c451d52c6376",
   "metadata": {},
   "outputs": [
    {
     "data": {
      "text/html": [
       "<div>\n",
       "<style scoped>\n",
       "    .dataframe tbody tr th:only-of-type {\n",
       "        vertical-align: middle;\n",
       "    }\n",
       "\n",
       "    .dataframe tbody tr th {\n",
       "        vertical-align: top;\n",
       "    }\n",
       "\n",
       "    .dataframe thead th {\n",
       "        text-align: right;\n",
       "    }\n",
       "</style>\n",
       "<table border=\"1\" class=\"dataframe\">\n",
       "  <thead>\n",
       "    <tr style=\"text-align: right;\">\n",
       "      <th></th>\n",
       "      <th></th>\n",
       "      <th>LTeamID</th>\n",
       "    </tr>\n",
       "    <tr>\n",
       "      <th>LTeamID</th>\n",
       "      <th>WLoc</th>\n",
       "      <th></th>\n",
       "    </tr>\n",
       "  </thead>\n",
       "  <tbody>\n",
       "    <tr>\n",
       "      <th rowspan=\"3\" valign=\"top\">1101</th>\n",
       "      <th>A</th>\n",
       "      <td>50</td>\n",
       "    </tr>\n",
       "    <tr>\n",
       "      <th>H</th>\n",
       "      <td>107</td>\n",
       "    </tr>\n",
       "    <tr>\n",
       "      <th>N</th>\n",
       "      <td>9</td>\n",
       "    </tr>\n",
       "    <tr>\n",
       "      <th rowspan=\"2\" valign=\"top\">1102</th>\n",
       "      <th>A</th>\n",
       "      <td>259</td>\n",
       "    </tr>\n",
       "    <tr>\n",
       "      <th>H</th>\n",
       "      <td>378</td>\n",
       "    </tr>\n",
       "    <tr>\n",
       "      <th>...</th>\n",
       "      <th>...</th>\n",
       "      <td>...</td>\n",
       "    </tr>\n",
       "    <tr>\n",
       "      <th rowspan=\"2\" valign=\"top\">1479</th>\n",
       "      <th>A</th>\n",
       "      <td>2</td>\n",
       "    </tr>\n",
       "    <tr>\n",
       "      <th>H</th>\n",
       "      <td>11</td>\n",
       "    </tr>\n",
       "    <tr>\n",
       "      <th rowspan=\"3\" valign=\"top\">1480</th>\n",
       "      <th>A</th>\n",
       "      <td>4</td>\n",
       "    </tr>\n",
       "    <tr>\n",
       "      <th>H</th>\n",
       "      <td>11</td>\n",
       "    </tr>\n",
       "    <tr>\n",
       "      <th>N</th>\n",
       "      <td>2</td>\n",
       "    </tr>\n",
       "  </tbody>\n",
       "</table>\n",
       "<p>1137 rows × 1 columns</p>\n",
       "</div>"
      ],
      "text/plain": [
       "              LTeamID\n",
       "LTeamID WLoc         \n",
       "1101    A          50\n",
       "        H         107\n",
       "        N           9\n",
       "1102    A         259\n",
       "        H         378\n",
       "...               ...\n",
       "1479    A           2\n",
       "        H          11\n",
       "1480    A           4\n",
       "        H          11\n",
       "        N           2\n",
       "\n",
       "[1137 rows x 1 columns]"
      ]
     },
     "execution_count": 138,
     "metadata": {},
     "output_type": "execute_result"
    }
   ],
   "source": [
    "dict_df['MRegularSeasonCompactResults'].groupby(['LTeamID','WLoc']).agg({'LTeamID' : 'count'})"
   ]
  },
  {
   "cell_type": "code",
   "execution_count": null,
   "id": "860c4a8b-7c32-4386-a57e-f2354674efe3",
   "metadata": {},
   "outputs": [],
   "source": []
  }
 ],
 "metadata": {
  "kernelspec": {
   "display_name": "Python 3 (ipykernel)",
   "language": "python",
   "name": "python3"
  },
  "language_info": {
   "codemirror_mode": {
    "name": "ipython",
    "version": 3
   },
   "file_extension": ".py",
   "mimetype": "text/x-python",
   "name": "python",
   "nbconvert_exporter": "python",
   "pygments_lexer": "ipython3",
   "version": "3.10.16"
  }
 },
 "nbformat": 4,
 "nbformat_minor": 5
}
