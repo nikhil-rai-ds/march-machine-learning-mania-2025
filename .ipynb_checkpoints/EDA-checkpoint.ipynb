{
 "cells": [
  {
   "cell_type": "markdown",
   "id": "1f9056c1-a545-4fe6-896b-017e0d5afbf3",
   "metadata": {},
   "source": [
    "# EDA"
   ]
  },
  {
   "cell_type": "markdown",
   "id": "0a80e568-6114-4518-82d8-bf36d4b61e70",
   "metadata": {
    "jp-MarkdownHeadingCollapsed": true
   },
   "source": [
    "## Dependencies"
   ]
  },
  {
   "cell_type": "code",
   "execution_count": null,
   "id": "d4872e0f-8020-4536-be6b-8eda142681ec",
   "metadata": {},
   "outputs": [],
   "source": [
    "import pandas as pd\n",
    "import numpy as np\n",
    "\n",
    "import matplotlib.pyplot as plt\n",
    "import seaborn as sns"
   ]
  },
  {
   "cell_type": "markdown",
   "id": "303cb851-c3cc-448f-9bd0-b6cd1f8c44bc",
   "metadata": {},
   "source": [
    "## Data"
   ]
  },
  {
   "cell_type": "code",
   "execution_count": null,
   "id": "0ca9b961-903a-4059-bba7-250302eb208b",
   "metadata": {},
   "outputs": [],
   "source": [
    "MTeams = pd.read_csv(\"../data/Mteams.csv\")\n",
    "MTeams.head()"
   ]
  },
  {
   "cell_type": "code",
   "execution_count": null,
   "id": "c1ab7c81-7978-4f27-ad75-e0c3011bc34a",
   "metadata": {},
   "outputs": [],
   "source": [
    "WTeams  = pd.read_csv(\"../data/Wteams.csv\")\n",
    "WTeams.head()"
   ]
  },
  {
   "cell_type": "code",
   "execution_count": null,
   "id": "5a109324-739a-4d22-b6b0-098c77033098",
   "metadata": {},
   "outputs": [],
   "source": [
    "MSeasons = pd.read_csv('../data/MSeasons.csv')\n",
    "WSeasons = pd.read_csv('../data/WSeasons.csv')"
   ]
  },
  {
   "cell_type": "code",
   "execution_count": null,
   "id": "3bde78e5-bc7d-432e-8037-35002f68ad03",
   "metadata": {},
   "outputs": [],
   "source": [
    "MSeasons.head()"
   ]
  },
  {
   "cell_type": "code",
   "execution_count": null,
   "id": "53a5f358-5419-440d-8455-53d2c356acb5",
   "metadata": {},
   "outputs": [],
   "source": [
    "WSeasons.head()"
   ]
  },
  {
   "cell_type": "markdown",
   "id": "8f2b6d67-8fc9-4833-83e9-31350f549ac9",
   "metadata": {
    "jp-MarkdownHeadingCollapsed": true
   },
   "source": [
    "<h5     style = 'color : red'>MNCAATourneySeeds.csv and WNCAATourneySeeds.csv</h5>"
   ]
  },
  {
   "cell_type": "code",
   "execution_count": null,
   "id": "87b5f507-fa7f-423d-9147-c05fe053816c",
   "metadata": {},
   "outputs": [],
   "source": [
    "MNCAATourneySeeds = pd.read_csv('..\\data\\MNCAATourneySeeds.csv')\n",
    "WNCAATourneySeeds = pd.read_csv('..\\data\\WNCAATourneySeeds.csv')"
   ]
  },
  {
   "cell_type": "code",
   "execution_count": null,
   "id": "909fc7ac-d668-4b82-b111-3e4b1ade051f",
   "metadata": {},
   "outputs": [],
   "source": [
    "MNCAATourneySeeds.head()"
   ]
  },
  {
   "cell_type": "code",
   "execution_count": null,
   "id": "d27a9984-91e2-4bf8-b197-1df42d492a9f",
   "metadata": {},
   "outputs": [],
   "source": [
    "WNCAATourneySeeds.head()"
   ]
  },
  {
   "cell_type": "markdown",
   "id": "44b963db-164f-4b6b-acb1-f6f478bbbdc1",
   "metadata": {
    "jp-MarkdownHeadingCollapsed": true
   },
   "source": [
    "<h5 style = 'color:red'>MRegularSeasonCompactResults.csv and WRegularSeasonCompactResults.csv </h5>"
   ]
  },
  {
   "cell_type": "code",
   "execution_count": null,
   "id": "35c4fd2e-2eca-40fe-be0c-550a15afdfdc",
   "metadata": {},
   "outputs": [],
   "source": [
    "MRegularSeasonCompactResults = pd.read_csv('..\\data\\MRegularSeasonCompactResults.csv')\n",
    "WRegularSeasonCompactResults = pd.read_csv('..\\data\\WRegularSeasonCompactResults.csv')"
   ]
  },
  {
   "cell_type": "code",
   "execution_count": null,
   "id": "aa5e29dd-4388-43c2-b926-47940d706110",
   "metadata": {},
   "outputs": [],
   "source": [
    "MRegularSeasonCompactResults['WScore']"
   ]
  },
  {
   "cell_type": "code",
   "execution_count": null,
   "id": "dc7f261d-05b6-42b3-aa86-49cf4d4618fc",
   "metadata": {},
   "outputs": [],
   "source": [
    "WRegularSeasonCompactResults.head()"
   ]
  },
  {
   "cell_type": "markdown",
   "id": "5dd43f26-321e-47f7-9612-b33f0fbb2a84",
   "metadata": {
    "jp-MarkdownHeadingCollapsed": true
   },
   "source": [
    "<h5 style = 'color:red'> MNCAATourneyCompactResults.csv and WNCAATourneyCompactResults.csv </h5>"
   ]
  },
  {
   "cell_type": "code",
   "execution_count": null,
   "id": "91ad704d-1572-483a-ae5e-5ab87bc175ce",
   "metadata": {},
   "outputs": [],
   "source": [
    "MNCAATourneyCompactResults = pd.read_csv('../data/MNCAATourneyCompactResults.csv')\n",
    "WNCAATourneyCompactResults = pd.read_csv('../Data/WNCAATourneyCompactResults.csv')"
   ]
  },
  {
   "cell_type": "code",
   "execution_count": null,
   "id": "57e32db4-d055-4bb1-b506-4ecfeaa8260f",
   "metadata": {},
   "outputs": [],
   "source": [
    "MNCAATourneyCompactResults.head()"
   ]
  },
  {
   "cell_type": "code",
   "execution_count": null,
   "id": "b97446d1-17d9-498f-b281-301ef20a2a22",
   "metadata": {},
   "outputs": [],
   "source": [
    "WNCAATourneyCompactResults.head()"
   ]
  },
  {
   "cell_type": "markdown",
   "id": "44147998-60dd-4fb2-90bf-7da010bfdf87",
   "metadata": {
    "jp-MarkdownHeadingCollapsed": true
   },
   "source": [
    "<h5 style = 'color:red'>Sample Submission Stage1 </h5>"
   ]
  },
  {
   "cell_type": "code",
   "execution_count": null,
   "id": "c1159ee6-ba8a-42d2-b405-e160705bb165",
   "metadata": {},
   "outputs": [],
   "source": [
    "SampleSubmissionStage1 = pd.read_csv('../Data/SampleSubmissionStage1.csv')\n"
   ]
  },
  {
   "cell_type": "code",
   "execution_count": null,
   "id": "8ca14bac-a848-4336-aa8c-7a96597979c6",
   "metadata": {},
   "outputs": [],
   "source": [
    "SampleSubmissionStage1.head()"
   ]
  },
  {
   "cell_type": "markdown",
   "id": "2baf169d-5cc3-4e1a-9309-da54e6ad4507",
   "metadata": {
    "jp-MarkdownHeadingCollapsed": true
   },
   "source": [
    "## DataFrame Dictionary "
   ]
  },
  {
   "cell_type": "code",
   "execution_count": null,
   "id": "c5d1eced-228e-4284-93db-e6ffb73ac75b",
   "metadata": {},
   "outputs": [],
   "source": [
    "dict_df = {\n",
    "              'MTeams' : MTeams,\n",
    "              'WTeams' : WTeams,\n",
    "              'MSeasons' : MSeasons,\n",
    "              'WSeasons' : WSeasons,\n",
    "              'MNCAATourneySeeds' : MNCAATourneySeeds,\n",
    "               'WNCAATourneySeeds' : WNCAATourneySeeds,\n",
    "                'WRegularSeasonCompactResults' : WRegularSeasonCompactResults,\n",
    "                'MRegularSeasonCompactResults' : MRegularSeasonCompactResults,\n",
    "                'MNCAATourneyCompactResults' : MNCAATourneyCompactResults,\n",
    "                'WNCAATourneyCompactResults' : WNCAATourneyCompactResults\n",
    "                                   \n",
    "}  \n"
   ]
  },
  {
   "cell_type": "markdown",
   "id": "72f02126-57f5-49b8-a78c-858a0824950c",
   "metadata": {
    "jp-MarkdownHeadingCollapsed": true
   },
   "source": [
    "## Data Analysis"
   ]
  },
  {
   "cell_type": "markdown",
   "id": "4c225bc2-4f7e-4f33-9d2e-716188b9be8e",
   "metadata": {
    "jp-MarkdownHeadingCollapsed": true
   },
   "source": [
    "<h5>Mteams</h5>"
   ]
  },
  {
   "cell_type": "code",
   "execution_count": null,
   "id": "22ae3e20-1277-41bc-b64d-87f9c0a0b313",
   "metadata": {},
   "outputs": [],
   "source": [
    "MTeams.columns"
   ]
  },
  {
   "cell_type": "code",
   "execution_count": null,
   "id": "ee131183-fba8-43b8-a520-184cbfd96a90",
   "metadata": {},
   "outputs": [],
   "source": [
    "list(set(MTeams['LastD1Season']))"
   ]
  },
  {
   "cell_type": "code",
   "execution_count": null,
   "id": "b1324d37-642a-4612-a535-189b94204e4c",
   "metadata": {},
   "outputs": [],
   "source": [
    "MTeams = MTeams[MTeams['LastD1Season'] == 2025]"
   ]
  },
  {
   "cell_type": "code",
   "execution_count": null,
   "id": "fd98847e-b863-47c0-9032-3d2c95882cbe",
   "metadata": {},
   "outputs": [],
   "source": [
    "MTeams.shape"
   ]
  },
  {
   "cell_type": "code",
   "execution_count": null,
   "id": "171f40c7-c430-45d8-a070-c69005160e20",
   "metadata": {},
   "outputs": [],
   "source": [
    "len(list(set(MTeams['TeamName'])))"
   ]
  },
  {
   "cell_type": "code",
   "execution_count": null,
   "id": "7ec631c1-a2bd-436d-90e1-9fb6366a26c1",
   "metadata": {},
   "outputs": [],
   "source": [
    "list(set(MTeams['FirstD1Season']))"
   ]
  },
  {
   "cell_type": "code",
   "execution_count": null,
   "id": "64a06342-2fe1-49dd-9193-96bd41b28740",
   "metadata": {},
   "outputs": [],
   "source": [
    "MTeams.groupby('FirstD1Season').count()"
   ]
  },
  {
   "cell_type": "markdown",
   "id": "9929ad7d-70ce-4333-bd57-e265aaf997e9",
   "metadata": {},
   "source": []
  },
  {
   "cell_type": "markdown",
   "id": "6abe5c10-c548-402e-8bc8-5f8dbe41b961",
   "metadata": {
    "jp-MarkdownHeadingCollapsed": true
   },
   "source": [
    "<h5>MSeasons</h5>"
   ]
  },
  {
   "cell_type": "code",
   "execution_count": null,
   "id": "e67fa5de-e232-424e-bbad-cf31d730e99f",
   "metadata": {},
   "outputs": [],
   "source": []
  },
  {
   "cell_type": "code",
   "execution_count": null,
   "id": "64a7cbe9-23de-47f8-8b70-44a82e5344d5",
   "metadata": {},
   "outputs": [],
   "source": [
    "MSeasons.head()"
   ]
  },
  {
   "cell_type": "code",
   "execution_count": null,
   "id": "f275f177-970d-4673-b70f-4201da372f29",
   "metadata": {},
   "outputs": [],
   "source": [
    "regions = list(set(MSeasons['RegionW']).union(   set(MSeasons['RegionX'])   , set(MSeasons['RegionY'])  ,  set(MSeasons['RegionZ']) ))\n",
    "regions"
   ]
  },
  {
   "cell_type": "code",
   "execution_count": null,
   "id": "4b9dd6f1-7bf0-484b-b4e1-5aa9864a969d",
   "metadata": {},
   "outputs": [],
   "source": [
    "regionsW = list(set(MSeasons['RegionW']))\n",
    "regionsW"
   ]
  },
  {
   "cell_type": "code",
   "execution_count": null,
   "id": "386f7f59-31d2-427d-bc3a-7302a85c6f68",
   "metadata": {},
   "outputs": [],
   "source": [
    "regionsX = list(set(MSeasons['RegionX']))\n",
    "regionsX"
   ]
  },
  {
   "cell_type": "code",
   "execution_count": null,
   "id": "6ad24bc1-e10b-4bd4-b6b0-3bf4b96c54a2",
   "metadata": {},
   "outputs": [],
   "source": [
    "regionsY = list(set(MSeasons['RegionY']))\n",
    "regionsY"
   ]
  },
  {
   "cell_type": "code",
   "execution_count": null,
   "id": "40c16069-70a3-4950-b247-9af3a82b07c9",
   "metadata": {},
   "outputs": [],
   "source": [
    "regionsZ = list(set(MSeasons['RegionZ']))\n",
    "regionsZ"
   ]
  },
  {
   "cell_type": "code",
   "execution_count": null,
   "id": "71d92945-7a51-40b6-8cf6-26cd395696bb",
   "metadata": {},
   "outputs": [],
   "source": [
    "MSeasons.columns"
   ]
  },
  {
   "cell_type": "code",
   "execution_count": null,
   "id": "0682e278-299a-47d5-b17a-a3694a89528e",
   "metadata": {},
   "outputs": [],
   "source": [
    "MSeasons.describe()"
   ]
  },
  {
   "cell_type": "code",
   "execution_count": null,
   "id": "ae21b96e-dc54-4a4d-8062-2052a9e0eed9",
   "metadata": {},
   "outputs": [],
   "source": [
    "MSeasons.info()"
   ]
  },
  {
   "cell_type": "code",
   "execution_count": null,
   "id": "56035636-272b-4871-98b0-122ac3c27614",
   "metadata": {},
   "outputs": [],
   "source": [
    "(list(set(MSeasons['DayZero'])))"
   ]
  },
  {
   "cell_type": "markdown",
   "id": "129c2ebf-208e-497d-826a-9d6af6b162e3",
   "metadata": {},
   "source": [
    "<p>\n",
    "    How This Data Helps\n",
    "<p>1️⃣ Bracket Structure:\n",
    "\n",
    "Teams only compete within their region until the Final Four.\n",
    "We can track matchups round by round.</p>\n",
    "<p>2️⃣ Regional Strength Analysis:\n",
    "\n",
    "We can analyze which regions are tougher.\n",
    "Example: If W region has 3 top-10 teams, it might be a \"Group of Death.\"</p>\n",
    "<p>3️⃣ Predicting Upsets:\n",
    "\n",
    "If a #12 seed in Region X has beaten multiple #5 seeds historically, we might predict another 12-over-5 upset in that region.\n",
    "</p>"
   ]
  },
  {
   "cell_type": "markdown",
   "id": "62f7c7e6-c913-472d-8e11-fd36add028b2",
   "metadata": {
    "jp-MarkdownHeadingCollapsed": true
   },
   "source": [
    "<h5>MNCAATourneySeeds</h5>"
   ]
  },
  {
   "cell_type": "code",
   "execution_count": null,
   "id": "d75a00bb-dab1-4060-a5c2-454b298de02b",
   "metadata": {},
   "outputs": [],
   "source": [
    "set(MNCAATourneySeeds['Seed'])"
   ]
  },
  {
   "cell_type": "code",
   "execution_count": null,
   "id": "a43da4c0-c088-4d24-bd66-9e8b66041c73",
   "metadata": {},
   "outputs": [],
   "source": [
    "set(MNCAATourneySeeds['Season'])"
   ]
  },
  {
   "cell_type": "markdown",
   "id": "00e460c7-0c42-44f2-bd14-b1652a4423fc",
   "metadata": {},
   "source": [
    "The data is till 2024"
   ]
  },
  {
   "cell_type": "code",
   "execution_count": null,
   "id": "8709283d-41fb-4ced-947e-e118849ae1b3",
   "metadata": {},
   "outputs": [],
   "source": [
    "set( [ s[1:3] for s in list(MNCAATourneySeeds['Seed']) ] )"
   ]
  },
  {
   "cell_type": "markdown",
   "id": "cce2a4b3-d374-4c74-95f3-b13e151807b1",
   "metadata": {},
   "source": [
    "There is a good possiblity to draw the barcharts on averages of last 5 years, 10 years, 15 years and the peroformance of teams"
   ]
  },
  {
   "cell_type": "markdown",
   "id": "78aade77-8264-4d8d-85d4-ddfd1351a109",
   "metadata": {},
   "source": [
    "<p>🔹 Why Are They Important?</p>\n",
    "<p>📌 Momentum Boost → Play-in teams already won a high-stakes game, making them dangerous in the main tournament.</p>\n",
    "<p>📌 Upset Potential → Some play-in teams perform better than expected (e.g., UCLA went from play-in to Final Four in 2021).</p>\n",
    "<p>📌 Predictive Modeling → These teams have extra recent performance data, which could influence their win probability in the main bracket.</p>\n",
    "\n",
    "<p>TL;DR: Play-in games determine the final teams that enter March Madness. They can be a big factor in predicting upsets and understanding team momentum! 🚀</p>"
   ]
  },
  {
   "cell_type": "markdown",
   "id": "b852fbdd-1a18-4633-85b0-d3c0c51bfd62",
   "metadata": {
    "jp-MarkdownHeadingCollapsed": true
   },
   "source": [
    "<h5>Regular Season Compact Results</h5>"
   ]
  },
  {
   "cell_type": "code",
   "execution_count": null,
   "id": "5450816e-9eef-4f5f-8da2-8eec6e0d9ff1",
   "metadata": {},
   "outputs": [],
   "source": [
    "MRegularSeasonCompactResults.head()"
   ]
  },
  {
   "cell_type": "code",
   "execution_count": null,
   "id": "72823160-00a3-458c-84cb-4cb643ed504c",
   "metadata": {},
   "outputs": [],
   "source": [
    "for cols in MRegularSeasonCompactResults.columns : \n",
    "    print(cols,'\\n','='*20,'\\n',set(MRegularSeasonCompactResults[cols]))"
   ]
  },
  {
   "cell_type": "markdown",
   "id": "fe8f9bb3-6645-439d-ae26-a4b613bfc0bb",
   "metadata": {},
   "source": [
    "<p>📌 Why This Matters?</p>\n",
    "\n",
    "<p>Higher NumOT → The game was closely contested, indicating evenly matched teams.</p>\n",
    "<p>Fatigue Impact → A team playing multiple overtime games before the tournament might be more fatigued.</p>\n",
    "<p>Clutch Performance → Teams that frequently win in overtime might have strong late-game execution.</p>"
   ]
  },
  {
   "cell_type": "markdown",
   "id": "237ee138-55ad-44ea-a189-7f4114dd1cd0",
   "metadata": {},
   "source": [
    "<p>📌 Why This Matters?</p>\n",
    "\n",
    "<p>Home teams usually have an advantage due to crowd support and familiarity with the court.</p>\n",
    "<p>Neutral-site games (like March Madness tournament games) eliminate home-court advantage.</p>\n",
    "<p>Away wins may indicate a stronger team that can perform well in different environm</p>"
   ]
  },
  {
   "cell_type": "markdown",
   "id": "97854b16-866d-41e0-ba2e-d3419bbe57a9",
   "metadata": {
    "jp-MarkdownHeadingCollapsed": true
   },
   "source": [
    "<h5>MNCAATourneyCompactResults</h5>"
   ]
  },
  {
   "cell_type": "markdown",
   "id": "4006ae5e-5565-4e6c-8a58-401cf573b0b1",
   "metadata": {},
   "source": [
    "<p>Used to evaluate how teams perform under pressure in the tournament.</p>"
   ]
  },
  {
   "cell_type": "markdown",
   "id": "702d6dba-dfcb-496b-9ac9-fdd7660cb304",
   "metadata": {},
   "source": [
    "<p>✅ Regular Season Data is crucial for overall team performance trends.</p>\n",
    "<p>✅ Tournament Data is useful for March Madness-specific performance.</p>\n",
    "<p>✅ Since all tournament games are neutral-site, home-court advantage is not a factor in</p>"
   ]
  },
  {
   "cell_type": "markdown",
   "id": "a7d3b5f5-b572-4d4d-acb4-29e32e04c49e",
   "metadata": {
    "jp-MarkdownHeadingCollapsed": true
   },
   "source": [
    "## Data Cleaning and Exploration"
   ]
  },
  {
   "cell_type": "code",
   "execution_count": null,
   "id": "5d4c73a5-f5c4-4474-bd26-c6155c40bde3",
   "metadata": {},
   "outputs": [],
   "source": [
    "for df in dict_df.keys() : \n",
    "    print(df,' : ')\n",
    "    print(dict_df[df].head())\n",
    "    print('='*20)\n"
   ]
  },
  {
   "cell_type": "markdown",
   "id": "c52aa45b-658f-4d9b-a08b-b7d3d7da8efa",
   "metadata": {
    "jp-MarkdownHeadingCollapsed": true
   },
   "source": [
    "##### Null and missing values"
   ]
  },
  {
   "cell_type": "code",
   "execution_count": null,
   "id": "783c7909-d8e9-4e83-8700-fd8850178479",
   "metadata": {},
   "outputs": [],
   "source": [
    "for df in dict_df.keys() : \n",
    "    print(dict_df[df].columns)"
   ]
  },
  {
   "cell_type": "code",
   "execution_count": null,
   "id": "07b657a5-6ad7-4072-b264-e6c863be5821",
   "metadata": {},
   "outputs": [],
   "source": [
    "for df in dict_df.keys() : \n",
    "    print(df, \"  : \" )\n",
    "    print(dict_df[df].isnull().sum())\n",
    "    print('='*20)"
   ]
  },
  {
   "cell_type": "markdown",
   "id": "aab68d3b-1a6e-4432-a7d1-6853082378a2",
   "metadata": {},
   "source": [
    "No null values"
   ]
  },
  {
   "cell_type": "code",
   "execution_count": null,
   "id": "f3bfe415-5849-4cff-9249-4230f1e17a90",
   "metadata": {},
   "outputs": [],
   "source": [
    "for df in dict_df.keys() : \n",
    "     for cols in dict_df[df].columns : \n",
    "         print(f\"{df}___{cols} unique values\")\n",
    "         print(set(dict_df[df][cols]),'\\n')\n",
    "         print(\"=\"*20)"
   ]
  },
  {
   "cell_type": "code",
   "execution_count": null,
   "id": "75fe64fc-0d78-49ae-9a9a-34f1334f6b2f",
   "metadata": {},
   "outputs": [],
   "source": [
    "dict_df['WSeasons'][dict_df['WSeasons']['RegionZ'] == 'NA4']"
   ]
  },
  {
   "cell_type": "code",
   "execution_count": null,
   "id": "2e8f5ee8-baf3-43d0-979d-9fc475bc746f",
   "metadata": {},
   "outputs": [],
   "source": [
    "dict_df['WSeasons'][dict_df['WSeasons']['RegionY'] == 'NA3']"
   ]
  },
  {
   "cell_type": "code",
   "execution_count": null,
   "id": "ec790b3a-0cd5-4300-b14e-8ec8011f3d86",
   "metadata": {},
   "outputs": [],
   "source": [
    "dict_df['WSeasons'][dict_df['WSeasons']['RegionX'] == 'NA2']"
   ]
  },
  {
   "cell_type": "code",
   "execution_count": null,
   "id": "07bdcf38-08d1-4e1a-ba5c-95fb03aa6043",
   "metadata": {},
   "outputs": [],
   "source": [
    "dict_df['WSeasons'][dict_df['WSeasons']['RegionW'] == 'NA1']"
   ]
  },
  {
   "cell_type": "markdown",
   "id": "d489faa2-4bba-4bbc-b0b5-eae028ec4a21",
   "metadata": {},
   "source": [
    "Removing NA1 and TBD\n"
   ]
  },
  {
   "cell_type": "code",
   "execution_count": null,
   "id": "2f7a0b01-177c-4245-a6d4-d67e77df395b",
   "metadata": {},
   "outputs": [],
   "source": [
    "dict_df['WSeasons'] = dict_df['WSeasons'][dict_df['WSeasons']['RegionZ'] != 'NA4']"
   ]
  },
  {
   "cell_type": "code",
   "execution_count": null,
   "id": "f2ba2317-b105-463a-bbd5-e5ee6d15d24c",
   "metadata": {},
   "outputs": [],
   "source": [
    "dict_df['WSeasons'] = dict_df['WSeasons'][dict_df['WSeasons']['RegionZ'] != 'TBD4']"
   ]
  },
  {
   "cell_type": "code",
   "execution_count": null,
   "id": "3d44577d-3162-44eb-94d4-34b02588a179",
   "metadata": {},
   "outputs": [],
   "source": [
    "dict_df['WSeasons']"
   ]
  },
  {
   "cell_type": "code",
   "execution_count": null,
   "id": "b387bd8b-7359-4a78-856d-ba1066e74475",
   "metadata": {},
   "outputs": [],
   "source": [
    "dict_df['MSeasons'] = dict_df['MSeasons'][dict_df['MSeasons']['RegionZ'] != 'NA4']"
   ]
  },
  {
   "cell_type": "code",
   "execution_count": null,
   "id": "d30a8cda-219c-4613-832b-8db8d0480e2d",
   "metadata": {},
   "outputs": [],
   "source": [
    "dict_df['MSeasons'] = dict_df['MSeasons'][dict_df['MSeasons']['RegionZ'] != 'TBD4']"
   ]
  },
  {
   "cell_type": "code",
   "execution_count": null,
   "id": "5a0c2adc-04e8-444d-8cd6-0387769ad151",
   "metadata": {},
   "outputs": [],
   "source": [
    "dict_df['MSeasons']"
   ]
  },
  {
   "cell_type": "code",
   "execution_count": null,
   "id": "51ac5606-aa9c-4889-b742-c484e58c0a5f",
   "metadata": {},
   "outputs": [],
   "source": []
  },
  {
   "cell_type": "markdown",
   "id": "4a672f37-b976-403f-aef6-232f63553019",
   "metadata": {
    "jp-MarkdownHeadingCollapsed": true
   },
   "source": [
    "<h2>Analysis Dictionary</h2>"
   ]
  },
  {
   "cell_type": "code",
   "execution_count": null,
   "id": "bbd1c5ad-831e-404f-bb4c-3e425b15b09c",
   "metadata": {},
   "outputs": [],
   "source": [
    "df_ans_dict = {}"
   ]
  },
  {
   "cell_type": "markdown",
   "id": "71ff9049-c7a5-41d9-8f9c-504910d409cf",
   "metadata": {
    "jp-MarkdownHeadingCollapsed": true
   },
   "source": [
    "## Exploratory Data Analysis"
   ]
  },
  {
   "cell_type": "code",
   "execution_count": null,
   "id": "d6ebc7ea-30f5-4233-afde-6620baa994a3",
   "metadata": {},
   "outputs": [],
   "source": [
    "win = dict_df['MRegularSeasonCompactResults'].groupby(['WTeamID','WLoc']).agg({'WTeamID' : 'count'})\n",
    "win.rename(columns = {'WTeamID':'Won'},inplace = True)\n",
    "win.reset_index(inplace = True)\n",
    "\n",
    "loss = dict_df['MRegularSeasonCompactResults'].groupby(['LTeamID','WLoc']).agg({'LTeamID' : 'count'})\n",
    "loss.rename(columns = {'LTeamID':'loss'},inplace = True)\n",
    "loss.reset_index(inplace = True)\n",
    "\n",
    "win_df = pd.merge(win,loss,how = 'inner',left_on= ['WTeamID','WLoc'],right_on = ['LTeamID','WLoc'])\n",
    "win_df['Total'] = win_df['Won'] + win_df['loss']\n",
    "win_df['win_per'] = ((win_df['Won'] * 100.0) /win_df['Total']) \n",
    "\n",
    "df_ans_dict['win_df'] = win_df \n",
    "\n"
   ]
  },
  {
   "cell_type": "markdown",
   "id": "7fda2a17-4937-4de9-935d-642c71ea54a0",
   "metadata": {
    "jp-MarkdownHeadingCollapsed": true
   },
   "source": [
    "<h4 style = \"color: red\" >Winning Percentage</h4>"
   ]
  },
  {
   "cell_type": "code",
   "execution_count": null,
   "id": "0b103d90-c069-42ac-b087-bc8325aaf40b",
   "metadata": {},
   "outputs": [],
   "source": [
    "fig,ax = plt.subplots(figsize = (14,6),ncols=2)\n",
    "\n",
    "sns.swarmplot(win_df['win_per'],ax = ax[0])\n",
    "sns.boxplot(win_df['win_per'],ax = ax[1])\n",
    "\n",
    "ax[0].set_title(\"Swarn plot of win percentage\")\n",
    "ax[1].set_title(\"Box plot of win percentage\")\n",
    "\n",
    "plt.show()"
   ]
  },
  {
   "cell_type": "markdown",
   "id": "d0037bdc-9d47-4ee6-961a-5fd57ceba57d",
   "metadata": {},
   "source": [
    "There are teams that are performing badly and then there are teams who are performing extremely good."
   ]
  },
  {
   "cell_type": "markdown",
   "id": "8a725ebc-c8fa-4f79-a4ff-fa49a31d6d61",
   "metadata": {
    "jp-MarkdownHeadingCollapsed": true
   },
   "source": [
    "<h4 style = \"color: red\" >Point Differential</h4>"
   ]
  },
  {
   "cell_type": "code",
   "execution_count": null,
   "id": "9046b9e1-b730-46f5-a081-79aa86156d25",
   "metadata": {},
   "outputs": [],
   "source": [
    "winpd = pd.DataFrame( { 'Score' :  dict_df['MRegularSeasonCompactResults']['WScore']  - dict_df['MRegularSeasonCompactResults']['LScore'] , \n",
    "                        'TeamID'  : dict_df['MRegularSeasonCompactResults']['WTeamID'] }   ) \n",
    "winpd"
   ]
  },
  {
   "cell_type": "code",
   "execution_count": null,
   "id": "73e8b6f7-e961-4f49-8d59-d01edbce7ed5",
   "metadata": {},
   "outputs": [],
   "source": [
    "losspd = pd.DataFrame( { 'Score' :  dict_df['MRegularSeasonCompactResults']['LScore']  - dict_df['MRegularSeasonCompactResults']['WScore'] , \n",
    "                        'TeamID'  : dict_df['MRegularSeasonCompactResults']['LTeamID'] }   ) \n",
    "losspd"
   ]
  },
  {
   "cell_type": "code",
   "execution_count": null,
   "id": "b5b8b1bd-dd7a-4036-942b-6df784f045ff",
   "metadata": {},
   "outputs": [],
   "source": [
    "df = pd.concat([winpd,losspd])\n",
    "df"
   ]
  },
  {
   "cell_type": "code",
   "execution_count": null,
   "id": "62339fb3-d8b2-4f89-8964-37b5741e90dc",
   "metadata": {},
   "outputs": [],
   "source": [
    "team_score = df.groupby('TeamID').sum(['Score'])"
   ]
  },
  {
   "cell_type": "code",
   "execution_count": null,
   "id": "694e835b-367c-47d7-befe-8ad9d67c54d8",
   "metadata": {},
   "outputs": [],
   "source": [
    "team_score.reset_index(inplace = True)"
   ]
  },
  {
   "cell_type": "code",
   "execution_count": null,
   "id": "3e050776-cfb4-4627-906e-d15291f1f3b1",
   "metadata": {},
   "outputs": [],
   "source": [
    "print(np.min(team_score['Score']))\n",
    "print(np.max(team_score['Score']))\n"
   ]
  },
  {
   "cell_type": "code",
   "execution_count": null,
   "id": "f6308a83-53c5-4db4-bc05-65a96601656a",
   "metadata": {},
   "outputs": [],
   "source": [
    "team_score\n"
   ]
  },
  {
   "cell_type": "code",
   "execution_count": null,
   "id": "c21b63bf-1979-4d63-b94e-47646b1d313e",
   "metadata": {},
   "outputs": [],
   "source": [
    "fig, ax = plt.subplots() \n",
    "sns.boxplot(team_score['Score'], ax = ax)"
   ]
  },
  {
   "cell_type": "markdown",
   "id": "b0765f1a-043f-4400-a99a-1438e331b2d3",
   "metadata": {
    "jp-MarkdownHeadingCollapsed": true
   },
   "source": [
    "<h4 style =  \"color :red \" >Seeds vs Win</h4>"
   ]
  },
  {
   "cell_type": "code",
   "execution_count": null,
   "id": "f57e41e4-fe6b-447a-9b93-1ba6799ce659",
   "metadata": {},
   "outputs": [],
   "source": [
    "dict_df['MNCAATourneySeeds'].columns"
   ]
  },
  {
   "cell_type": "code",
   "execution_count": null,
   "id": "ef769071-2c20-4197-b632-3af1c53151de",
   "metadata": {},
   "outputs": [],
   "source": [
    "dict_df['MNCAATourneyCompactResults'].columns"
   ]
  },
  {
   "cell_type": "code",
   "execution_count": null,
   "id": "2147a242-f9f8-458e-ab25-94e075e69bda",
   "metadata": {},
   "outputs": [],
   "source": [
    "tourney_results = dict_df['MNCAATourneyCompactResults']\n",
    "win = pd.DataFrame( {\n",
    "            'TeamID': tourney_results['WTeamID'],\n",
    "             'Score' : tourney_results['WScore'],\n",
    "             'Season' : tourney_results['Season']\n",
    "} ) \n",
    "\n",
    "win = win.groupby(['TeamID','Season']).agg({'Score':'sum'}).reset_index()\n",
    "win\n",
    "\n",
    "loss = pd.DataFrame({\n",
    "            'TeamID' : tourney_results['LTeamID'],\n",
    "            'Score' : tourney_results['LScore'],\n",
    "            'Season' : tourney_results['Season']\n",
    "})\n",
    "\n",
    "loss = loss.groupby(['TeamID','Season']).agg({'Score':'sum'}).reset_index()\n",
    "loss\n",
    "\n",
    "score_season_avg = pd.concat([win,loss])\n",
    "score_season_avg  = score_season_avg.groupby(['TeamID','Season']).agg({'Score':'sum'}).reset_index()\n",
    "score_season_avg \n"
   ]
  },
  {
   "cell_type": "code",
   "execution_count": null,
   "id": "bd289038-f8ba-4f0f-ad92-eab2fb551cff",
   "metadata": {},
   "outputs": [],
   "source": [
    "score_seed_season = pd.merge(score_season_avg,dict_df['MNCAATourneySeeds'],how='inner',right_on=['TeamID','Season'],left_on=['TeamID','Season'])"
   ]
  },
  {
   "cell_type": "code",
   "execution_count": null,
   "id": "485df17c-11c3-4a8c-b6ee-fb644a64f968",
   "metadata": {},
   "outputs": [],
   "source": [
    "score_seed_season['Seed'] = score_seed_season['Seed'].str.extract('(\\d+)').astype(int)"
   ]
  },
  {
   "cell_type": "code",
   "execution_count": null,
   "id": "8b431b55-b18c-4df6-b76c-18a327c8caf3",
   "metadata": {},
   "outputs": [],
   "source": [
    "score_seed_season"
   ]
  },
  {
   "cell_type": "code",
   "execution_count": null,
   "id": "1480a64a-cd31-442c-afa1-78d923ed0340",
   "metadata": {},
   "outputs": [],
   "source": [
    "fig, ax = plt.subplots()\n",
    "sns.scatterplot(x = score_seed_season['Seed'],y = score_seed_season['Score'],ax = ax) \n",
    "plt.show()"
   ]
  },
  {
   "cell_type": "markdown",
   "id": "35922381-71ea-4ee8-8da7-b0a37165ba8e",
   "metadata": {
    "jp-MarkdownHeadingCollapsed": true
   },
   "source": [
    "<h4 style = 'color:red'>Home Advantage Analysis</h4>"
   ]
  },
  {
   "cell_type": "code",
   "execution_count": null,
   "id": "4a4353a0-fea0-4248-adae-2f58943977c0",
   "metadata": {},
   "outputs": [],
   "source": [
    "dict_df['MRegularSeasonCompactResults'].columns\n"
   ]
  },
  {
   "cell_type": "code",
   "execution_count": null,
   "id": "41c97a15-f108-4426-84cf-bd49d9e92b7e",
   "metadata": {},
   "outputs": [],
   "source": [
    "WLoc_win = dict_df['MRegularSeasonCompactResults'].groupby(['WLoc','WTeamID']).count().reset_index().rename(columns = {'Season':'Win','WTeamID' : 'TeamID'})[['WLoc', 'TeamID', 'Win']]\n",
    "WLoc_loss = dict_df['MRegularSeasonCompactResults'].groupby(['WLoc','LTeamID']).count().reset_index().rename(columns = {'Season':'Loss','LTeamID' : 'TeamID'})[['WLoc', 'TeamID', 'Loss']]\n"
   ]
  },
  {
   "cell_type": "code",
   "execution_count": null,
   "id": "dfc1ef7f-31f9-45de-8c63-aea9c38bc9a5",
   "metadata": {},
   "outputs": [],
   "source": [
    "WLoc = pd.merge(WLoc_win,WLoc_loss,how='inner',left_on=['WLoc','TeamID'],right_on=['WLoc','TeamID'])\n",
    "WLoc['Total'] = WLoc['Win'] + WLoc['Loss']\n",
    "WLoc = WLoc.groupby(['WLoc','TeamID']).sum().reset_index()\n",
    "WLoc['Win%'] =   ( ( WLoc['Win']* 100.0 ) / WLoc['Total'] ) \n",
    "WLoc"
   ]
  },
  {
   "cell_type": "code",
   "execution_count": null,
   "id": "6fcfbd37-32d2-452f-950b-cd2ea759fa57",
   "metadata": {},
   "outputs": [],
   "source": [
    "np.min(WLoc['Win%'])"
   ]
  },
  {
   "cell_type": "code",
   "execution_count": null,
   "id": "cb37921f-1197-4a85-9da6-d351d52a1a2a",
   "metadata": {},
   "outputs": [],
   "source": [
    "fig, axes = plt.subplots(nrows=3)\n",
    "set_wloc = list(set(WLoc['WLoc']) )\n",
    "                \n",
    "for i in  range(len(set_wloc)) : \n",
    "    sns.boxplot(WLoc[WLoc['WLoc'] == set_wloc[i]]['Win%'], ax = axes[i])\n",
    "    axes[i].set_title(f'Distribution of Win% by  {set_wloc[i]}')\n",
    "\n",
    "fig.set_figwidth(8)\n",
    "fig.set_figheight(10)\n",
    "plt.show()"
   ]
  },
  {
   "cell_type": "markdown",
   "id": "7c93dae7-269d-45c6-82d2-51f543225056",
   "metadata": {
    "jp-MarkdownHeadingCollapsed": true
   },
   "source": [
    "<h4 style = 'color:red'> Tournament Results with seeds</h4>"
   ]
  },
  {
   "cell_type": "code",
   "execution_count": null,
   "id": "a853edf7-3bc1-43fb-b586-069885b10c34",
   "metadata": {},
   "outputs": [],
   "source": [
    "dict_df.keys()"
   ]
  },
  {
   "cell_type": "code",
   "execution_count": null,
   "id": "e3015266-692c-4abc-8648-bd95f9da15f4",
   "metadata": {},
   "outputs": [],
   "source": [
    "LTourneySeeds = dict_df['MNCAATourneySeeds'].rename(columns={'TeamID' : 'LTeamID' , 'Seed' : 'LSeed'})\n",
    "RTourneySeeds = dict_df['MNCAATourneySeeds'].rename(columns={'TeamID' : 'WTeamID' , 'Seed' : 'WSeed'})\n",
    "print(LTourneySeeds.columns)\n",
    "print(RTourneySeeds.columns)"
   ]
  },
  {
   "cell_type": "code",
   "execution_count": null,
   "id": "1b70df25-4edb-4dbc-bb8a-f828e008d066",
   "metadata": {},
   "outputs": [],
   "source": [
    "temp = pd.merge(dict_df['MNCAATourneyCompactResults'],LTourneySeeds,how = 'inner',left_on=['Season','LTeamID'] , right_on=['Season','LTeamID'] )\n",
    "TourneyResultswithSeeds = pd.merge(temp,RTourneySeeds,how = 'inner', left_on= ['Season','WTeamID'], right_on=['Season','WTeamID'])\n",
    "TourneyResultswithSeeds = TourneyResultswithSeeds[['Season', 'DayNum', 'WTeamID', 'WScore', 'LScore', 'WLoc',\n",
    "       'NumOT', 'LSeed', 'WSeed']]\n",
    "TourneyResultswithSeeds = TourneyResultswithSeeds[TourneyResultswithSeeds['WLoc'] == 'N']\n",
    "\n",
    "l = TourneyResultswithSeeds['LSeed'].str.extract('([a-zA-Z]+)') \n",
    "\n",
    "set(l[0])\n",
    "\n",
    "TourneyResultswithSeeds['LSeed'].str.extract('(\\d+)')\n",
    "\n",
    "TourneyResultswithSeeds['LSeed'] = TourneyResultswithSeeds['LSeed'].str.extract('(\\d+)')\n",
    "\n",
    "TourneyResultswithSeeds['WSeed'] = TourneyResultswithSeeds['WSeed'].str.extract('(\\d+)')\n",
    "\n",
    "TourneyResultswithSeeds['status'] = np.where( TourneyResultswithSeeds['WSeed'] >  TourneyResultswithSeeds['LSeed']  , 'Upset', 'Seed')\n",
    "TourneyResultswithSeeds"
   ]
  },
  {
   "cell_type": "code",
   "execution_count": null,
   "id": "b18ac9ea-67e0-4b8a-9307-e7db915f5e5c",
   "metadata": {},
   "outputs": [],
   "source": [
    "TourneyResultswithSeeds = TourneyResultswithSeeds.groupby(['status','Season']).agg({'WTeamID':'count'}).reset_index().rename(columns = {'WTeamID' : 'count'})\n"
   ]
  },
  {
   "cell_type": "code",
   "execution_count": null,
   "id": "cbe63287-f224-4949-a3d6-c094b4aff3da",
   "metadata": {},
   "outputs": [],
   "source": [
    "TourneyResultswithSeeds"
   ]
  },
  {
   "cell_type": "code",
   "execution_count": null,
   "id": "9f59ee0c-7407-476a-8126-a90df25b15a1",
   "metadata": {},
   "outputs": [],
   "source": [
    "TourneyResultswithSeeds.to_csv(\"TourneyResultswithSeeds.csv\", index=False)"
   ]
  },
  {
   "cell_type": "code",
   "execution_count": null,
   "id": "40aa0a3c-e631-49fa-a2be-041e08eae12d",
   "metadata": {},
   "outputs": [],
   "source": [
    "fig, ax = plt.subplots()\n",
    "ax.plot(TourneyResultswithSeeds[ TourneyResultswithSeeds['status'] == 'Seed']['Season'] ,TourneyResultswithSeeds[TourneyResultswithSeeds['status'] == 'Seed']['count'],label = 'Seed Wins' )\n",
    "\n",
    "ax.plot(TourneyResultswithSeeds[ TourneyResultswithSeeds['status'] == 'Upset']['Season'],TourneyResultswithSeeds[TourneyResultswithSeeds['status'] == 'Upset' ]['count'],label = 'Upset Wins' )\n",
    "ax.legend()\n",
    "plt.show()"
   ]
  },
  {
   "cell_type": "code",
   "execution_count": null,
   "id": "42976911-1e50-486e-869b-5d455c78a2c2",
   "metadata": {},
   "outputs": [],
   "source": [
    "fig, ax = plt.subplots()\n",
    "ax.plot(TourneyResultswithSeeds[TourneyResultswithSeeds['status'] == 'Upset']['Season'],TourneyResultswithSeeds[TourneyResultswithSeeds['status'] == 'Upset']['count'] )\n",
    "plt.show()"
   ]
  },
  {
   "cell_type": "markdown",
   "id": "0eaecc6b-3f5c-4d79-8274-3b7277fd962a",
   "metadata": {},
   "source": [
    "## Feature Engineering"
   ]
  },
  {
   "cell_type": "markdown",
   "id": "8a8b0f92-28a6-4e74-91cc-466e17d48d25",
   "metadata": {},
   "source": [
    "### Team Strength Metrics"
   ]
  },
  {
   "cell_type": "code",
   "execution_count": null,
   "id": "b775755f-2a57-4c5b-bedc-3085c1f557ac",
   "metadata": {},
   "outputs": [],
   "source": [
    "temp_win = MRegularSeasonCompactResults.groupby(['WTeamID','Season']).size().reset_index(name = 'Wins')\n",
    "temp_win"
   ]
  },
  {
   "cell_type": "code",
   "execution_count": null,
   "id": "934e8821-2352-4ede-a7c5-b4d858779890",
   "metadata": {},
   "outputs": [],
   "source": [
    "temp_loss = MRegularSeasonCompactResults.groupby(['LTeamID','Season']).size().reset_index(name = 'loss')\n",
    "temp_loss"
   ]
  },
  {
   "cell_type": "code",
   "execution_count": null,
   "id": "72739ada-7488-4ca1-8150-89039294cfa9",
   "metadata": {},
   "outputs": [],
   "source": [
    "temp_season = pd.merge(temp_win,temp_loss,how = 'outer',left_on = ['WTeamID','Season'], right_on=['LTeamID','Season'])\n",
    "temp_season['loss'].isnull().sum()\n",
    "temp_season.fillna(0,inplace=True)\n",
    "temp_season.isnull().sum()\n",
    "temp_season['Total Games'] = temp_season['loss'] + temp_season['Wins']\n",
    "temp_season['WSeason_pct'] = ((temp_season['Wins']*100.0)/temp_season['Total Games'])\n",
    "temp_season"
   ]
  },
  {
   "cell_type": "code",
   "execution_count": null,
   "id": "f3004d9f-52e0-4332-bfef-ca29022eba1d",
   "metadata": {},
   "outputs": [],
   "source": [
    "temp_win = dict_df['MNCAATourneyCompactResults'].groupby(['WTeamID','Season']).size().reset_index(name = 'Wins')\n",
    "temp_win"
   ]
  },
  {
   "cell_type": "code",
   "execution_count": null,
   "id": "05345010-b75c-48e0-b296-d0ba0d8eb68d",
   "metadata": {},
   "outputs": [],
   "source": [
    "temp_loss =  dict_df['MNCAATourneyCompactResults'].groupby(['LTeamID','Season']).size().reset_index(name = 'loss')\n",
    "temp_loss"
   ]
  },
  {
   "cell_type": "code",
   "execution_count": null,
   "id": "698b38e6-dae8-49a2-b597-5a458e095b2e",
   "metadata": {},
   "outputs": [],
   "source": [
    "temp_tourney = pd.merge(temp_win,temp_loss,how = 'outer',left_on = ['WTeamID','Season'], right_on=['LTeamID','Season'])\n",
    "temp_tourney.isnull().sum()"
   ]
  },
  {
   "cell_type": "code",
   "execution_count": null,
   "id": "a4cdcb92-ac91-4780-9384-3cf3d3eca945",
   "metadata": {},
   "outputs": [],
   "source": [
    "temp_tourney.fillna(0, inplace= True)\n",
    "temp_tourney.isnull().sum()"
   ]
  },
  {
   "cell_type": "code",
   "execution_count": 110,
   "id": "00ad8838-7602-44e3-bdf1-eb051b6aa657",
   "metadata": {},
   "outputs": [
    {
     "data": {
      "text/html": [
       "<div>\n",
       "<style scoped>\n",
       "    .dataframe tbody tr th:only-of-type {\n",
       "        vertical-align: middle;\n",
       "    }\n",
       "\n",
       "    .dataframe tbody tr th {\n",
       "        vertical-align: top;\n",
       "    }\n",
       "\n",
       "    .dataframe thead th {\n",
       "        text-align: right;\n",
       "    }\n",
       "</style>\n",
       "<table border=\"1\" class=\"dataframe\">\n",
       "  <thead>\n",
       "    <tr style=\"text-align: right;\">\n",
       "      <th></th>\n",
       "      <th>WTeamID</th>\n",
       "      <th>Season</th>\n",
       "      <th>Wins</th>\n",
       "      <th>LTeamID</th>\n",
       "      <th>loss</th>\n",
       "      <th>Total Games</th>\n",
       "      <th>WTourney_pct</th>\n",
       "    </tr>\n",
       "  </thead>\n",
       "  <tbody>\n",
       "    <tr>\n",
       "      <th>0</th>\n",
       "      <td>0.0</td>\n",
       "      <td>2019</td>\n",
       "      <td>0.0</td>\n",
       "      <td>1101.0</td>\n",
       "      <td>1.0</td>\n",
       "      <td>1.0</td>\n",
       "      <td>0.000000</td>\n",
       "    </tr>\n",
       "    <tr>\n",
       "      <th>1</th>\n",
       "      <td>1101.0</td>\n",
       "      <td>2021</td>\n",
       "      <td>1.0</td>\n",
       "      <td>1101.0</td>\n",
       "      <td>1.0</td>\n",
       "      <td>2.0</td>\n",
       "      <td>50.000000</td>\n",
       "    </tr>\n",
       "    <tr>\n",
       "      <th>2</th>\n",
       "      <td>0.0</td>\n",
       "      <td>2004</td>\n",
       "      <td>0.0</td>\n",
       "      <td>1102.0</td>\n",
       "      <td>1.0</td>\n",
       "      <td>1.0</td>\n",
       "      <td>0.000000</td>\n",
       "    </tr>\n",
       "    <tr>\n",
       "      <th>3</th>\n",
       "      <td>0.0</td>\n",
       "      <td>2006</td>\n",
       "      <td>0.0</td>\n",
       "      <td>1102.0</td>\n",
       "      <td>1.0</td>\n",
       "      <td>1.0</td>\n",
       "      <td>0.000000</td>\n",
       "    </tr>\n",
       "    <tr>\n",
       "      <th>4</th>\n",
       "      <td>0.0</td>\n",
       "      <td>1986</td>\n",
       "      <td>0.0</td>\n",
       "      <td>1103.0</td>\n",
       "      <td>1.0</td>\n",
       "      <td>1.0</td>\n",
       "      <td>0.000000</td>\n",
       "    </tr>\n",
       "    <tr>\n",
       "      <th>...</th>\n",
       "      <td>...</td>\n",
       "      <td>...</td>\n",
       "      <td>...</td>\n",
       "      <td>...</td>\n",
       "      <td>...</td>\n",
       "      <td>...</td>\n",
       "      <td>...</td>\n",
       "    </tr>\n",
       "    <tr>\n",
       "      <th>2552</th>\n",
       "      <td>1462.0</td>\n",
       "      <td>2023</td>\n",
       "      <td>2.0</td>\n",
       "      <td>1462.0</td>\n",
       "      <td>1.0</td>\n",
       "      <td>3.0</td>\n",
       "      <td>66.666667</td>\n",
       "    </tr>\n",
       "    <tr>\n",
       "      <th>2553</th>\n",
       "      <td>1463.0</td>\n",
       "      <td>2016</td>\n",
       "      <td>1.0</td>\n",
       "      <td>1463.0</td>\n",
       "      <td>1.0</td>\n",
       "      <td>2.0</td>\n",
       "      <td>50.000000</td>\n",
       "    </tr>\n",
       "    <tr>\n",
       "      <th>2554</th>\n",
       "      <td>0.0</td>\n",
       "      <td>2019</td>\n",
       "      <td>0.0</td>\n",
       "      <td>1463.0</td>\n",
       "      <td>1.0</td>\n",
       "      <td>1.0</td>\n",
       "      <td>0.000000</td>\n",
       "    </tr>\n",
       "    <tr>\n",
       "      <th>2555</th>\n",
       "      <td>0.0</td>\n",
       "      <td>2022</td>\n",
       "      <td>0.0</td>\n",
       "      <td>1463.0</td>\n",
       "      <td>1.0</td>\n",
       "      <td>1.0</td>\n",
       "      <td>0.000000</td>\n",
       "    </tr>\n",
       "    <tr>\n",
       "      <th>2556</th>\n",
       "      <td>1463.0</td>\n",
       "      <td>2024</td>\n",
       "      <td>1.0</td>\n",
       "      <td>1463.0</td>\n",
       "      <td>1.0</td>\n",
       "      <td>2.0</td>\n",
       "      <td>50.000000</td>\n",
       "    </tr>\n",
       "  </tbody>\n",
       "</table>\n",
       "<p>2557 rows × 7 columns</p>\n",
       "</div>"
      ],
      "text/plain": [
       "      WTeamID  Season  Wins  LTeamID  loss  Total Games  WTourney_pct\n",
       "0         0.0    2019   0.0   1101.0   1.0          1.0      0.000000\n",
       "1      1101.0    2021   1.0   1101.0   1.0          2.0     50.000000\n",
       "2         0.0    2004   0.0   1102.0   1.0          1.0      0.000000\n",
       "3         0.0    2006   0.0   1102.0   1.0          1.0      0.000000\n",
       "4         0.0    1986   0.0   1103.0   1.0          1.0      0.000000\n",
       "...       ...     ...   ...      ...   ...          ...           ...\n",
       "2552   1462.0    2023   2.0   1462.0   1.0          3.0     66.666667\n",
       "2553   1463.0    2016   1.0   1463.0   1.0          2.0     50.000000\n",
       "2554      0.0    2019   0.0   1463.0   1.0          1.0      0.000000\n",
       "2555      0.0    2022   0.0   1463.0   1.0          1.0      0.000000\n",
       "2556   1463.0    2024   1.0   1463.0   1.0          2.0     50.000000\n",
       "\n",
       "[2557 rows x 7 columns]"
      ]
     },
     "execution_count": 110,
     "metadata": {},
     "output_type": "execute_result"
    }
   ],
   "source": [
    "temp_tourney['Total Games'] = temp_tourney['loss'] + temp_tourney['Wins']\n",
    "temp_tourney['WTourney_pct'] = ((temp_tourney['Wins']*100.0)/temp_tourney['Total Games'])\n",
    "temp_tourney"
   ]
  },
  {
   "cell_type": "code",
   "execution_count": 113,
   "id": "ac3bfdb8-0aa7-4e54-9376-366b03f3c464",
   "metadata": {},
   "outputs": [
    {
     "data": {
      "text/plain": [
       "WTeamID            0\n",
       "Season             0\n",
       "Wins_x           809\n",
       "LTeamID_x        809\n",
       "loss_x           809\n",
       "Total Games_x    809\n",
       "WSeason_pct      809\n",
       "Wins_y             0\n",
       "LTeamID_y          0\n",
       "loss_y             0\n",
       "Total Games_y      0\n",
       "WTourney_pct       0\n",
       "dtype: int64"
      ]
     },
     "execution_count": 113,
     "metadata": {},
     "output_type": "execute_result"
    }
   ],
   "source": [
    "temp_winpct = pd.merge(temp_season,temp_tourney,how = 'right',left_on=['WTeamID','Season'],right_on=['WTeamID','Season'])\n",
    "temp_winpct.isnull().sum()"
   ]
  },
  {
   "cell_type": "code",
   "execution_count": 114,
   "id": "3b264ac0-ad45-4124-a59b-ffbeacd85e61",
   "metadata": {},
   "outputs": [
    {
     "data": {
      "text/plain": [
       "WTeamID          0\n",
       "Season           0\n",
       "Wins_x           0\n",
       "LTeamID_x        0\n",
       "loss_x           0\n",
       "Total Games_x    0\n",
       "WSeason_pct      0\n",
       "Wins_y           0\n",
       "LTeamID_y        0\n",
       "loss_y           0\n",
       "Total Games_y    0\n",
       "WTourney_pct     0\n",
       "dtype: int64"
      ]
     },
     "execution_count": 114,
     "metadata": {},
     "output_type": "execute_result"
    }
   ],
   "source": [
    "temp_winpct.fillna(0,inplace=True)\n",
    "temp_winpct.isnull().sum()"
   ]
  },
  {
   "cell_type": "code",
   "execution_count": 115,
   "id": "4028bcc0-c234-41f9-ad95-22aa00c2f498",
   "metadata": {},
   "outputs": [
    {
     "data": {
      "text/html": [
       "<div>\n",
       "<style scoped>\n",
       "    .dataframe tbody tr th:only-of-type {\n",
       "        vertical-align: middle;\n",
       "    }\n",
       "\n",
       "    .dataframe tbody tr th {\n",
       "        vertical-align: top;\n",
       "    }\n",
       "\n",
       "    .dataframe thead th {\n",
       "        text-align: right;\n",
       "    }\n",
       "</style>\n",
       "<table border=\"1\" class=\"dataframe\">\n",
       "  <thead>\n",
       "    <tr style=\"text-align: right;\">\n",
       "      <th></th>\n",
       "      <th>WTeamID</th>\n",
       "      <th>Season</th>\n",
       "      <th>Wins_x</th>\n",
       "      <th>LTeamID_x</th>\n",
       "      <th>loss_x</th>\n",
       "      <th>Total Games_x</th>\n",
       "      <th>WSeason_pct</th>\n",
       "      <th>Wins_y</th>\n",
       "      <th>LTeamID_y</th>\n",
       "      <th>loss_y</th>\n",
       "      <th>Total Games_y</th>\n",
       "      <th>WTourney_pct</th>\n",
       "    </tr>\n",
       "  </thead>\n",
       "  <tbody>\n",
       "    <tr>\n",
       "      <th>0</th>\n",
       "      <td>0.0</td>\n",
       "      <td>2019</td>\n",
       "      <td>0.0</td>\n",
       "      <td>0.0</td>\n",
       "      <td>0.0</td>\n",
       "      <td>0.0</td>\n",
       "      <td>0.000000</td>\n",
       "      <td>0.0</td>\n",
       "      <td>1101.0</td>\n",
       "      <td>1.0</td>\n",
       "      <td>1.0</td>\n",
       "      <td>0.0</td>\n",
       "    </tr>\n",
       "    <tr>\n",
       "      <th>1</th>\n",
       "      <td>1101.0</td>\n",
       "      <td>2021</td>\n",
       "      <td>19.0</td>\n",
       "      <td>1101.0</td>\n",
       "      <td>4.0</td>\n",
       "      <td>23.0</td>\n",
       "      <td>82.608696</td>\n",
       "      <td>1.0</td>\n",
       "      <td>1101.0</td>\n",
       "      <td>1.0</td>\n",
       "      <td>2.0</td>\n",
       "      <td>50.0</td>\n",
       "    </tr>\n",
       "    <tr>\n",
       "      <th>2</th>\n",
       "      <td>0.0</td>\n",
       "      <td>2004</td>\n",
       "      <td>0.0</td>\n",
       "      <td>0.0</td>\n",
       "      <td>0.0</td>\n",
       "      <td>0.0</td>\n",
       "      <td>0.000000</td>\n",
       "      <td>0.0</td>\n",
       "      <td>1102.0</td>\n",
       "      <td>1.0</td>\n",
       "      <td>1.0</td>\n",
       "      <td>0.0</td>\n",
       "    </tr>\n",
       "    <tr>\n",
       "      <th>3</th>\n",
       "      <td>0.0</td>\n",
       "      <td>2006</td>\n",
       "      <td>0.0</td>\n",
       "      <td>0.0</td>\n",
       "      <td>0.0</td>\n",
       "      <td>0.0</td>\n",
       "      <td>0.000000</td>\n",
       "      <td>0.0</td>\n",
       "      <td>1102.0</td>\n",
       "      <td>1.0</td>\n",
       "      <td>1.0</td>\n",
       "      <td>0.0</td>\n",
       "    </tr>\n",
       "    <tr>\n",
       "      <th>4</th>\n",
       "      <td>0.0</td>\n",
       "      <td>1986</td>\n",
       "      <td>0.0</td>\n",
       "      <td>1159.0</td>\n",
       "      <td>22.0</td>\n",
       "      <td>22.0</td>\n",
       "      <td>0.000000</td>\n",
       "      <td>0.0</td>\n",
       "      <td>1103.0</td>\n",
       "      <td>1.0</td>\n",
       "      <td>1.0</td>\n",
       "      <td>0.0</td>\n",
       "    </tr>\n",
       "    <tr>\n",
       "      <th>...</th>\n",
       "      <td>...</td>\n",
       "      <td>...</td>\n",
       "      <td>...</td>\n",
       "      <td>...</td>\n",
       "      <td>...</td>\n",
       "      <td>...</td>\n",
       "      <td>...</td>\n",
       "      <td>...</td>\n",
       "      <td>...</td>\n",
       "      <td>...</td>\n",
       "      <td>...</td>\n",
       "      <td>...</td>\n",
       "    </tr>\n",
       "    <tr>\n",
       "      <th>2650</th>\n",
       "      <td>1463.0</td>\n",
       "      <td>2016</td>\n",
       "      <td>21.0</td>\n",
       "      <td>1463.0</td>\n",
       "      <td>6.0</td>\n",
       "      <td>27.0</td>\n",
       "      <td>77.777778</td>\n",
       "      <td>1.0</td>\n",
       "      <td>1463.0</td>\n",
       "      <td>1.0</td>\n",
       "      <td>2.0</td>\n",
       "      <td>50.0</td>\n",
       "    </tr>\n",
       "    <tr>\n",
       "      <th>2651</th>\n",
       "      <td>0.0</td>\n",
       "      <td>2019</td>\n",
       "      <td>0.0</td>\n",
       "      <td>0.0</td>\n",
       "      <td>0.0</td>\n",
       "      <td>0.0</td>\n",
       "      <td>0.000000</td>\n",
       "      <td>0.0</td>\n",
       "      <td>1463.0</td>\n",
       "      <td>1.0</td>\n",
       "      <td>1.0</td>\n",
       "      <td>0.0</td>\n",
       "    </tr>\n",
       "    <tr>\n",
       "      <th>2652</th>\n",
       "      <td>0.0</td>\n",
       "      <td>2022</td>\n",
       "      <td>0.0</td>\n",
       "      <td>1175.0</td>\n",
       "      <td>25.0</td>\n",
       "      <td>25.0</td>\n",
       "      <td>0.000000</td>\n",
       "      <td>0.0</td>\n",
       "      <td>1463.0</td>\n",
       "      <td>1.0</td>\n",
       "      <td>1.0</td>\n",
       "      <td>0.0</td>\n",
       "    </tr>\n",
       "    <tr>\n",
       "      <th>2653</th>\n",
       "      <td>0.0</td>\n",
       "      <td>2022</td>\n",
       "      <td>0.0</td>\n",
       "      <td>1249.0</td>\n",
       "      <td>27.0</td>\n",
       "      <td>27.0</td>\n",
       "      <td>0.000000</td>\n",
       "      <td>0.0</td>\n",
       "      <td>1463.0</td>\n",
       "      <td>1.0</td>\n",
       "      <td>1.0</td>\n",
       "      <td>0.0</td>\n",
       "    </tr>\n",
       "    <tr>\n",
       "      <th>2654</th>\n",
       "      <td>1463.0</td>\n",
       "      <td>2024</td>\n",
       "      <td>20.0</td>\n",
       "      <td>1463.0</td>\n",
       "      <td>9.0</td>\n",
       "      <td>29.0</td>\n",
       "      <td>68.965517</td>\n",
       "      <td>1.0</td>\n",
       "      <td>1463.0</td>\n",
       "      <td>1.0</td>\n",
       "      <td>2.0</td>\n",
       "      <td>50.0</td>\n",
       "    </tr>\n",
       "  </tbody>\n",
       "</table>\n",
       "<p>2655 rows × 12 columns</p>\n",
       "</div>"
      ],
      "text/plain": [
       "      WTeamID  Season  Wins_x  LTeamID_x  loss_x  Total Games_x  WSeason_pct  \\\n",
       "0         0.0    2019     0.0        0.0     0.0            0.0     0.000000   \n",
       "1      1101.0    2021    19.0     1101.0     4.0           23.0    82.608696   \n",
       "2         0.0    2004     0.0        0.0     0.0            0.0     0.000000   \n",
       "3         0.0    2006     0.0        0.0     0.0            0.0     0.000000   \n",
       "4         0.0    1986     0.0     1159.0    22.0           22.0     0.000000   \n",
       "...       ...     ...     ...        ...     ...            ...          ...   \n",
       "2650   1463.0    2016    21.0     1463.0     6.0           27.0    77.777778   \n",
       "2651      0.0    2019     0.0        0.0     0.0            0.0     0.000000   \n",
       "2652      0.0    2022     0.0     1175.0    25.0           25.0     0.000000   \n",
       "2653      0.0    2022     0.0     1249.0    27.0           27.0     0.000000   \n",
       "2654   1463.0    2024    20.0     1463.0     9.0           29.0    68.965517   \n",
       "\n",
       "      Wins_y  LTeamID_y  loss_y  Total Games_y  WTourney_pct  \n",
       "0        0.0     1101.0     1.0            1.0           0.0  \n",
       "1        1.0     1101.0     1.0            2.0          50.0  \n",
       "2        0.0     1102.0     1.0            1.0           0.0  \n",
       "3        0.0     1102.0     1.0            1.0           0.0  \n",
       "4        0.0     1103.0     1.0            1.0           0.0  \n",
       "...      ...        ...     ...            ...           ...  \n",
       "2650     1.0     1463.0     1.0            2.0          50.0  \n",
       "2651     0.0     1463.0     1.0            1.0           0.0  \n",
       "2652     0.0     1463.0     1.0            1.0           0.0  \n",
       "2653     0.0     1463.0     1.0            1.0           0.0  \n",
       "2654     1.0     1463.0     1.0            2.0          50.0  \n",
       "\n",
       "[2655 rows x 12 columns]"
      ]
     },
     "execution_count": 115,
     "metadata": {},
     "output_type": "execute_result"
    }
   ],
   "source": [
    "temp_winpct"
   ]
  },
  {
   "cell_type": "code",
   "execution_count": 117,
   "id": "21a1d2d0-8ac4-43d7-906c-3442c63a94fa",
   "metadata": {},
   "outputs": [],
   "source": [
    "temp_winpct.to_csv('Team Season Win.csv',index= False)"
   ]
  },
  {
   "cell_type": "code",
   "execution_count": 128,
   "id": "243da7fb-58e2-47a6-8462-2eb6ac78a52c",
   "metadata": {},
   "outputs": [
    {
     "data": {
      "text/plain": [
       "{0.0,\n",
       " 1101.0,\n",
       " 1104.0,\n",
       " 1107.0,\n",
       " 1112.0,\n",
       " 1113.0,\n",
       " 1114.0,\n",
       " 1115.0,\n",
       " 1116.0,\n",
       " 1120.0,\n",
       " 1122.0,\n",
       " 1123.0,\n",
       " 1124.0,\n",
       " 1125.0,\n",
       " 1130.0,\n",
       " 1133.0,\n",
       " 1137.0,\n",
       " 1138.0,\n",
       " 1139.0,\n",
       " 1140.0,\n",
       " 1141.0,\n",
       " 1142.0,\n",
       " 1143.0,\n",
       " 1150.0,\n",
       " 1151.0,\n",
       " 1153.0,\n",
       " 1155.0,\n",
       " 1156.0,\n",
       " 1158.0,\n",
       " 1160.0,\n",
       " 1161.0,\n",
       " 1163.0,\n",
       " 1164.0,\n",
       " 1165.0,\n",
       " 1166.0,\n",
       " 1172.0,\n",
       " 1173.0,\n",
       " 1177.0,\n",
       " 1178.0,\n",
       " 1179.0,\n",
       " 1180.0,\n",
       " 1181.0,\n",
       " 1182.0,\n",
       " 1185.0,\n",
       " 1190.0,\n",
       " 1191.0,\n",
       " 1192.0,\n",
       " 1194.0,\n",
       " 1195.0,\n",
       " 1196.0,\n",
       " 1197.0,\n",
       " 1199.0,\n",
       " 1201.0,\n",
       " 1202.0,\n",
       " 1203.0,\n",
       " 1206.0,\n",
       " 1207.0,\n",
       " 1208.0,\n",
       " 1209.0,\n",
       " 1210.0,\n",
       " 1211.0,\n",
       " 1212.0,\n",
       " 1213.0,\n",
       " 1214.0,\n",
       " 1217.0,\n",
       " 1218.0,\n",
       " 1221.0,\n",
       " 1222.0,\n",
       " 1228.0,\n",
       " 1229.0,\n",
       " 1231.0,\n",
       " 1232.0,\n",
       " 1234.0,\n",
       " 1235.0,\n",
       " 1241.0,\n",
       " 1242.0,\n",
       " 1243.0,\n",
       " 1245.0,\n",
       " 1246.0,\n",
       " 1247.0,\n",
       " 1250.0,\n",
       " 1251.0,\n",
       " 1256.0,\n",
       " 1257.0,\n",
       " 1258.0,\n",
       " 1260.0,\n",
       " 1261.0,\n",
       " 1264.0,\n",
       " 1266.0,\n",
       " 1267.0,\n",
       " 1268.0,\n",
       " 1269.0,\n",
       " 1272.0,\n",
       " 1273.0,\n",
       " 1274.0,\n",
       " 1275.0,\n",
       " 1276.0,\n",
       " 1277.0,\n",
       " 1278.0,\n",
       " 1279.0,\n",
       " 1280.0,\n",
       " 1281.0,\n",
       " 1283.0,\n",
       " 1284.0,\n",
       " 1285.0,\n",
       " 1287.0,\n",
       " 1291.0,\n",
       " 1292.0,\n",
       " 1293.0,\n",
       " 1295.0,\n",
       " 1298.0,\n",
       " 1299.0,\n",
       " 1301.0,\n",
       " 1305.0,\n",
       " 1307.0,\n",
       " 1308.0,\n",
       " 1309.0,\n",
       " 1310.0,\n",
       " 1313.0,\n",
       " 1314.0,\n",
       " 1317.0,\n",
       " 1320.0,\n",
       " 1321.0,\n",
       " 1322.0,\n",
       " 1323.0,\n",
       " 1324.0,\n",
       " 1325.0,\n",
       " 1326.0,\n",
       " 1328.0,\n",
       " 1329.0,\n",
       " 1330.0,\n",
       " 1331.0,\n",
       " 1332.0,\n",
       " 1333.0,\n",
       " 1334.0,\n",
       " 1335.0,\n",
       " 1336.0,\n",
       " 1337.0,\n",
       " 1338.0,\n",
       " 1343.0,\n",
       " 1344.0,\n",
       " 1345.0,\n",
       " 1347.0,\n",
       " 1348.0,\n",
       " 1350.0,\n",
       " 1352.0,\n",
       " 1353.0,\n",
       " 1356.0,\n",
       " 1360.0,\n",
       " 1361.0,\n",
       " 1364.0,\n",
       " 1365.0,\n",
       " 1371.0,\n",
       " 1372.0,\n",
       " 1373.0,\n",
       " 1374.0,\n",
       " 1375.0,\n",
       " 1376.0,\n",
       " 1378.0,\n",
       " 1380.0,\n",
       " 1382.0,\n",
       " 1385.0,\n",
       " 1386.0,\n",
       " 1387.0,\n",
       " 1388.0,\n",
       " 1389.0,\n",
       " 1390.0,\n",
       " 1393.0,\n",
       " 1394.0,\n",
       " 1395.0,\n",
       " 1396.0,\n",
       " 1397.0,\n",
       " 1400.0,\n",
       " 1401.0,\n",
       " 1403.0,\n",
       " 1408.0,\n",
       " 1409.0,\n",
       " 1411.0,\n",
       " 1412.0,\n",
       " 1413.0,\n",
       " 1414.0,\n",
       " 1416.0,\n",
       " 1417.0,\n",
       " 1418.0,\n",
       " 1420.0,\n",
       " 1421.0,\n",
       " 1423.0,\n",
       " 1424.0,\n",
       " 1425.0,\n",
       " 1427.0,\n",
       " 1428.0,\n",
       " 1429.0,\n",
       " 1431.0,\n",
       " 1433.0,\n",
       " 1434.0,\n",
       " 1435.0,\n",
       " 1436.0,\n",
       " 1437.0,\n",
       " 1438.0,\n",
       " 1439.0,\n",
       " 1443.0,\n",
       " 1444.0,\n",
       " 1447.0,\n",
       " 1448.0,\n",
       " 1449.0,\n",
       " 1450.0,\n",
       " 1451.0,\n",
       " 1452.0,\n",
       " 1453.0,\n",
       " 1454.0,\n",
       " 1455.0,\n",
       " 1457.0,\n",
       " 1458.0,\n",
       " 1459.0,\n",
       " 1460.0,\n",
       " 1461.0,\n",
       " 1462.0,\n",
       " 1463.0}"
      ]
     },
     "execution_count": 128,
     "metadata": {},
     "output_type": "execute_result"
    }
   ],
   "source": [
    "temp_tourney['PointDiff_win'] = MNCAATourneyCompactResults['WScore'] - MNCAATourneyCompactResults['LScore']\n",
    "temp_tourney['PointDiff_loss'] = MNCAATourneyCompactResults['LScore'] - MNCAATourneyCompactResults['WScore']\n",
    "temp_tourney"
   ]
  },
  {
   "cell_type": "code",
   "execution_count": null,
   "id": "7a35b09e-1cbf-4e0c-935c-ac6ee4e3cd3f",
   "metadata": {},
   "outputs": [],
   "source": []
  }
 ],
 "metadata": {
  "kernelspec": {
   "display_name": "Python 3 (ipykernel)",
   "language": "python",
   "name": "python3"
  },
  "language_info": {
   "codemirror_mode": {
    "name": "ipython",
    "version": 3
   },
   "file_extension": ".py",
   "mimetype": "text/x-python",
   "name": "python",
   "nbconvert_exporter": "python",
   "pygments_lexer": "ipython3",
   "version": "3.10.16"
  }
 },
 "nbformat": 4,
 "nbformat_minor": 5
}
