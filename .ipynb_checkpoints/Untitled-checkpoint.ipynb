{
 "cells": [
  {
   "cell_type": "code",
   "execution_count": 2,
   "id": "55a238cd-2deb-4424-82d8-6926227abba6",
   "metadata": {},
   "outputs": [],
   "source": [
    "import numpy as np"
   ]
  },
  {
   "cell_type": "code",
   "execution_count": 3,
   "id": "0410827c-f154-4ea0-b400-5be44acd50f3",
   "metadata": {},
   "outputs": [],
   "source": [
    "def sigmoid(x) : \n",
    "    return 1/ (1 +  np.exp(-x) ) "
   ]
  },
  {
   "cell_type": "code",
   "execution_count": 5,
   "id": "799452f3-c6dd-427a-bc02-4a066c387f6d",
   "metadata": {},
   "outputs": [
    {
     "data": {
      "text/plain": [
       "array([[4128860, 6029375],\n",
       "       [7274573, 7209077],\n",
       "       [5242996, 6881391],\n",
       "       [7602286, 6357069],\n",
       "       [6357102, 6619239],\n",
       "       [    114, 3342437]])"
      ]
     },
     "execution_count": 5,
     "metadata": {},
     "output_type": "execute_result"
    }
   ],
   "source": [
    "inp = np.ndarray(shape = (6,2), dtype = float )\n",
    "inp"
   ]
  },
  {
   "cell_type": "code",
   "execution_count": 13,
   "id": "260fcb59-5c72-4162-828b-32b23265f6d0",
   "metadata": {},
   "outputs": [],
   "source": [
    "inp = np.array([[-0.32,-0.66],[1.61,1.8],[-0.32,-0.03],[-0.32,-0.05],[0.65,-0.02],[-1.29,-1.15]])"
   ]
  },
  {
   "cell_type": "code",
   "execution_count": 14,
   "id": "b3fc0fa7-f6ec-4ae1-84bc-220462365295",
   "metadata": {},
   "outputs": [
    {
     "data": {
      "text/plain": [
       "numpy.ndarray"
      ]
     },
     "execution_count": 14,
     "metadata": {},
     "output_type": "execute_result"
    }
   ],
   "source": [
    "type(inp)"
   ]
  },
  {
   "cell_type": "code",
   "execution_count": 15,
   "id": "04d2f4aa-2610-4a77-ac0f-9efdbb2cf042",
   "metadata": {},
   "outputs": [
    {
     "data": {
      "text/plain": [
       "array([[-0.32, -0.66],\n",
       "       [ 1.61,  1.8 ],\n",
       "       [-0.32, -0.03],\n",
       "       [-0.32, -0.05],\n",
       "       [ 0.65, -0.02],\n",
       "       [-1.29, -1.15]])"
      ]
     },
     "execution_count": 15,
     "metadata": {},
     "output_type": "execute_result"
    }
   ],
   "source": [
    "inp"
   ]
  },
  {
   "cell_type": "code",
   "execution_count": 16,
   "id": "e55fa39e-0fcb-468c-932c-8c31c53314ed",
   "metadata": {},
   "outputs": [
    {
     "data": {
      "text/plain": [
       "array([[0.2 , 0.5 ],\n",
       "       [0.15, 0.6 ]])"
      ]
     },
     "execution_count": 16,
     "metadata": {},
     "output_type": "execute_result"
    }
   ],
   "source": [
    "W1 = np.array([[0.2,0.5],[0.15,0.6]])\n",
    "W1"
   ]
  },
  {
   "cell_type": "code",
   "execution_count": 24,
   "id": "29e95688-a894-472b-9be2-f7b64facde34",
   "metadata": {},
   "outputs": [],
   "source": [
    "Z = np.matmul(inp,W1)"
   ]
  },
  {
   "cell_type": "code",
   "execution_count": 23,
   "id": "583940d1-2283-4807-8e19-9212cd8326c7",
   "metadata": {},
   "outputs": [
    {
     "data": {
      "text/plain": [
       "array([0.1 , 0.25])"
      ]
     },
     "execution_count": 23,
     "metadata": {},
     "output_type": "execute_result"
    }
   ],
   "source": [
    "b = np.array([0.1,0.25])\n",
    "b"
   ]
  },
  {
   "cell_type": "code",
   "execution_count": 25,
   "id": "6cb78567-c14e-46fe-87ca-9e3f150a6e71",
   "metadata": {},
   "outputs": [
    {
     "data": {
      "text/plain": [
       "array([[-0.063 , -0.306 ],\n",
       "       [ 0.692 ,  2.135 ],\n",
       "       [ 0.0315,  0.072 ],\n",
       "       [ 0.0285,  0.06  ],\n",
       "       [ 0.227 ,  0.563 ],\n",
       "       [-0.3305, -1.085 ]])"
      ]
     },
     "execution_count": 25,
     "metadata": {},
     "output_type": "execute_result"
    }
   ],
   "source": [
    "Z = np.add(Z,b)\n",
    "Z"
   ]
  },
  {
   "cell_type": "code",
   "execution_count": 28,
   "id": "2ae5f25c-4b86-411b-9115-f8a57526d97b",
   "metadata": {},
   "outputs": [
    {
     "data": {
      "text/plain": [
       "array([[0.48425521, 0.42409139],\n",
       "       [0.66641169, 0.89425874],\n",
       "       [0.50787435, 0.51799223],\n",
       "       [0.50712452, 0.5149955 ],\n",
       "       [0.55650756, 0.6371464 ],\n",
       "       [0.41811897, 0.25256098]])"
      ]
     },
     "execution_count": 28,
     "metadata": {},
     "output_type": "execute_result"
    }
   ],
   "source": [
    "h1  = sigmoid(Z)\n",
    "h1"
   ]
  },
  {
   "cell_type": "code",
   "execution_count": 29,
   "id": "4fb33897-f1f8-4799-bcb5-7c68cca270cb",
   "metadata": {},
   "outputs": [
    {
     "data": {
      "text/plain": [
       "array([[0.3],\n",
       "       [0.2]])"
      ]
     },
     "execution_count": 29,
     "metadata": {},
     "output_type": "execute_result"
    }
   ],
   "source": [
    "W2 =  np.array([[0.3],[0.2]])\n",
    "W2"
   ]
  },
  {
   "cell_type": "code",
   "execution_count": 31,
   "id": "6e7d9672-6650-4295-8d03-f3ec9a326a4f",
   "metadata": {},
   "outputs": [],
   "source": [
    "b2 = np.array([[0.4]])"
   ]
  },
  {
   "cell_type": "code",
   "execution_count": 30,
   "id": "886352f1-86b4-421e-ba09-13b27edc4e1c",
   "metadata": {},
   "outputs": [
    {
     "data": {
      "text/plain": [
       "array([[0.23009484],\n",
       "       [0.37877525],\n",
       "       [0.25596075],\n",
       "       [0.25513646],\n",
       "       [0.29438155],\n",
       "       [0.17594789]])"
      ]
     },
     "execution_count": 30,
     "metadata": {},
     "output_type": "execute_result"
    }
   ],
   "source": [
    "Z = np.matmul(h1,W2)\n",
    "Z"
   ]
  },
  {
   "cell_type": "code",
   "execution_count": 32,
   "id": "16335e80-96fe-4d82-b5da-937706d75d90",
   "metadata": {},
   "outputs": [],
   "source": [
    "Z = np.add(Z,b2)"
   ]
  },
  {
   "cell_type": "code",
   "execution_count": 33,
   "id": "4d9b575b-799f-4dba-aab8-1dc311ecbfd9",
   "metadata": {},
   "outputs": [
    {
     "data": {
      "text/plain": [
       "array([[0.63009484],\n",
       "       [0.77877525],\n",
       "       [0.65596075],\n",
       "       [0.65513646],\n",
       "       [0.69438155],\n",
       "       [0.57594789]])"
      ]
     },
     "execution_count": 33,
     "metadata": {},
     "output_type": "execute_result"
    }
   ],
   "source": [
    "Z"
   ]
  },
  {
   "cell_type": "code",
   "execution_count": 34,
   "id": "f6407e57-7fcb-4d2a-a199-96acddd67788",
   "metadata": {},
   "outputs": [
    {
     "data": {
      "text/plain": [
       "array([[0.65251097],\n",
       "       [0.68541609],\n",
       "       [0.65835244],\n",
       "       [0.65816702],\n",
       "       [0.66694091],\n",
       "       [0.64013448]])"
      ]
     },
     "execution_count": 34,
     "metadata": {},
     "output_type": "execute_result"
    }
   ],
   "source": [
    "h2 = sigmoid(Z)\n",
    "h2"
   ]
  },
  {
   "cell_type": "code",
   "execution_count": 16,
   "id": "b6446c4f-6073-480a-b508-dafbd0ef1750",
   "metadata": {},
   "outputs": [],
   "source": [
    "l = np.array([11,19,10])"
   ]
  },
  {
   "cell_type": "code",
   "execution_count": 17,
   "id": "9b0ce6ad-9208-4a80-a5fb-440ba7453edc",
   "metadata": {},
   "outputs": [
    {
     "data": {
      "text/plain": [
       "array([5.98741417e+04, 1.78482301e+08, 2.20264658e+04])"
      ]
     },
     "execution_count": 17,
     "metadata": {},
     "output_type": "execute_result"
    }
   ],
   "source": [
    "l  = np.exp(l)\n",
    "l"
   ]
  },
  {
   "cell_type": "code",
   "execution_count": 18,
   "id": "59711668-d858-4f4b-b413-cc07aaeeca11",
   "metadata": {},
   "outputs": [
    {
     "data": {
      "text/plain": [
       "[0.00033530876395452874, 0.9995413380353421, 0.0001233532007034791]"
      ]
     },
     "execution_count": 18,
     "metadata": {},
     "output_type": "execute_result"
    }
   ],
   "source": [
    "l = [   e/np.sum(l) for e in l ] \n",
    "l"
   ]
  },
  {
   "cell_type": "code",
   "execution_count": null,
   "id": "9b300dbb-1d90-40fe-bbdc-0a3edb9d1f6e",
   "metadata": {},
   "outputs": [],
   "source": []
  }
 ],
 "metadata": {
  "kernelspec": {
   "display_name": "Python 3 (ipykernel)",
   "language": "python",
   "name": "python3"
  },
  "language_info": {
   "codemirror_mode": {
    "name": "ipython",
    "version": 3
   },
   "file_extension": ".py",
   "mimetype": "text/x-python",
   "name": "python",
   "nbconvert_exporter": "python",
   "pygments_lexer": "ipython3",
   "version": "3.10.16"
  }
 },
 "nbformat": 4,
 "nbformat_minor": 5
}
